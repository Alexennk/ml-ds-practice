{
 "cells": [
  {
   "cell_type": "markdown",
   "metadata": {},
   "source": [
    "## ETL layer\n",
    "\n",
    "### **Description:**\n",
    "\n",
    "- Create an ETL layer based on DQC"
   ]
  },
  {
   "cell_type": "code",
   "execution_count": 2,
   "metadata": {},
   "outputs": [],
   "source": [
    "import numpy as np\n",
    "import pandas as pd\n",
    "import matplotlib.pyplot as plt\n",
    "\n",
    "import sys\n",
    "sys.path.append('../')\n",
    "from scripts.etl import ETLTransform, transform_df_types, create_full_train_dataset # etl.py module\n",
    "from scripts.dqc import DataQualityCheck # for \"check_negative_values\" function"
   ]
  },
  {
   "cell_type": "markdown",
   "metadata": {},
   "source": [
    "## 1. Change dtypes for **df_train** columns"
   ]
  },
  {
   "cell_type": "markdown",
   "metadata": {},
   "source": [
    "### Load all necessary data into dataframes at first"
   ]
  },
  {
   "cell_type": "code",
   "execution_count": 3,
   "metadata": {},
   "outputs": [],
   "source": [
    "train_df = pd.read_csv('../data/sales_train.csv')\n",
    "test_df = pd.read_csv('../data/test.csv')\n",
    "items_df = pd.read_csv('../data/items.csv')\n",
    "categories_df = pd.read_csv('../data/item_categories.csv')\n",
    "shops_df = pd.read_csv('../data/shops.csv')"
   ]
  },
  {
   "cell_type": "code",
   "execution_count": 4,
   "metadata": {},
   "outputs": [
    {
     "name": "stdout",
     "output_type": "stream",
     "text": [
      "<class 'pandas.core.frame.DataFrame'>\n",
      "RangeIndex: 2935849 entries, 0 to 2935848\n",
      "Data columns (total 6 columns):\n",
      " #   Column          Dtype  \n",
      "---  ------          -----  \n",
      " 0   date            object \n",
      " 1   date_block_num  int64  \n",
      " 2   shop_id         int64  \n",
      " 3   item_id         int64  \n",
      " 4   item_price      float64\n",
      " 5   item_cnt_day    float64\n",
      "dtypes: float64(2), int64(3), object(1)\n",
      "memory usage: 134.4+ MB\n"
     ]
    }
   ],
   "source": [
    "train_df.info()"
   ]
  },
  {
   "cell_type": "markdown",
   "metadata": {},
   "source": [
    "As it was mentioned earlier, all numerical data can be safely put into int/float-32 dtypes. Moreover, all **item_cnt_day** values are actually integers as well as **date** feature should be of 'datetime' type"
   ]
  },
  {
   "cell_type": "code",
   "execution_count": 5,
   "metadata": {},
   "outputs": [
    {
     "name": "stdout",
     "output_type": "stream",
     "text": [
      "<class 'pandas.core.frame.DataFrame'>\n",
      "RangeIndex: 2935849 entries, 0 to 2935848\n",
      "Data columns (total 6 columns):\n",
      " #   Column          Dtype         \n",
      "---  ------          -----         \n",
      " 0   date            datetime64[ns]\n",
      " 1   date_block_num  float32       \n",
      " 2   shop_id         float32       \n",
      " 3   item_id         float32       \n",
      " 4   item_price      float32       \n",
      " 5   item_cnt_day    float32       \n",
      "dtypes: datetime64[ns](1), float32(5)\n",
      "memory usage: 78.4 MB\n"
     ]
    }
   ],
   "source": [
    "train_df = transform_df_types(train_df, transform_date=True)\n",
    "train_df.info()"
   ]
  },
  {
   "cell_type": "markdown",
   "metadata": {},
   "source": [
    "### Do the same for other dataframes' integer columns"
   ]
  },
  {
   "cell_type": "code",
   "execution_count": 5,
   "metadata": {},
   "outputs": [
    {
     "name": "stdout",
     "output_type": "stream",
     "text": [
      "<class 'pandas.core.frame.DataFrame'>\n",
      "RangeIndex: 214200 entries, 0 to 214199\n",
      "Data columns (total 3 columns):\n",
      " #   Column   Non-Null Count   Dtype\n",
      "---  ------   --------------   -----\n",
      " 0   ID       214200 non-null  int64\n",
      " 1   shop_id  214200 non-null  int64\n",
      " 2   item_id  214200 non-null  int64\n",
      "dtypes: int64(3)\n",
      "memory usage: 4.9 MB\n"
     ]
    }
   ],
   "source": [
    "test_df.info()"
   ]
  },
  {
   "cell_type": "code",
   "execution_count": 6,
   "metadata": {},
   "outputs": [],
   "source": [
    "test_df = transform_df_types(test_df)"
   ]
  },
  {
   "cell_type": "code",
   "execution_count": 7,
   "metadata": {},
   "outputs": [
    {
     "name": "stdout",
     "output_type": "stream",
     "text": [
      "<class 'pandas.core.frame.DataFrame'>\n",
      "RangeIndex: 22170 entries, 0 to 22169\n",
      "Data columns (total 4 columns):\n",
      " #   Column            Non-Null Count  Dtype \n",
      "---  ------            --------------  ----- \n",
      " 0   item_name         22170 non-null  object\n",
      " 1   item_id           22170 non-null  int64 \n",
      " 2   item_category_id  22170 non-null  int64 \n",
      " 3   clean_item_name   22170 non-null  object\n",
      "dtypes: int64(2), object(2)\n",
      "memory usage: 692.9+ KB\n"
     ]
    }
   ],
   "source": [
    "import re\n",
    "\n",
    "def clean_item_name(name):\n",
    "    name = re.sub(r'[^\\w\\s]', '', name)\n",
    "    name = re.sub(r' D$', '', name)\n",
    "    return name.lower()\n",
    "\n",
    "# add cleaned item_name column to analyze item_names after merging\n",
    "items_df['clean_item_name'] = items_df['item_name'].apply(clean_item_name)\n",
    "\n",
    "items_df.info()"
   ]
  },
  {
   "cell_type": "code",
   "execution_count": 8,
   "metadata": {},
   "outputs": [],
   "source": [
    "items_df = transform_df_types(items_df)"
   ]
  },
  {
   "cell_type": "code",
   "execution_count": 9,
   "metadata": {},
   "outputs": [
    {
     "name": "stdout",
     "output_type": "stream",
     "text": [
      "<class 'pandas.core.frame.DataFrame'>\n",
      "RangeIndex: 84 entries, 0 to 83\n",
      "Data columns (total 2 columns):\n",
      " #   Column              Non-Null Count  Dtype \n",
      "---  ------              --------------  ----- \n",
      " 0   item_category_name  84 non-null     object\n",
      " 1   item_category_id    84 non-null     int64 \n",
      "dtypes: int64(1), object(1)\n",
      "memory usage: 1.4+ KB\n"
     ]
    }
   ],
   "source": [
    "categories_df.info()"
   ]
  },
  {
   "cell_type": "code",
   "execution_count": 10,
   "metadata": {},
   "outputs": [],
   "source": [
    "categories_df = transform_df_types(categories_df)"
   ]
  },
  {
   "cell_type": "code",
   "execution_count": 11,
   "metadata": {},
   "outputs": [
    {
     "name": "stdout",
     "output_type": "stream",
     "text": [
      "<class 'pandas.core.frame.DataFrame'>\n",
      "RangeIndex: 60 entries, 0 to 59\n",
      "Data columns (total 2 columns):\n",
      " #   Column     Non-Null Count  Dtype \n",
      "---  ------     --------------  ----- \n",
      " 0   shop_name  60 non-null     object\n",
      " 1   shop_id    60 non-null     int64 \n",
      "dtypes: int64(1), object(1)\n",
      "memory usage: 1.1+ KB\n"
     ]
    }
   ],
   "source": [
    "shops_df.info()"
   ]
  },
  {
   "cell_type": "code",
   "execution_count": 12,
   "metadata": {},
   "outputs": [],
   "source": [
    "shops_df = transform_df_types(shops_df)"
   ]
  },
  {
   "cell_type": "markdown",
   "metadata": {},
   "source": [
    "## 2. Delete rows with negative values"
   ]
  },
  {
   "cell_type": "markdown",
   "metadata": {},
   "source": [
    "As we already now from the DQC Layer, 'item_price' feature has one negative value that should be deleted. "
   ]
  },
  {
   "cell_type": "code",
   "execution_count": null,
   "metadata": {},
   "outputs": [
    {
     "name": "stdout",
     "output_type": "stream",
     "text": [
      "3.406169731481422e-05 percent of values are negative\n"
     ]
    }
   ],
   "source": [
    "DataQualityCheck.check_negative_values(train_df, 'item_price')"
   ]
  },
  {
   "cell_type": "code",
   "execution_count": 14,
   "metadata": {},
   "outputs": [],
   "source": [
    "train_df = ETLTransform.del_negative(train_df, 'item_price')"
   ]
  },
  {
   "cell_type": "markdown",
   "metadata": {},
   "source": [
    "### Check for negative values again"
   ]
  },
  {
   "cell_type": "code",
   "execution_count": null,
   "metadata": {},
   "outputs": [
    {
     "name": "stdout",
     "output_type": "stream",
     "text": [
      "No negative values found\n"
     ]
    }
   ],
   "source": [
    "DataQualityCheck.check_negative_values(train_df, 'item_price')"
   ]
  },
  {
   "cell_type": "code",
   "execution_count": 16,
   "metadata": {},
   "outputs": [
    {
     "name": "stdout",
     "output_type": "stream",
     "text": [
      "<class 'pandas.core.frame.DataFrame'>\n",
      "RangeIndex: 2935848 entries, 0 to 2935847\n",
      "Data columns (total 6 columns):\n",
      " #   Column          Dtype         \n",
      "---  ------          -----         \n",
      " 0   date            datetime64[ns]\n",
      " 1   date_block_num  int32         \n",
      " 2   shop_id         int32         \n",
      " 3   item_id         int32         \n",
      " 4   item_price      float32       \n",
      " 5   item_cnt_day    int32         \n",
      "dtypes: datetime64[ns](1), float32(1), int32(4)\n",
      "memory usage: 78.4 MB\n"
     ]
    }
   ],
   "source": [
    "train_df.reset_index(drop=True, inplace=True)\n",
    "train_df.info()"
   ]
  },
  {
   "cell_type": "markdown",
   "metadata": {},
   "source": [
    "## 3. Fix **shops_df** duplicate data "
   ]
  },
  {
   "cell_type": "code",
   "execution_count": 17,
   "metadata": {},
   "outputs": [],
   "source": [
    "shops_df = ETLTransform.change_shop_ids(shops_df)\n",
    "shops_df = ETLTransform.change_shop_names(shops_df)"
   ]
  },
  {
   "cell_type": "markdown",
   "metadata": {},
   "source": [
    "Now we'll get 3 duplicated shop_ids"
   ]
  },
  {
   "cell_type": "code",
   "execution_count": 18,
   "metadata": {},
   "outputs": [
    {
     "data": {
      "text/plain": [
       "3"
      ]
     },
     "execution_count": 18,
     "metadata": {},
     "output_type": "execute_result"
    }
   ],
   "source": [
    "shops_df.duplicated().sum()"
   ]
  },
  {
   "cell_type": "markdown",
   "metadata": {},
   "source": [
    "Let's remove them"
   ]
  },
  {
   "cell_type": "code",
   "execution_count": 19,
   "metadata": {},
   "outputs": [],
   "source": [
    "shops_df.drop_duplicates(inplace=True)\n",
    "shops_df.reset_index(drop=True, inplace=True)"
   ]
  },
  {
   "cell_type": "markdown",
   "metadata": {},
   "source": [
    "It's also necessary to unite some **shop_id**s in **train_df** and **test_df** to avoid missing values after merging"
   ]
  },
  {
   "cell_type": "code",
   "execution_count": 20,
   "metadata": {},
   "outputs": [],
   "source": [
    "train_df = ETLTransform.change_shop_ids(train_df)\n",
    "test_df = ETLTransform.change_shop_ids(test_df)"
   ]
  },
  {
   "cell_type": "markdown",
   "metadata": {},
   "source": [
    "## 4. Create a copy of **df_train** to aggregate monthly sales"
   ]
  },
  {
   "cell_type": "code",
   "execution_count": 21,
   "metadata": {},
   "outputs": [
    {
     "data": {
      "text/html": [
       "<div>\n",
       "<style scoped>\n",
       "    .dataframe tbody tr th:only-of-type {\n",
       "        vertical-align: middle;\n",
       "    }\n",
       "\n",
       "    .dataframe tbody tr th {\n",
       "        vertical-align: top;\n",
       "    }\n",
       "\n",
       "    .dataframe thead th {\n",
       "        text-align: right;\n",
       "    }\n",
       "</style>\n",
       "<table border=\"1\" class=\"dataframe\">\n",
       "  <thead>\n",
       "    <tr style=\"text-align: right;\">\n",
       "      <th></th>\n",
       "      <th>date_block_num</th>\n",
       "      <th>shop_id</th>\n",
       "      <th>item_id</th>\n",
       "      <th>item_cnt_month</th>\n",
       "      <th>item_price</th>\n",
       "    </tr>\n",
       "  </thead>\n",
       "  <tbody>\n",
       "    <tr>\n",
       "      <th>0</th>\n",
       "      <td>0</td>\n",
       "      <td>2</td>\n",
       "      <td>27</td>\n",
       "      <td>1</td>\n",
       "      <td>2499.0</td>\n",
       "    </tr>\n",
       "    <tr>\n",
       "      <th>1</th>\n",
       "      <td>0</td>\n",
       "      <td>2</td>\n",
       "      <td>33</td>\n",
       "      <td>1</td>\n",
       "      <td>499.0</td>\n",
       "    </tr>\n",
       "    <tr>\n",
       "      <th>2</th>\n",
       "      <td>0</td>\n",
       "      <td>2</td>\n",
       "      <td>317</td>\n",
       "      <td>1</td>\n",
       "      <td>299.0</td>\n",
       "    </tr>\n",
       "    <tr>\n",
       "      <th>3</th>\n",
       "      <td>0</td>\n",
       "      <td>2</td>\n",
       "      <td>438</td>\n",
       "      <td>1</td>\n",
       "      <td>299.0</td>\n",
       "    </tr>\n",
       "    <tr>\n",
       "      <th>4</th>\n",
       "      <td>0</td>\n",
       "      <td>2</td>\n",
       "      <td>471</td>\n",
       "      <td>2</td>\n",
       "      <td>399.0</td>\n",
       "    </tr>\n",
       "  </tbody>\n",
       "</table>\n",
       "</div>"
      ],
      "text/plain": [
       "   date_block_num  shop_id  item_id  item_cnt_month  item_price\n",
       "0               0        2       27               1      2499.0\n",
       "1               0        2       33               1       499.0\n",
       "2               0        2      317               1       299.0\n",
       "3               0        2      438               1       299.0\n",
       "4               0        2      471               2       399.0"
      ]
     },
     "execution_count": 21,
     "metadata": {},
     "output_type": "execute_result"
    }
   ],
   "source": [
    "train_aggregated = train_df.groupby(['date_block_num', 'shop_id', 'item_id']).agg({'item_cnt_day': 'sum', 'item_price': 'mean'}).reset_index()\n",
    "\n",
    "train_aggregated.rename(columns={'item_cnt_day': 'item_cnt_month'}, inplace=True)\n",
    "train_aggregated.head()"
   ]
  },
  {
   "cell_type": "code",
   "execution_count": 22,
   "metadata": {},
   "outputs": [
    {
     "data": {
      "text/html": [
       "<div>\n",
       "<style scoped>\n",
       "    .dataframe tbody tr th:only-of-type {\n",
       "        vertical-align: middle;\n",
       "    }\n",
       "\n",
       "    .dataframe tbody tr th {\n",
       "        vertical-align: top;\n",
       "    }\n",
       "\n",
       "    .dataframe thead th {\n",
       "        text-align: right;\n",
       "    }\n",
       "</style>\n",
       "<table border=\"1\" class=\"dataframe\">\n",
       "  <thead>\n",
       "    <tr style=\"text-align: right;\">\n",
       "      <th></th>\n",
       "      <th>date_block_num</th>\n",
       "      <th>shop_id</th>\n",
       "      <th>item_id</th>\n",
       "      <th>item_cnt_month</th>\n",
       "      <th>item_price</th>\n",
       "    </tr>\n",
       "  </thead>\n",
       "  <tbody>\n",
       "    <tr>\n",
       "      <th>1917</th>\n",
       "      <td>0</td>\n",
       "      <td>4</td>\n",
       "      <td>12457</td>\n",
       "      <td>1</td>\n",
       "      <td>149.0</td>\n",
       "    </tr>\n",
       "    <tr>\n",
       "      <th>7920</th>\n",
       "      <td>0</td>\n",
       "      <td>13</td>\n",
       "      <td>12457</td>\n",
       "      <td>1</td>\n",
       "      <td>69.0</td>\n",
       "    </tr>\n",
       "    <tr>\n",
       "      <th>20991</th>\n",
       "      <td>0</td>\n",
       "      <td>25</td>\n",
       "      <td>12457</td>\n",
       "      <td>2</td>\n",
       "      <td>149.0</td>\n",
       "    </tr>\n",
       "    <tr>\n",
       "      <th>27233</th>\n",
       "      <td>0</td>\n",
       "      <td>28</td>\n",
       "      <td>12457</td>\n",
       "      <td>1</td>\n",
       "      <td>149.0</td>\n",
       "    </tr>\n",
       "    <tr>\n",
       "      <th>30780</th>\n",
       "      <td>0</td>\n",
       "      <td>30</td>\n",
       "      <td>12457</td>\n",
       "      <td>1</td>\n",
       "      <td>149.0</td>\n",
       "    </tr>\n",
       "    <tr>\n",
       "      <th>...</th>\n",
       "      <td>...</td>\n",
       "      <td>...</td>\n",
       "      <td>...</td>\n",
       "      <td>...</td>\n",
       "      <td>...</td>\n",
       "    </tr>\n",
       "    <tr>\n",
       "      <th>1105260</th>\n",
       "      <td>20</td>\n",
       "      <td>57</td>\n",
       "      <td>12457</td>\n",
       "      <td>1</td>\n",
       "      <td>98.0</td>\n",
       "    </tr>\n",
       "    <tr>\n",
       "      <th>1220681</th>\n",
       "      <td>23</td>\n",
       "      <td>28</td>\n",
       "      <td>12457</td>\n",
       "      <td>1</td>\n",
       "      <td>58.0</td>\n",
       "    </tr>\n",
       "    <tr>\n",
       "      <th>1223225</th>\n",
       "      <td>23</td>\n",
       "      <td>30</td>\n",
       "      <td>12457</td>\n",
       "      <td>1</td>\n",
       "      <td>58.0</td>\n",
       "    </tr>\n",
       "    <tr>\n",
       "      <th>1298101</th>\n",
       "      <td>24</td>\n",
       "      <td>56</td>\n",
       "      <td>12457</td>\n",
       "      <td>1</td>\n",
       "      <td>58.0</td>\n",
       "    </tr>\n",
       "    <tr>\n",
       "      <th>1367191</th>\n",
       "      <td>26</td>\n",
       "      <td>38</td>\n",
       "      <td>12457</td>\n",
       "      <td>1</td>\n",
       "      <td>28.0</td>\n",
       "    </tr>\n",
       "  </tbody>\n",
       "</table>\n",
       "<p>114 rows × 5 columns</p>\n",
       "</div>"
      ],
      "text/plain": [
       "         date_block_num  shop_id  item_id  item_cnt_month  item_price\n",
       "1917                  0        4    12457               1       149.0\n",
       "7920                  0       13    12457               1        69.0\n",
       "20991                 0       25    12457               2       149.0\n",
       "27233                 0       28    12457               1       149.0\n",
       "30780                 0       30    12457               1       149.0\n",
       "...                 ...      ...      ...             ...         ...\n",
       "1105260              20       57    12457               1        98.0\n",
       "1220681              23       28    12457               1        58.0\n",
       "1223225              23       30    12457               1        58.0\n",
       "1298101              24       56    12457               1        58.0\n",
       "1367191              26       38    12457               1        28.0\n",
       "\n",
       "[114 rows x 5 columns]"
      ]
     },
     "execution_count": 22,
     "metadata": {},
     "output_type": "execute_result"
    }
   ],
   "source": [
    "train_aggregated[train_aggregated['item_id'] == 12457]"
   ]
  },
  {
   "cell_type": "markdown",
   "metadata": {},
   "source": [
    "## 5. Add **year** and **month** columns to received datasets"
   ]
  },
  {
   "cell_type": "code",
   "execution_count": 23,
   "metadata": {},
   "outputs": [
    {
     "data": {
      "text/html": [
       "<div>\n",
       "<style scoped>\n",
       "    .dataframe tbody tr th:only-of-type {\n",
       "        vertical-align: middle;\n",
       "    }\n",
       "\n",
       "    .dataframe tbody tr th {\n",
       "        vertical-align: top;\n",
       "    }\n",
       "\n",
       "    .dataframe thead th {\n",
       "        text-align: right;\n",
       "    }\n",
       "</style>\n",
       "<table border=\"1\" class=\"dataframe\">\n",
       "  <thead>\n",
       "    <tr style=\"text-align: right;\">\n",
       "      <th></th>\n",
       "      <th>date</th>\n",
       "      <th>date_block_num</th>\n",
       "      <th>shop_id</th>\n",
       "      <th>item_id</th>\n",
       "      <th>item_price</th>\n",
       "      <th>item_cnt_day</th>\n",
       "      <th>month</th>\n",
       "      <th>year</th>\n",
       "    </tr>\n",
       "  </thead>\n",
       "  <tbody>\n",
       "    <tr>\n",
       "      <th>0</th>\n",
       "      <td>2013-01-02</td>\n",
       "      <td>0</td>\n",
       "      <td>59</td>\n",
       "      <td>22154</td>\n",
       "      <td>999.000000</td>\n",
       "      <td>1</td>\n",
       "      <td>0</td>\n",
       "      <td>0</td>\n",
       "    </tr>\n",
       "    <tr>\n",
       "      <th>1</th>\n",
       "      <td>2013-01-03</td>\n",
       "      <td>0</td>\n",
       "      <td>25</td>\n",
       "      <td>2552</td>\n",
       "      <td>899.000000</td>\n",
       "      <td>1</td>\n",
       "      <td>0</td>\n",
       "      <td>0</td>\n",
       "    </tr>\n",
       "    <tr>\n",
       "      <th>2</th>\n",
       "      <td>2013-01-05</td>\n",
       "      <td>0</td>\n",
       "      <td>25</td>\n",
       "      <td>2552</td>\n",
       "      <td>899.000000</td>\n",
       "      <td>-1</td>\n",
       "      <td>0</td>\n",
       "      <td>0</td>\n",
       "    </tr>\n",
       "    <tr>\n",
       "      <th>3</th>\n",
       "      <td>2013-01-06</td>\n",
       "      <td>0</td>\n",
       "      <td>25</td>\n",
       "      <td>2554</td>\n",
       "      <td>1709.050049</td>\n",
       "      <td>1</td>\n",
       "      <td>0</td>\n",
       "      <td>0</td>\n",
       "    </tr>\n",
       "    <tr>\n",
       "      <th>4</th>\n",
       "      <td>2013-01-15</td>\n",
       "      <td>0</td>\n",
       "      <td>25</td>\n",
       "      <td>2555</td>\n",
       "      <td>1099.000000</td>\n",
       "      <td>1</td>\n",
       "      <td>0</td>\n",
       "      <td>0</td>\n",
       "    </tr>\n",
       "  </tbody>\n",
       "</table>\n",
       "</div>"
      ],
      "text/plain": [
       "        date  date_block_num  shop_id  item_id   item_price  item_cnt_day  \\\n",
       "0 2013-01-02               0       59    22154   999.000000             1   \n",
       "1 2013-01-03               0       25     2552   899.000000             1   \n",
       "2 2013-01-05               0       25     2552   899.000000            -1   \n",
       "3 2013-01-06               0       25     2554  1709.050049             1   \n",
       "4 2013-01-15               0       25     2555  1099.000000             1   \n",
       "\n",
       "   month  year  \n",
       "0      0     0  \n",
       "1      0     0  \n",
       "2      0     0  \n",
       "3      0     0  \n",
       "4      0     0  "
      ]
     },
     "execution_count": 23,
     "metadata": {},
     "output_type": "execute_result"
    }
   ],
   "source": [
    "train_df = ETLTransform.add_month_year_columns(train_df)\n",
    "train_aggregated = ETLTransform.add_month_year_columns(train_aggregated)\n",
    "\n",
    "train_df.head()"
   ]
  },
  {
   "cell_type": "markdown",
   "metadata": {},
   "source": [
    "## 6. Merge **train_df** with **items_df, categories_df, shops_df**"
   ]
  },
  {
   "cell_type": "code",
   "execution_count": 24,
   "metadata": {},
   "outputs": [
    {
     "data": {
      "text/html": [
       "<div>\n",
       "<style scoped>\n",
       "    .dataframe tbody tr th:only-of-type {\n",
       "        vertical-align: middle;\n",
       "    }\n",
       "\n",
       "    .dataframe tbody tr th {\n",
       "        vertical-align: top;\n",
       "    }\n",
       "\n",
       "    .dataframe thead th {\n",
       "        text-align: right;\n",
       "    }\n",
       "</style>\n",
       "<table border=\"1\" class=\"dataframe\">\n",
       "  <thead>\n",
       "    <tr style=\"text-align: right;\">\n",
       "      <th></th>\n",
       "      <th>date</th>\n",
       "      <th>date_block_num</th>\n",
       "      <th>shop_id</th>\n",
       "      <th>item_id</th>\n",
       "      <th>item_price</th>\n",
       "      <th>item_cnt_day</th>\n",
       "      <th>month</th>\n",
       "      <th>year</th>\n",
       "      <th>item_name</th>\n",
       "      <th>item_category_id</th>\n",
       "      <th>clean_item_name</th>\n",
       "      <th>item_category_name</th>\n",
       "      <th>shop_name</th>\n",
       "    </tr>\n",
       "  </thead>\n",
       "  <tbody>\n",
       "    <tr>\n",
       "      <th>0</th>\n",
       "      <td>2013-01-02</td>\n",
       "      <td>0</td>\n",
       "      <td>59</td>\n",
       "      <td>22154</td>\n",
       "      <td>999.000000</td>\n",
       "      <td>1</td>\n",
       "      <td>0</td>\n",
       "      <td>0</td>\n",
       "      <td>ЯВЛЕНИЕ 2012 (BD)</td>\n",
       "      <td>37</td>\n",
       "      <td>явление 2012 bd</td>\n",
       "      <td>Кино - Blu-Ray</td>\n",
       "      <td>Ярославль ТЦ \"Альтаир\"</td>\n",
       "    </tr>\n",
       "    <tr>\n",
       "      <th>1</th>\n",
       "      <td>2013-01-03</td>\n",
       "      <td>0</td>\n",
       "      <td>25</td>\n",
       "      <td>2552</td>\n",
       "      <td>899.000000</td>\n",
       "      <td>1</td>\n",
       "      <td>0</td>\n",
       "      <td>0</td>\n",
       "      <td>DEEP PURPLE  The House Of Blue Light  LP</td>\n",
       "      <td>58</td>\n",
       "      <td>deep purple  the house of blue light  lp</td>\n",
       "      <td>Музыка - Винил</td>\n",
       "      <td>Москва ТРК \"Атриум\"</td>\n",
       "    </tr>\n",
       "    <tr>\n",
       "      <th>2</th>\n",
       "      <td>2013-01-05</td>\n",
       "      <td>0</td>\n",
       "      <td>25</td>\n",
       "      <td>2552</td>\n",
       "      <td>899.000000</td>\n",
       "      <td>-1</td>\n",
       "      <td>0</td>\n",
       "      <td>0</td>\n",
       "      <td>DEEP PURPLE  The House Of Blue Light  LP</td>\n",
       "      <td>58</td>\n",
       "      <td>deep purple  the house of blue light  lp</td>\n",
       "      <td>Музыка - Винил</td>\n",
       "      <td>Москва ТРК \"Атриум\"</td>\n",
       "    </tr>\n",
       "    <tr>\n",
       "      <th>3</th>\n",
       "      <td>2013-01-06</td>\n",
       "      <td>0</td>\n",
       "      <td>25</td>\n",
       "      <td>2554</td>\n",
       "      <td>1709.050049</td>\n",
       "      <td>1</td>\n",
       "      <td>0</td>\n",
       "      <td>0</td>\n",
       "      <td>DEEP PURPLE  Who Do You Think We Are  LP</td>\n",
       "      <td>58</td>\n",
       "      <td>deep purple  who do you think we are  lp</td>\n",
       "      <td>Музыка - Винил</td>\n",
       "      <td>Москва ТРК \"Атриум\"</td>\n",
       "    </tr>\n",
       "    <tr>\n",
       "      <th>4</th>\n",
       "      <td>2013-01-15</td>\n",
       "      <td>0</td>\n",
       "      <td>25</td>\n",
       "      <td>2555</td>\n",
       "      <td>1099.000000</td>\n",
       "      <td>1</td>\n",
       "      <td>0</td>\n",
       "      <td>0</td>\n",
       "      <td>DEEP PURPLE 30 Very Best Of 2CD (Фирм.)</td>\n",
       "      <td>56</td>\n",
       "      <td>deep purple 30 very best of 2cd фирм</td>\n",
       "      <td>Музыка - CD фирменного производства</td>\n",
       "      <td>Москва ТРК \"Атриум\"</td>\n",
       "    </tr>\n",
       "  </tbody>\n",
       "</table>\n",
       "</div>"
      ],
      "text/plain": [
       "        date  date_block_num  shop_id  item_id   item_price  item_cnt_day  \\\n",
       "0 2013-01-02               0       59    22154   999.000000             1   \n",
       "1 2013-01-03               0       25     2552   899.000000             1   \n",
       "2 2013-01-05               0       25     2552   899.000000            -1   \n",
       "3 2013-01-06               0       25     2554  1709.050049             1   \n",
       "4 2013-01-15               0       25     2555  1099.000000             1   \n",
       "\n",
       "   month  year                                 item_name  item_category_id  \\\n",
       "0      0     0                         ЯВЛЕНИЕ 2012 (BD)                37   \n",
       "1      0     0  DEEP PURPLE  The House Of Blue Light  LP                58   \n",
       "2      0     0  DEEP PURPLE  The House Of Blue Light  LP                58   \n",
       "3      0     0  DEEP PURPLE  Who Do You Think We Are  LP                58   \n",
       "4      0     0   DEEP PURPLE 30 Very Best Of 2CD (Фирм.)                56   \n",
       "\n",
       "                            clean_item_name  \\\n",
       "0                           явление 2012 bd   \n",
       "1  deep purple  the house of blue light  lp   \n",
       "2  deep purple  the house of blue light  lp   \n",
       "3  deep purple  who do you think we are  lp   \n",
       "4      deep purple 30 very best of 2cd фирм   \n",
       "\n",
       "                    item_category_name               shop_name  \n",
       "0                       Кино - Blu-Ray  Ярославль ТЦ \"Альтаир\"  \n",
       "1                       Музыка - Винил     Москва ТРК \"Атриум\"  \n",
       "2                       Музыка - Винил     Москва ТРК \"Атриум\"  \n",
       "3                       Музыка - Винил     Москва ТРК \"Атриум\"  \n",
       "4  Музыка - CD фирменного производства     Москва ТРК \"Атриум\"  "
      ]
     },
     "execution_count": 24,
     "metadata": {},
     "output_type": "execute_result"
    }
   ],
   "source": [
    "merged_train_df = ETLTransform.merge_df(train_df, items_df, categories_df, shops_df)\n",
    "merged_train_aggregated_df = ETLTransform.merge_df(train_aggregated, items_df, categories_df, shops_df)\n",
    "\n",
    "merged_train_df.head()"
   ]
  },
  {
   "cell_type": "markdown",
   "metadata": {},
   "source": [
    "## 7. Look at **merged_train_df** item_name feature"
   ]
  },
  {
   "cell_type": "markdown",
   "metadata": {},
   "source": [
    "### Print duplicate item_ids"
   ]
  },
  {
   "cell_type": "code",
   "execution_count": 25,
   "metadata": {},
   "outputs": [
    {
     "data": {
      "text/plain": [
       "array([ 2331,  8248,  8290,  8299,  8423,  8617,  8619,  8623,  8628,\n",
       "        8630,  8633,  8641,  8643,  8650,  8731,  8759,  8762,  8807,\n",
       "        9049,  9731,  9842,  9865, 10313, 10373, 10558, 10750, 10815,\n",
       "       10841, 10999, 11001, 11002, 11119, 11200, 11468, 11481, 11651,\n",
       "       11787, 11894, 12033, 12099, 12379, 12458, 13012, 14066, 14340,\n",
       "       14607, 14690, 14788, 14856, 15539, 15611, 16505, 16615, 17203,\n",
       "       17287, 18127, 18532, 18600, 18719, 18761, 18942, 18946, 18987,\n",
       "       19070, 19078, 19087, 19856, 20291, 21850, 21870, 22024],\n",
       "      dtype=int32)"
      ]
     },
     "execution_count": 25,
     "metadata": {},
     "output_type": "execute_result"
    }
   ],
   "source": [
    "items_df[items_df['clean_item_name'].duplicated()]['item_id'].unique()"
   ]
  },
  {
   "cell_type": "markdown",
   "metadata": {},
   "source": [
    "### Look at one of duplicate pairs in merged_train_df"
   ]
  },
  {
   "cell_type": "code",
   "execution_count": 26,
   "metadata": {},
   "outputs": [
    {
     "data": {
      "text/html": [
       "<div>\n",
       "<style scoped>\n",
       "    .dataframe tbody tr th:only-of-type {\n",
       "        vertical-align: middle;\n",
       "    }\n",
       "\n",
       "    .dataframe tbody tr th {\n",
       "        vertical-align: top;\n",
       "    }\n",
       "\n",
       "    .dataframe thead th {\n",
       "        text-align: right;\n",
       "    }\n",
       "</style>\n",
       "<table border=\"1\" class=\"dataframe\">\n",
       "  <thead>\n",
       "    <tr style=\"text-align: right;\">\n",
       "      <th></th>\n",
       "      <th>date_block_num</th>\n",
       "      <th>shop_id</th>\n",
       "      <th>item_id</th>\n",
       "      <th>item_cnt_month</th>\n",
       "      <th>item_price</th>\n",
       "      <th>month</th>\n",
       "      <th>year</th>\n",
       "      <th>item_name</th>\n",
       "      <th>item_category_id</th>\n",
       "      <th>clean_item_name</th>\n",
       "      <th>item_category_name</th>\n",
       "      <th>shop_name</th>\n",
       "    </tr>\n",
       "  </thead>\n",
       "  <tbody>\n",
       "    <tr>\n",
       "      <th>1917</th>\n",
       "      <td>0</td>\n",
       "      <td>4</td>\n",
       "      <td>12457</td>\n",
       "      <td>1</td>\n",
       "      <td>149.0</td>\n",
       "      <td>0</td>\n",
       "      <td>0</td>\n",
       "      <td>КИН-ДЗА-ДЗА (регион)</td>\n",
       "      <td>40</td>\n",
       "      <td>киндзадза регион</td>\n",
       "      <td>Кино - DVD</td>\n",
       "      <td>Волжский ТЦ \"Волга Молл\"</td>\n",
       "    </tr>\n",
       "    <tr>\n",
       "      <th>7920</th>\n",
       "      <td>0</td>\n",
       "      <td>13</td>\n",
       "      <td>12457</td>\n",
       "      <td>1</td>\n",
       "      <td>69.0</td>\n",
       "      <td>0</td>\n",
       "      <td>0</td>\n",
       "      <td>КИН-ДЗА-ДЗА (регион)</td>\n",
       "      <td>40</td>\n",
       "      <td>киндзадза регион</td>\n",
       "      <td>Кино - DVD</td>\n",
       "      <td>Казань ТЦ \"Бехетле\"</td>\n",
       "    </tr>\n",
       "    <tr>\n",
       "      <th>20991</th>\n",
       "      <td>0</td>\n",
       "      <td>25</td>\n",
       "      <td>12457</td>\n",
       "      <td>2</td>\n",
       "      <td>149.0</td>\n",
       "      <td>0</td>\n",
       "      <td>0</td>\n",
       "      <td>КИН-ДЗА-ДЗА (регион)</td>\n",
       "      <td>40</td>\n",
       "      <td>киндзадза регион</td>\n",
       "      <td>Кино - DVD</td>\n",
       "      <td>Москва ТРК \"Атриум\"</td>\n",
       "    </tr>\n",
       "    <tr>\n",
       "      <th>27233</th>\n",
       "      <td>0</td>\n",
       "      <td>28</td>\n",
       "      <td>12457</td>\n",
       "      <td>1</td>\n",
       "      <td>149.0</td>\n",
       "      <td>0</td>\n",
       "      <td>0</td>\n",
       "      <td>КИН-ДЗА-ДЗА (регион)</td>\n",
       "      <td>40</td>\n",
       "      <td>киндзадза регион</td>\n",
       "      <td>Кино - DVD</td>\n",
       "      <td>Москва ТЦ \"МЕГА Теплый Стан\" II</td>\n",
       "    </tr>\n",
       "    <tr>\n",
       "      <th>30780</th>\n",
       "      <td>0</td>\n",
       "      <td>30</td>\n",
       "      <td>12457</td>\n",
       "      <td>1</td>\n",
       "      <td>149.0</td>\n",
       "      <td>0</td>\n",
       "      <td>0</td>\n",
       "      <td>КИН-ДЗА-ДЗА (регион)</td>\n",
       "      <td>40</td>\n",
       "      <td>киндзадза регион</td>\n",
       "      <td>Кино - DVD</td>\n",
       "      <td>Москва ТЦ \"Перловский\"</td>\n",
       "    </tr>\n",
       "  </tbody>\n",
       "</table>\n",
       "</div>"
      ],
      "text/plain": [
       "       date_block_num  shop_id  item_id  item_cnt_month  item_price  month  \\\n",
       "1917                0        4    12457               1       149.0      0   \n",
       "7920                0       13    12457               1        69.0      0   \n",
       "20991               0       25    12457               2       149.0      0   \n",
       "27233               0       28    12457               1       149.0      0   \n",
       "30780               0       30    12457               1       149.0      0   \n",
       "\n",
       "       year             item_name  item_category_id   clean_item_name  \\\n",
       "1917      0  КИН-ДЗА-ДЗА (регион)                40  киндзадза регион   \n",
       "7920      0  КИН-ДЗА-ДЗА (регион)                40  киндзадза регион   \n",
       "20991     0  КИН-ДЗА-ДЗА (регион)                40  киндзадза регион   \n",
       "27233     0  КИН-ДЗА-ДЗА (регион)                40  киндзадза регион   \n",
       "30780     0  КИН-ДЗА-ДЗА (регион)                40  киндзадза регион   \n",
       "\n",
       "      item_category_name                        shop_name  \n",
       "1917          Кино - DVD         Волжский ТЦ \"Волга Молл\"  \n",
       "7920          Кино - DVD              Казань ТЦ \"Бехетле\"  \n",
       "20991         Кино - DVD              Москва ТРК \"Атриум\"  \n",
       "27233         Кино - DVD  Москва ТЦ \"МЕГА Теплый Стан\" II  \n",
       "30780         Кино - DVD           Москва ТЦ \"Перловский\"  "
      ]
     },
     "execution_count": 26,
     "metadata": {},
     "output_type": "execute_result"
    }
   ],
   "source": [
    "merged_train_aggregated_df[train_aggregated['item_id'] == 12457].head()"
   ]
  },
  {
   "cell_type": "code",
   "execution_count": 27,
   "metadata": {},
   "outputs": [
    {
     "data": {
      "text/html": [
       "<div>\n",
       "<style scoped>\n",
       "    .dataframe tbody tr th:only-of-type {\n",
       "        vertical-align: middle;\n",
       "    }\n",
       "\n",
       "    .dataframe tbody tr th {\n",
       "        vertical-align: top;\n",
       "    }\n",
       "\n",
       "    .dataframe thead th {\n",
       "        text-align: right;\n",
       "    }\n",
       "</style>\n",
       "<table border=\"1\" class=\"dataframe\">\n",
       "  <thead>\n",
       "    <tr style=\"text-align: right;\">\n",
       "      <th></th>\n",
       "      <th>date_block_num</th>\n",
       "      <th>shop_id</th>\n",
       "      <th>item_id</th>\n",
       "      <th>item_cnt_month</th>\n",
       "      <th>item_price</th>\n",
       "      <th>month</th>\n",
       "      <th>year</th>\n",
       "      <th>item_name</th>\n",
       "      <th>item_category_id</th>\n",
       "      <th>clean_item_name</th>\n",
       "      <th>item_category_name</th>\n",
       "      <th>shop_name</th>\n",
       "    </tr>\n",
       "  </thead>\n",
       "  <tbody>\n",
       "    <tr>\n",
       "      <th>335279</th>\n",
       "      <td>5</td>\n",
       "      <td>46</td>\n",
       "      <td>12458</td>\n",
       "      <td>1</td>\n",
       "      <td>28.0</td>\n",
       "      <td>5</td>\n",
       "      <td>0</td>\n",
       "      <td>КИН-ДЗА-ДЗА! (Регион)</td>\n",
       "      <td>40</td>\n",
       "      <td>киндзадза регион</td>\n",
       "      <td>Кино - DVD</td>\n",
       "      <td>Сергиев Посад ТЦ \"7Я\"</td>\n",
       "    </tr>\n",
       "    <tr>\n",
       "      <th>761713</th>\n",
       "      <td>13</td>\n",
       "      <td>28</td>\n",
       "      <td>12458</td>\n",
       "      <td>1</td>\n",
       "      <td>149.0</td>\n",
       "      <td>1</td>\n",
       "      <td>1</td>\n",
       "      <td>КИН-ДЗА-ДЗА! (Регион)</td>\n",
       "      <td>40</td>\n",
       "      <td>киндзадза регион</td>\n",
       "      <td>Кино - DVD</td>\n",
       "      <td>Москва ТЦ \"МЕГА Теплый Стан\" II</td>\n",
       "    </tr>\n",
       "    <tr>\n",
       "      <th>785862</th>\n",
       "      <td>13</td>\n",
       "      <td>57</td>\n",
       "      <td>12458</td>\n",
       "      <td>1</td>\n",
       "      <td>149.0</td>\n",
       "      <td>1</td>\n",
       "      <td>1</td>\n",
       "      <td>КИН-ДЗА-ДЗА! (Регион)</td>\n",
       "      <td>40</td>\n",
       "      <td>киндзадза регион</td>\n",
       "      <td>Кино - DVD</td>\n",
       "      <td>Якутск Орджоникидзе, 56</td>\n",
       "    </tr>\n",
       "    <tr>\n",
       "      <th>804303</th>\n",
       "      <td>14</td>\n",
       "      <td>25</td>\n",
       "      <td>12458</td>\n",
       "      <td>1</td>\n",
       "      <td>149.0</td>\n",
       "      <td>2</td>\n",
       "      <td>1</td>\n",
       "      <td>КИН-ДЗА-ДЗА! (Регион)</td>\n",
       "      <td>40</td>\n",
       "      <td>киндзадза регион</td>\n",
       "      <td>Кино - DVD</td>\n",
       "      <td>Москва ТРК \"Атриум\"</td>\n",
       "    </tr>\n",
       "    <tr>\n",
       "      <th>827657</th>\n",
       "      <td>14</td>\n",
       "      <td>51</td>\n",
       "      <td>12458</td>\n",
       "      <td>1</td>\n",
       "      <td>70.0</td>\n",
       "      <td>2</td>\n",
       "      <td>1</td>\n",
       "      <td>КИН-ДЗА-ДЗА! (Регион)</td>\n",
       "      <td>40</td>\n",
       "      <td>киндзадза регион</td>\n",
       "      <td>Кино - DVD</td>\n",
       "      <td>Тюмень ТЦ \"Зеленый Берег\"</td>\n",
       "    </tr>\n",
       "  </tbody>\n",
       "</table>\n",
       "</div>"
      ],
      "text/plain": [
       "        date_block_num  shop_id  item_id  item_cnt_month  item_price  month  \\\n",
       "335279               5       46    12458               1        28.0      5   \n",
       "761713              13       28    12458               1       149.0      1   \n",
       "785862              13       57    12458               1       149.0      1   \n",
       "804303              14       25    12458               1       149.0      2   \n",
       "827657              14       51    12458               1        70.0      2   \n",
       "\n",
       "        year              item_name  item_category_id   clean_item_name  \\\n",
       "335279     0  КИН-ДЗА-ДЗА! (Регион)                40  киндзадза регион   \n",
       "761713     1  КИН-ДЗА-ДЗА! (Регион)                40  киндзадза регион   \n",
       "785862     1  КИН-ДЗА-ДЗА! (Регион)                40  киндзадза регион   \n",
       "804303     1  КИН-ДЗА-ДЗА! (Регион)                40  киндзадза регион   \n",
       "827657     1  КИН-ДЗА-ДЗА! (Регион)                40  киндзадза регион   \n",
       "\n",
       "       item_category_name                        shop_name  \n",
       "335279         Кино - DVD            Сергиев Посад ТЦ \"7Я\"  \n",
       "761713         Кино - DVD  Москва ТЦ \"МЕГА Теплый Стан\" II  \n",
       "785862         Кино - DVD          Якутск Орджоникидзе, 56  \n",
       "804303         Кино - DVD              Москва ТРК \"Атриум\"  \n",
       "827657         Кино - DVD        Тюмень ТЦ \"Зеленый Берег\"  "
      ]
     },
     "execution_count": 27,
     "metadata": {},
     "output_type": "execute_result"
    }
   ],
   "source": [
    "merged_train_aggregated_df[train_aggregated['item_id'] == 12458].head()"
   ]
  },
  {
   "cell_type": "code",
   "execution_count": 28,
   "metadata": {},
   "outputs": [],
   "source": [
    "first_shops_set = set(merged_train_aggregated_df[train_aggregated['item_id'] == 12457]['shop_id'].unique())\n",
    "first_prices_set = set(merged_train_aggregated_df[train_aggregated['item_id'] == 12457]['item_price'].unique())"
   ]
  },
  {
   "cell_type": "code",
   "execution_count": 29,
   "metadata": {},
   "outputs": [],
   "source": [
    "second_shops_set = set(merged_train_aggregated_df[train_aggregated['item_id'] == 12458]['shop_id'].unique())\n",
    "second_prices_set = set(merged_train_aggregated_df[train_aggregated['item_id'] == 12458]['item_price'].unique())"
   ]
  },
  {
   "cell_type": "code",
   "execution_count": 30,
   "metadata": {},
   "outputs": [],
   "source": [
    "first_dates_set = set(merged_train_df[merged_train_df['item_id'] == 12457]['date_block_num'].unique())\n",
    "second_dates_set = set(merged_train_df[merged_train_df['item_id'] == 12458]['date_block_num'].unique())"
   ]
  },
  {
   "cell_type": "code",
   "execution_count": 31,
   "metadata": {},
   "outputs": [
    {
     "name": "stdout",
     "output_type": "stream",
     "text": [
      "Different shops: set()\n",
      "Different prices: {148.7, 148.5, 70.0}\n"
     ]
    }
   ],
   "source": [
    "print(\"Different shops:\", second_shops_set - first_shops_set)\n",
    "print(\"Different prices:\", second_prices_set - first_prices_set)"
   ]
  },
  {
   "cell_type": "code",
   "execution_count": 32,
   "metadata": {},
   "outputs": [
    {
     "name": "stdout",
     "output_type": "stream",
     "text": [
      "First set of prices: {98.0, 99.0, 69.0, 148.95, 149.0, 58.0, 28.0}\n",
      "Second set of prices: {70.0, 148.5, 149.0, 148.7, 28.0}\n"
     ]
    }
   ],
   "source": [
    "print(\"First set of prices:\", first_prices_set)\n",
    "print(\"Second set of prices:\", second_prices_set)"
   ]
  },
  {
   "cell_type": "code",
   "execution_count": 33,
   "metadata": {},
   "outputs": [
    {
     "name": "stdout",
     "output_type": "stream",
     "text": [
      "First set of dates: {0, 1, 2, 3, 4, 5, 6, 7, 8, 9, 10, 11, 12, 13, 14, 15, 16, 17, 18, 19, 20, 23, 24, 26}\n",
      "Second set of dates: {5, 13, 14, 15, 16, 17, 18, 19, 20, 22, 24}\n"
     ]
    }
   ],
   "source": [
    "print(\"First set of dates:\", first_dates_set)\n",
    "print(\"Second set of dates:\", second_dates_set)"
   ]
  },
  {
   "cell_type": "markdown",
   "metadata": {},
   "source": [
    "### These two items intersect a lot by the shops, prices and months sets. Due to the same format of duplicate names, the other items are also likely to have similar corresponding feature values, so it's safe to drop duplicates and merge all datasets again"
   ]
  },
  {
   "cell_type": "code",
   "execution_count": 34,
   "metadata": {},
   "outputs": [],
   "source": [
    "# Create a DataFrame to keep only the first occurrence of each 'item_name'\n",
    "items_df_unique = items_df.drop_duplicates(subset='clean_item_name', keep='first')"
   ]
  },
  {
   "cell_type": "code",
   "execution_count": 35,
   "metadata": {},
   "outputs": [],
   "source": [
    "# Merge the original DataFrame with the unique rows to find duplicates\n",
    "merged_df = items_df.merge(items_df_unique[['clean_item_name', 'item_id']], on='clean_item_name', how='left', suffixes=('', '_to_keep'))"
   ]
  },
  {
   "cell_type": "code",
   "execution_count": 36,
   "metadata": {},
   "outputs": [
    {
     "name": "stdout",
     "output_type": "stream",
     "text": [
      "Number of duplicates: 71\n"
     ]
    },
    {
     "data": {
      "text/html": [
       "<div>\n",
       "<style scoped>\n",
       "    .dataframe tbody tr th:only-of-type {\n",
       "        vertical-align: middle;\n",
       "    }\n",
       "\n",
       "    .dataframe tbody tr th {\n",
       "        vertical-align: top;\n",
       "    }\n",
       "\n",
       "    .dataframe thead th {\n",
       "        text-align: right;\n",
       "    }\n",
       "</style>\n",
       "<table border=\"1\" class=\"dataframe\">\n",
       "  <thead>\n",
       "    <tr style=\"text-align: right;\">\n",
       "      <th></th>\n",
       "      <th>item_name</th>\n",
       "      <th>item_id</th>\n",
       "      <th>item_category_id</th>\n",
       "      <th>clean_item_name</th>\n",
       "      <th>item_id_to_keep</th>\n",
       "    </tr>\n",
       "  </thead>\n",
       "  <tbody>\n",
       "    <tr>\n",
       "      <th>2331</th>\n",
       "      <td>Call of Duty: Ghosts [PS4, русская версия]</td>\n",
       "      <td>2331</td>\n",
       "      <td>20</td>\n",
       "      <td>call of duty ghosts ps4 русская версия</td>\n",
       "      <td>2268</td>\n",
       "    </tr>\n",
       "    <tr>\n",
       "      <th>8248</th>\n",
       "      <td>АЛЫЕ ПАРУСА (регион)</td>\n",
       "      <td>8248</td>\n",
       "      <td>40</td>\n",
       "      <td>алые паруса регион</td>\n",
       "      <td>8247</td>\n",
       "    </tr>\n",
       "    <tr>\n",
       "      <th>8290</th>\n",
       "      <td>АНГЛИЙСКИЙ ВМЕСТЕ С ХРЮШЕЙ И… ч. 1 (регион)</td>\n",
       "      <td>8290</td>\n",
       "      <td>40</td>\n",
       "      <td>английский вместе с хрюшей и ч 1 регион</td>\n",
       "      <td>8289</td>\n",
       "    </tr>\n",
       "    <tr>\n",
       "      <th>8299</th>\n",
       "      <td>АНДРЕЙ РУБЛЕВ (регион)</td>\n",
       "      <td>8299</td>\n",
       "      <td>40</td>\n",
       "      <td>андрей рублев регион</td>\n",
       "      <td>8298</td>\n",
       "    </tr>\n",
       "    <tr>\n",
       "      <th>8423</th>\n",
       "      <td>АФОНЯ (регион)</td>\n",
       "      <td>8423</td>\n",
       "      <td>40</td>\n",
       "      <td>афоня регион</td>\n",
       "      <td>8422</td>\n",
       "    </tr>\n",
       "  </tbody>\n",
       "</table>\n",
       "</div>"
      ],
      "text/plain": [
       "                                        item_name  item_id  item_category_id  \\\n",
       "2331   Call of Duty: Ghosts [PS4, русская версия]     2331                20   \n",
       "8248                         АЛЫЕ ПАРУСА (регион)     8248                40   \n",
       "8290  АНГЛИЙСКИЙ ВМЕСТЕ С ХРЮШЕЙ И… ч. 1 (регион)     8290                40   \n",
       "8299                       АНДРЕЙ РУБЛЕВ (регион)     8299                40   \n",
       "8423                               АФОНЯ (регион)     8423                40   \n",
       "\n",
       "                              clean_item_name  item_id_to_keep  \n",
       "2331   call of duty ghosts ps4 русская версия             2268  \n",
       "8248                       алые паруса регион             8247  \n",
       "8290  английский вместе с хрюшей и ч 1 регион             8289  \n",
       "8299                     андрей рублев регион             8298  \n",
       "8423                             афоня регион             8422  "
      ]
     },
     "execution_count": 36,
     "metadata": {},
     "output_type": "execute_result"
    }
   ],
   "source": [
    "# Filter out the rows where the 'item_id' is not the same as 'item_id_to_keep'\n",
    "duplicates_df = merged_df[merged_df['item_id'] != merged_df['item_id_to_keep']]\n",
    "print(\"Number of duplicates:\", len(duplicates_df))\n",
    "duplicates_df.head(5)"
   ]
  },
  {
   "cell_type": "code",
   "execution_count": 37,
   "metadata": {},
   "outputs": [],
   "source": [
    "# Create the dictionary {item_id_that_im_deleting: item_id_to_replace_it_with}\n",
    "item_id_mapping = dict(zip(duplicates_df['item_id'], duplicates_df['item_id_to_keep']))"
   ]
  },
  {
   "cell_type": "markdown",
   "metadata": {},
   "source": [
    "### Transform dataframes using the **item_id_mapping**"
   ]
  },
  {
   "cell_type": "code",
   "execution_count": 38,
   "metadata": {},
   "outputs": [
    {
     "data": {
      "text/plain": [
       "22099"
      ]
     },
     "execution_count": 38,
     "metadata": {},
     "output_type": "execute_result"
    }
   ],
   "source": [
    "items_df = items_df.drop_duplicates(subset=['clean_item_name'])\n",
    "items_df.drop(columns=['clean_item_name'], inplace=True)\n",
    "\n",
    "train_df['item_id'] = train_df['item_id'].replace(item_id_mapping)\n",
    "test_df['item_id'] = test_df['item_id'].replace(item_id_mapping)\n",
    "train_aggregated['item_id'] = train_aggregated['item_id'].replace(item_id_mapping)\n",
    "\n",
    "items_df['item_id'].nunique()"
   ]
  },
  {
   "cell_type": "markdown",
   "metadata": {},
   "source": [
    "### Drop duplicates in train_aggregated to consider removed item_ids"
   ]
  },
  {
   "cell_type": "code",
   "execution_count": 39,
   "metadata": {},
   "outputs": [],
   "source": [
    "train_aggregated = train_aggregated.drop_duplicates(subset=['date_block_num', 'shop_id', 'item_id'])"
   ]
  },
  {
   "cell_type": "markdown",
   "metadata": {},
   "source": [
    "## 8. Merge **train_df** with **items_df, categories_df, shops_df** again"
   ]
  },
  {
   "cell_type": "code",
   "execution_count": 40,
   "metadata": {},
   "outputs": [
    {
     "data": {
      "text/html": [
       "<div>\n",
       "<style scoped>\n",
       "    .dataframe tbody tr th:only-of-type {\n",
       "        vertical-align: middle;\n",
       "    }\n",
       "\n",
       "    .dataframe tbody tr th {\n",
       "        vertical-align: top;\n",
       "    }\n",
       "\n",
       "    .dataframe thead th {\n",
       "        text-align: right;\n",
       "    }\n",
       "</style>\n",
       "<table border=\"1\" class=\"dataframe\">\n",
       "  <thead>\n",
       "    <tr style=\"text-align: right;\">\n",
       "      <th></th>\n",
       "      <th>date</th>\n",
       "      <th>date_block_num</th>\n",
       "      <th>shop_id</th>\n",
       "      <th>item_id</th>\n",
       "      <th>item_price</th>\n",
       "      <th>item_cnt_day</th>\n",
       "      <th>month</th>\n",
       "      <th>year</th>\n",
       "      <th>item_name</th>\n",
       "      <th>item_category_id</th>\n",
       "      <th>item_category_name</th>\n",
       "      <th>shop_name</th>\n",
       "    </tr>\n",
       "  </thead>\n",
       "  <tbody>\n",
       "    <tr>\n",
       "      <th>0</th>\n",
       "      <td>2013-01-02</td>\n",
       "      <td>0</td>\n",
       "      <td>59</td>\n",
       "      <td>22154</td>\n",
       "      <td>999.000000</td>\n",
       "      <td>1</td>\n",
       "      <td>0</td>\n",
       "      <td>0</td>\n",
       "      <td>ЯВЛЕНИЕ 2012 (BD)</td>\n",
       "      <td>37</td>\n",
       "      <td>Кино - Blu-Ray</td>\n",
       "      <td>Ярославль ТЦ \"Альтаир\"</td>\n",
       "    </tr>\n",
       "    <tr>\n",
       "      <th>1</th>\n",
       "      <td>2013-01-03</td>\n",
       "      <td>0</td>\n",
       "      <td>25</td>\n",
       "      <td>2552</td>\n",
       "      <td>899.000000</td>\n",
       "      <td>1</td>\n",
       "      <td>0</td>\n",
       "      <td>0</td>\n",
       "      <td>DEEP PURPLE  The House Of Blue Light  LP</td>\n",
       "      <td>58</td>\n",
       "      <td>Музыка - Винил</td>\n",
       "      <td>Москва ТРК \"Атриум\"</td>\n",
       "    </tr>\n",
       "    <tr>\n",
       "      <th>2</th>\n",
       "      <td>2013-01-05</td>\n",
       "      <td>0</td>\n",
       "      <td>25</td>\n",
       "      <td>2552</td>\n",
       "      <td>899.000000</td>\n",
       "      <td>-1</td>\n",
       "      <td>0</td>\n",
       "      <td>0</td>\n",
       "      <td>DEEP PURPLE  The House Of Blue Light  LP</td>\n",
       "      <td>58</td>\n",
       "      <td>Музыка - Винил</td>\n",
       "      <td>Москва ТРК \"Атриум\"</td>\n",
       "    </tr>\n",
       "    <tr>\n",
       "      <th>3</th>\n",
       "      <td>2013-01-06</td>\n",
       "      <td>0</td>\n",
       "      <td>25</td>\n",
       "      <td>2554</td>\n",
       "      <td>1709.050049</td>\n",
       "      <td>1</td>\n",
       "      <td>0</td>\n",
       "      <td>0</td>\n",
       "      <td>DEEP PURPLE  Who Do You Think We Are  LP</td>\n",
       "      <td>58</td>\n",
       "      <td>Музыка - Винил</td>\n",
       "      <td>Москва ТРК \"Атриум\"</td>\n",
       "    </tr>\n",
       "    <tr>\n",
       "      <th>4</th>\n",
       "      <td>2013-01-15</td>\n",
       "      <td>0</td>\n",
       "      <td>25</td>\n",
       "      <td>2555</td>\n",
       "      <td>1099.000000</td>\n",
       "      <td>1</td>\n",
       "      <td>0</td>\n",
       "      <td>0</td>\n",
       "      <td>DEEP PURPLE 30 Very Best Of 2CD (Фирм.)</td>\n",
       "      <td>56</td>\n",
       "      <td>Музыка - CD фирменного производства</td>\n",
       "      <td>Москва ТРК \"Атриум\"</td>\n",
       "    </tr>\n",
       "  </tbody>\n",
       "</table>\n",
       "</div>"
      ],
      "text/plain": [
       "        date  date_block_num  shop_id  item_id   item_price  item_cnt_day  \\\n",
       "0 2013-01-02               0       59    22154   999.000000             1   \n",
       "1 2013-01-03               0       25     2552   899.000000             1   \n",
       "2 2013-01-05               0       25     2552   899.000000            -1   \n",
       "3 2013-01-06               0       25     2554  1709.050049             1   \n",
       "4 2013-01-15               0       25     2555  1099.000000             1   \n",
       "\n",
       "   month  year                                 item_name  item_category_id  \\\n",
       "0      0     0                         ЯВЛЕНИЕ 2012 (BD)                37   \n",
       "1      0     0  DEEP PURPLE  The House Of Blue Light  LP                58   \n",
       "2      0     0  DEEP PURPLE  The House Of Blue Light  LP                58   \n",
       "3      0     0  DEEP PURPLE  Who Do You Think We Are  LP                58   \n",
       "4      0     0   DEEP PURPLE 30 Very Best Of 2CD (Фирм.)                56   \n",
       "\n",
       "                    item_category_name               shop_name  \n",
       "0                       Кино - Blu-Ray  Ярославль ТЦ \"Альтаир\"  \n",
       "1                       Музыка - Винил     Москва ТРК \"Атриум\"  \n",
       "2                       Музыка - Винил     Москва ТРК \"Атриум\"  \n",
       "3                       Музыка - Винил     Москва ТРК \"Атриум\"  \n",
       "4  Музыка - CD фирменного производства     Москва ТРК \"Атриум\"  "
      ]
     },
     "execution_count": 40,
     "metadata": {},
     "output_type": "execute_result"
    }
   ],
   "source": [
    "merged_train_df = ETLTransform.merge_df(train_df, items_df, categories_df, shops_df)\n",
    "merged_train_aggregated_df = ETLTransform.merge_df(train_aggregated, items_df, categories_df, shops_df)\n",
    "\n",
    "merged_train_df.head()"
   ]
  },
  {
   "cell_type": "code",
   "execution_count": 41,
   "metadata": {},
   "outputs": [
    {
     "name": "stdout",
     "output_type": "stream",
     "text": [
      "<class 'pandas.core.frame.DataFrame'>\n",
      "RangeIndex: 2935848 entries, 0 to 2935847\n",
      "Data columns (total 12 columns):\n",
      " #   Column              Dtype         \n",
      "---  ------              -----         \n",
      " 0   date                datetime64[ns]\n",
      " 1   date_block_num      int32         \n",
      " 2   shop_id             int32         \n",
      " 3   item_id             int32         \n",
      " 4   item_price          float32       \n",
      " 5   item_cnt_day        int32         \n",
      " 6   month               int32         \n",
      " 7   year                int32         \n",
      " 8   item_name           category      \n",
      " 9   item_category_id    int32         \n",
      " 10  item_category_name  category      \n",
      " 11  shop_name           category      \n",
      "dtypes: category(3), datetime64[ns](1), float32(1), int32(7)\n",
      "memory usage: 123.9 MB\n"
     ]
    }
   ],
   "source": [
    "merged_train_df.info()"
   ]
  },
  {
   "cell_type": "code",
   "execution_count": 42,
   "metadata": {},
   "outputs": [
    {
     "data": {
      "text/html": [
       "<div>\n",
       "<style scoped>\n",
       "    .dataframe tbody tr th:only-of-type {\n",
       "        vertical-align: middle;\n",
       "    }\n",
       "\n",
       "    .dataframe tbody tr th {\n",
       "        vertical-align: top;\n",
       "    }\n",
       "\n",
       "    .dataframe thead th {\n",
       "        text-align: right;\n",
       "    }\n",
       "</style>\n",
       "<table border=\"1\" class=\"dataframe\">\n",
       "  <thead>\n",
       "    <tr style=\"text-align: right;\">\n",
       "      <th></th>\n",
       "      <th>date_block_num</th>\n",
       "      <th>shop_id</th>\n",
       "      <th>item_id</th>\n",
       "      <th>item_cnt_month</th>\n",
       "      <th>item_price</th>\n",
       "      <th>month</th>\n",
       "      <th>year</th>\n",
       "      <th>item_name</th>\n",
       "      <th>item_category_id</th>\n",
       "      <th>item_category_name</th>\n",
       "      <th>shop_name</th>\n",
       "    </tr>\n",
       "  </thead>\n",
       "  <tbody>\n",
       "    <tr>\n",
       "      <th>0</th>\n",
       "      <td>0</td>\n",
       "      <td>2</td>\n",
       "      <td>27</td>\n",
       "      <td>1</td>\n",
       "      <td>2499.0</td>\n",
       "      <td>0</td>\n",
       "      <td>0</td>\n",
       "      <td>007 Legends [PS3, русская версия]</td>\n",
       "      <td>19</td>\n",
       "      <td>Игры - PS3</td>\n",
       "      <td>Адыгея ТЦ \"Мега\"</td>\n",
       "    </tr>\n",
       "    <tr>\n",
       "      <th>1</th>\n",
       "      <td>0</td>\n",
       "      <td>2</td>\n",
       "      <td>33</td>\n",
       "      <td>1</td>\n",
       "      <td>499.0</td>\n",
       "      <td>0</td>\n",
       "      <td>0</td>\n",
       "      <td>1+1 (BD)</td>\n",
       "      <td>37</td>\n",
       "      <td>Кино - Blu-Ray</td>\n",
       "      <td>Адыгея ТЦ \"Мега\"</td>\n",
       "    </tr>\n",
       "    <tr>\n",
       "      <th>2</th>\n",
       "      <td>0</td>\n",
       "      <td>2</td>\n",
       "      <td>317</td>\n",
       "      <td>1</td>\n",
       "      <td>299.0</td>\n",
       "      <td>0</td>\n",
       "      <td>0</td>\n",
       "      <td>1С:Аудиокниги. Мединский В. Мифы о России. О р...</td>\n",
       "      <td>45</td>\n",
       "      <td>Книги - Аудиокниги 1С</td>\n",
       "      <td>Адыгея ТЦ \"Мега\"</td>\n",
       "    </tr>\n",
       "    <tr>\n",
       "      <th>3</th>\n",
       "      <td>0</td>\n",
       "      <td>2</td>\n",
       "      <td>438</td>\n",
       "      <td>1</td>\n",
       "      <td>299.0</td>\n",
       "      <td>0</td>\n",
       "      <td>0</td>\n",
       "      <td>1С:Аудиотеатр. Лучшие произведения русских пис...</td>\n",
       "      <td>45</td>\n",
       "      <td>Книги - Аудиокниги 1С</td>\n",
       "      <td>Адыгея ТЦ \"Мега\"</td>\n",
       "    </tr>\n",
       "    <tr>\n",
       "      <th>4</th>\n",
       "      <td>0</td>\n",
       "      <td>2</td>\n",
       "      <td>471</td>\n",
       "      <td>2</td>\n",
       "      <td>399.0</td>\n",
       "      <td>0</td>\n",
       "      <td>0</td>\n",
       "      <td>1С:Бухгалтерия 8 (ред.3.0) как на ладони. Изд ...</td>\n",
       "      <td>49</td>\n",
       "      <td>Книги - Методические материалы 1С</td>\n",
       "      <td>Адыгея ТЦ \"Мега\"</td>\n",
       "    </tr>\n",
       "  </tbody>\n",
       "</table>\n",
       "</div>"
      ],
      "text/plain": [
       "   date_block_num  shop_id  item_id  item_cnt_month  item_price  month  year  \\\n",
       "0               0        2       27               1      2499.0      0     0   \n",
       "1               0        2       33               1       499.0      0     0   \n",
       "2               0        2      317               1       299.0      0     0   \n",
       "3               0        2      438               1       299.0      0     0   \n",
       "4               0        2      471               2       399.0      0     0   \n",
       "\n",
       "                                           item_name  item_category_id  \\\n",
       "0                  007 Legends [PS3, русская версия]                19   \n",
       "1                                           1+1 (BD)                37   \n",
       "2  1С:Аудиокниги. Мединский В. Мифы о России. О р...                45   \n",
       "3  1С:Аудиотеатр. Лучшие произведения русских пис...                45   \n",
       "4  1С:Бухгалтерия 8 (ред.3.0) как на ладони. Изд ...                49   \n",
       "\n",
       "                  item_category_name         shop_name  \n",
       "0                         Игры - PS3  Адыгея ТЦ \"Мега\"  \n",
       "1                     Кино - Blu-Ray  Адыгея ТЦ \"Мега\"  \n",
       "2              Книги - Аудиокниги 1С  Адыгея ТЦ \"Мега\"  \n",
       "3              Книги - Аудиокниги 1С  Адыгея ТЦ \"Мега\"  \n",
       "4  Книги - Методические материалы 1С  Адыгея ТЦ \"Мега\"  "
      ]
     },
     "execution_count": 42,
     "metadata": {},
     "output_type": "execute_result"
    }
   ],
   "source": [
    "merged_train_aggregated_df.head()"
   ]
  },
  {
   "cell_type": "code",
   "execution_count": 43,
   "metadata": {},
   "outputs": [
    {
     "data": {
      "text/plain": [
       "0"
      ]
     },
     "execution_count": 43,
     "metadata": {},
     "output_type": "execute_result"
    }
   ],
   "source": [
    "merged_train_aggregated_df.isna().sum().sum()"
   ]
  },
  {
   "cell_type": "markdown",
   "metadata": {},
   "source": [
    "## 9. Do the same for **test_df**"
   ]
  },
  {
   "cell_type": "code",
   "execution_count": 44,
   "metadata": {},
   "outputs": [
    {
     "name": "stdout",
     "output_type": "stream",
     "text": [
      "<class 'pandas.core.frame.DataFrame'>\n",
      "RangeIndex: 214200 entries, 0 to 214199\n",
      "Data columns (total 7 columns):\n",
      " #   Column              Non-Null Count   Dtype   \n",
      "---  ------              --------------   -----   \n",
      " 0   ID                  214200 non-null  int32   \n",
      " 1   shop_id             214200 non-null  int32   \n",
      " 2   item_id             214200 non-null  int32   \n",
      " 3   item_name           214200 non-null  category\n",
      " 4   item_category_id    214200 non-null  int32   \n",
      " 5   item_category_name  214200 non-null  category\n",
      " 6   shop_name           214200 non-null  category\n",
      "dtypes: category(3), int32(4)\n",
      "memory usage: 4.8 MB\n"
     ]
    }
   ],
   "source": [
    "merged_test_df = ETLTransform.merge_df(test_df, items_df, categories_df, shops_df)\n",
    "merged_test_df.info()"
   ]
  },
  {
   "cell_type": "markdown",
   "metadata": {},
   "source": [
    "## 10. Create a dataframe with **item_cnt_month** value for all (date_block_num, shop_id) pairs\n",
    "\n",
    "It will be used later in the EDA Layer"
   ]
  },
  {
   "cell_type": "code",
   "execution_count": 46,
   "metadata": {},
   "outputs": [],
   "source": [
    "full_train_df = create_full_train_dataset(train_df, train_aggregated, items_df, categories_df, shops_df)"
   ]
  },
  {
   "cell_type": "code",
   "execution_count": 47,
   "metadata": {},
   "outputs": [
    {
     "name": "stdout",
     "output_type": "stream",
     "text": [
      "<class 'pandas.core.frame.DataFrame'>\n",
      "RangeIndex: 13308702 entries, 0 to 13308701\n",
      "Data columns (total 10 columns):\n",
      " #   Column              Dtype   \n",
      "---  ------              -----   \n",
      " 0   date_block_num      int16   \n",
      " 1   shop_id             int16   \n",
      " 2   item_id             int16   \n",
      " 3   item_cnt_month      int32   \n",
      " 4   month               float64 \n",
      " 5   year                float64 \n",
      " 6   item_name           category\n",
      " 7   item_category_id    int32   \n",
      " 8   item_category_name  category\n",
      " 9   shop_name           category\n",
      "dtypes: category(3), float64(2), int16(3), int32(2)\n",
      "memory usage: 432.2 MB\n"
     ]
    }
   ],
   "source": [
    "full_train_df.info()"
   ]
  },
  {
   "cell_type": "code",
   "execution_count": 48,
   "metadata": {},
   "outputs": [
    {
     "data": {
      "text/plain": [
       "0"
      ]
     },
     "execution_count": 48,
     "metadata": {},
     "output_type": "execute_result"
    }
   ],
   "source": [
    "full_train_df.isna().sum().sum()"
   ]
  },
  {
   "cell_type": "markdown",
   "metadata": {},
   "source": [
    "## 11. Export dataframes to .csv files"
   ]
  },
  {
   "cell_type": "code",
   "execution_count": 95,
   "metadata": {},
   "outputs": [],
   "source": [
    "merged_test_df.to_csv('../data/merged_test.csv', index=False)\n",
    "merged_train_df.to_csv('../data/merged_train.csv', index=False)\n",
    "merged_train_aggregated_df.to_csv('../data/merged_train_aggregated.csv', index=False)\n",
    "full_train_df.to_csv('../data/full_train.csv', index=False)"
   ]
  }
 ],
 "metadata": {
  "kernelspec": {
   "display_name": "ml",
   "language": "python",
   "name": "python3"
  },
  "language_info": {
   "codemirror_mode": {
    "name": "ipython",
    "version": 3
   },
   "file_extension": ".py",
   "mimetype": "text/x-python",
   "name": "python",
   "nbconvert_exporter": "python",
   "pygments_lexer": "ipython3",
   "version": "3.11.9"
  }
 },
 "nbformat": 4,
 "nbformat_minor": 2
}
