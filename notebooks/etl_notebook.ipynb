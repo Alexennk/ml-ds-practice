{
 "cells": [
  {
   "cell_type": "markdown",
   "metadata": {},
   "source": [
    "## ETL layer\n",
    "\n",
    "### **Description:**\n",
    "\n",
    "- Create an ETL layer based on DQC"
   ]
  },
  {
   "cell_type": "code",
   "execution_count": 2,
   "metadata": {},
   "outputs": [],
   "source": [
    "import numpy as np\n",
    "import pandas as pd\n",
    "import matplotlib as plt\n",
    "\n",
    "import sys\n",
    "sys.path.append('../')\n",
    "import scripts.etl as etl # etl.py module\n",
    "import scripts.dqc as dqc # for \"check_negative_values\" function"
   ]
  },
  {
   "cell_type": "markdown",
   "metadata": {},
   "source": [
    "## 1. Change dtypes for **df_train** columns"
   ]
  },
  {
   "cell_type": "markdown",
   "metadata": {},
   "source": [
    "### Load all necessary data into dataframes at first"
   ]
  },
  {
   "cell_type": "code",
   "execution_count": 3,
   "metadata": {},
   "outputs": [],
   "source": [
    "train_df = pd.read_csv('../data/sales_train.csv')\n",
    "test_df = pd.read_csv('../data/test.csv')\n",
    "items_df = pd.read_csv('../data/items.csv')\n",
    "categories_df = pd.read_csv('../data/item_categories.csv')\n",
    "shops_df = pd.read_csv('../data/shops.csv')"
   ]
  },
  {
   "cell_type": "code",
   "execution_count": 4,
   "metadata": {},
   "outputs": [
    {
     "name": "stdout",
     "output_type": "stream",
     "text": [
      "<class 'pandas.core.frame.DataFrame'>\n",
      "RangeIndex: 2935849 entries, 0 to 2935848\n",
      "Data columns (total 6 columns):\n",
      " #   Column          Dtype  \n",
      "---  ------          -----  \n",
      " 0   date            object \n",
      " 1   date_block_num  int64  \n",
      " 2   shop_id         int64  \n",
      " 3   item_id         int64  \n",
      " 4   item_price      float64\n",
      " 5   item_cnt_day    float64\n",
      "dtypes: float64(2), int64(3), object(1)\n",
      "memory usage: 134.4+ MB\n"
     ]
    }
   ],
   "source": [
    "train_df.info()"
   ]
  },
  {
   "cell_type": "markdown",
   "metadata": {},
   "source": [
    "As it was mentioned earlier, all numerical data can be safely put into int/float-32 dtypes. Moreover, all **item_cnt_day** values are actually integers as well as **date** feature should be of 'datetime' type"
   ]
  },
  {
   "cell_type": "code",
   "execution_count": 5,
   "metadata": {},
   "outputs": [
    {
     "name": "stdout",
     "output_type": "stream",
     "text": [
      "<class 'pandas.core.frame.DataFrame'>\n",
      "RangeIndex: 2935849 entries, 0 to 2935848\n",
      "Data columns (total 6 columns):\n",
      " #   Column          Dtype         \n",
      "---  ------          -----         \n",
      " 0   date            datetime64[ns]\n",
      " 1   date_block_num  int32         \n",
      " 2   shop_id         int32         \n",
      " 3   item_id         int32         \n",
      " 4   item_price      float32       \n",
      " 5   item_cnt_day    int32         \n",
      "dtypes: datetime64[ns](1), float32(1), int32(4)\n",
      "memory usage: 78.4 MB\n"
     ]
    }
   ],
   "source": [
    "train_df['date'] = pd.to_datetime(train_df['date'], format='%d.%m.%Y')\n",
    "\n",
    "int_columns = ['date_block_num', 'shop_id', 'item_id', 'item_cnt_day']\n",
    "float_columns = ['item_price']\n",
    "\n",
    "train_df = etl.transform_df_types(train_df, int_columns, float_columns)\n",
    "train_df.info()"
   ]
  },
  {
   "cell_type": "markdown",
   "metadata": {},
   "source": [
    "### Do the same for other dataframes' integer columns"
   ]
  },
  {
   "cell_type": "code",
   "execution_count": 6,
   "metadata": {},
   "outputs": [
    {
     "name": "stdout",
     "output_type": "stream",
     "text": [
      "<class 'pandas.core.frame.DataFrame'>\n",
      "RangeIndex: 214200 entries, 0 to 214199\n",
      "Data columns (total 3 columns):\n",
      " #   Column   Non-Null Count   Dtype\n",
      "---  ------   --------------   -----\n",
      " 0   ID       214200 non-null  int64\n",
      " 1   shop_id  214200 non-null  int64\n",
      " 2   item_id  214200 non-null  int64\n",
      "dtypes: int64(3)\n",
      "memory usage: 4.9 MB\n"
     ]
    }
   ],
   "source": [
    "test_df.info()"
   ]
  },
  {
   "cell_type": "code",
   "execution_count": 7,
   "metadata": {},
   "outputs": [],
   "source": [
    "test_df = etl.transform_df_types(test_df, int_columns=test_df.columns.to_list())"
   ]
  },
  {
   "cell_type": "code",
   "execution_count": 8,
   "metadata": {},
   "outputs": [
    {
     "name": "stdout",
     "output_type": "stream",
     "text": [
      "<class 'pandas.core.frame.DataFrame'>\n",
      "RangeIndex: 22170 entries, 0 to 22169\n",
      "Data columns (total 3 columns):\n",
      " #   Column            Non-Null Count  Dtype \n",
      "---  ------            --------------  ----- \n",
      " 0   item_name         22170 non-null  object\n",
      " 1   item_id           22170 non-null  int64 \n",
      " 2   item_category_id  22170 non-null  int64 \n",
      "dtypes: int64(2), object(1)\n",
      "memory usage: 519.7+ KB\n"
     ]
    }
   ],
   "source": [
    "items_df.info()"
   ]
  },
  {
   "cell_type": "code",
   "execution_count": 9,
   "metadata": {},
   "outputs": [],
   "source": [
    "items_df = etl.transform_df_types(items_df, int_columns=['item_id', 'item_category_id'], object_columns=['item_name'])"
   ]
  },
  {
   "cell_type": "code",
   "execution_count": 10,
   "metadata": {},
   "outputs": [
    {
     "name": "stdout",
     "output_type": "stream",
     "text": [
      "<class 'pandas.core.frame.DataFrame'>\n",
      "RangeIndex: 84 entries, 0 to 83\n",
      "Data columns (total 2 columns):\n",
      " #   Column              Non-Null Count  Dtype \n",
      "---  ------              --------------  ----- \n",
      " 0   item_category_name  84 non-null     object\n",
      " 1   item_category_id    84 non-null     int64 \n",
      "dtypes: int64(1), object(1)\n",
      "memory usage: 1.4+ KB\n"
     ]
    }
   ],
   "source": [
    "categories_df.info()"
   ]
  },
  {
   "cell_type": "code",
   "execution_count": 11,
   "metadata": {},
   "outputs": [],
   "source": [
    "categories_df = etl.transform_df_types(categories_df, int_columns=['item_category_id'], object_columns=['item_category_name'])"
   ]
  },
  {
   "cell_type": "code",
   "execution_count": 12,
   "metadata": {},
   "outputs": [
    {
     "name": "stdout",
     "output_type": "stream",
     "text": [
      "<class 'pandas.core.frame.DataFrame'>\n",
      "RangeIndex: 60 entries, 0 to 59\n",
      "Data columns (total 2 columns):\n",
      " #   Column     Non-Null Count  Dtype \n",
      "---  ------     --------------  ----- \n",
      " 0   shop_name  60 non-null     object\n",
      " 1   shop_id    60 non-null     int64 \n",
      "dtypes: int64(1), object(1)\n",
      "memory usage: 1.1+ KB\n"
     ]
    }
   ],
   "source": [
    "shops_df.info()"
   ]
  },
  {
   "cell_type": "code",
   "execution_count": 13,
   "metadata": {},
   "outputs": [],
   "source": [
    "shops_df = etl.transform_df_types(shops_df, int_columns=['shop_id'], object_columns=['shop_name'])"
   ]
  },
  {
   "cell_type": "markdown",
   "metadata": {},
   "source": [
    "## 2. Delete rows with negative values"
   ]
  },
  {
   "cell_type": "markdown",
   "metadata": {},
   "source": [
    "As we already now from the DQC Layer, 'item_price' feature has one negative value that should be deleted. "
   ]
  },
  {
   "cell_type": "code",
   "execution_count": 14,
   "metadata": {},
   "outputs": [
    {
     "name": "stdout",
     "output_type": "stream",
     "text": [
      "3.406169731481422e-05 percent of values are negative\n"
     ]
    }
   ],
   "source": [
    "dqc.check_negative_values(train_df, 'item_price')"
   ]
  },
  {
   "cell_type": "code",
   "execution_count": 15,
   "metadata": {},
   "outputs": [],
   "source": [
    "train_df = etl.del_negative(train_df, 'item_price')"
   ]
  },
  {
   "cell_type": "markdown",
   "metadata": {},
   "source": [
    "### Check for negative values again"
   ]
  },
  {
   "cell_type": "code",
   "execution_count": 16,
   "metadata": {},
   "outputs": [
    {
     "name": "stdout",
     "output_type": "stream",
     "text": [
      "No negative values found\n"
     ]
    }
   ],
   "source": [
    "dqc.check_negative_values(train_df, 'item_price')"
   ]
  },
  {
   "cell_type": "code",
   "execution_count": 17,
   "metadata": {},
   "outputs": [
    {
     "name": "stdout",
     "output_type": "stream",
     "text": [
      "<class 'pandas.core.frame.DataFrame'>\n",
      "RangeIndex: 2935848 entries, 0 to 2935847\n",
      "Data columns (total 6 columns):\n",
      " #   Column          Dtype         \n",
      "---  ------          -----         \n",
      " 0   date            datetime64[ns]\n",
      " 1   date_block_num  int32         \n",
      " 2   shop_id         int32         \n",
      " 3   item_id         int32         \n",
      " 4   item_price      float32       \n",
      " 5   item_cnt_day    int32         \n",
      "dtypes: datetime64[ns](1), float32(1), int32(4)\n",
      "memory usage: 78.4 MB\n"
     ]
    }
   ],
   "source": [
    "train_df.reset_index(drop=True, inplace=True)\n",
    "train_df.info()"
   ]
  },
  {
   "cell_type": "markdown",
   "metadata": {},
   "source": [
    "## 3. Fix **shops_df** duplicate data "
   ]
  },
  {
   "cell_type": "code",
   "execution_count": 18,
   "metadata": {},
   "outputs": [],
   "source": [
    "shops_df = etl.change_shop_attributes(shops_df)"
   ]
  },
  {
   "cell_type": "markdown",
   "metadata": {},
   "source": [
    "## 3. Create a copy of **df_train** to aggregate monthly sales"
   ]
  },
  {
   "cell_type": "code",
   "execution_count": 19,
   "metadata": {},
   "outputs": [
    {
     "data": {
      "text/html": [
       "<div>\n",
       "<style scoped>\n",
       "    .dataframe tbody tr th:only-of-type {\n",
       "        vertical-align: middle;\n",
       "    }\n",
       "\n",
       "    .dataframe tbody tr th {\n",
       "        vertical-align: top;\n",
       "    }\n",
       "\n",
       "    .dataframe thead th {\n",
       "        text-align: right;\n",
       "    }\n",
       "</style>\n",
       "<table border=\"1\" class=\"dataframe\">\n",
       "  <thead>\n",
       "    <tr style=\"text-align: right;\">\n",
       "      <th></th>\n",
       "      <th>date_block_num</th>\n",
       "      <th>shop_id</th>\n",
       "      <th>item_id</th>\n",
       "      <th>item_cnt_month</th>\n",
       "      <th>item_price</th>\n",
       "    </tr>\n",
       "  </thead>\n",
       "  <tbody>\n",
       "    <tr>\n",
       "      <th>0</th>\n",
       "      <td>0</td>\n",
       "      <td>0</td>\n",
       "      <td>32</td>\n",
       "      <td>6</td>\n",
       "      <td>221.0</td>\n",
       "    </tr>\n",
       "    <tr>\n",
       "      <th>1</th>\n",
       "      <td>0</td>\n",
       "      <td>0</td>\n",
       "      <td>33</td>\n",
       "      <td>3</td>\n",
       "      <td>347.0</td>\n",
       "    </tr>\n",
       "    <tr>\n",
       "      <th>2</th>\n",
       "      <td>0</td>\n",
       "      <td>0</td>\n",
       "      <td>35</td>\n",
       "      <td>1</td>\n",
       "      <td>247.0</td>\n",
       "    </tr>\n",
       "    <tr>\n",
       "      <th>3</th>\n",
       "      <td>0</td>\n",
       "      <td>0</td>\n",
       "      <td>43</td>\n",
       "      <td>1</td>\n",
       "      <td>221.0</td>\n",
       "    </tr>\n",
       "    <tr>\n",
       "      <th>4</th>\n",
       "      <td>0</td>\n",
       "      <td>0</td>\n",
       "      <td>51</td>\n",
       "      <td>2</td>\n",
       "      <td>128.5</td>\n",
       "    </tr>\n",
       "  </tbody>\n",
       "</table>\n",
       "</div>"
      ],
      "text/plain": [
       "   date_block_num  shop_id  item_id  item_cnt_month  item_price\n",
       "0               0        0       32               6       221.0\n",
       "1               0        0       33               3       347.0\n",
       "2               0        0       35               1       247.0\n",
       "3               0        0       43               1       221.0\n",
       "4               0        0       51               2       128.5"
      ]
     },
     "execution_count": 19,
     "metadata": {},
     "output_type": "execute_result"
    }
   ],
   "source": [
    "train_aggregated = train_df.groupby(['date_block_num', 'shop_id', 'item_id']).agg({'item_cnt_day': 'sum', 'item_price': 'mean'}).reset_index()\n",
    "\n",
    "train_aggregated.rename(columns={'item_cnt_day': 'item_cnt_month'}, inplace=True)\n",
    "train_aggregated.head()"
   ]
  },
  {
   "cell_type": "markdown",
   "metadata": {},
   "source": [
    "## 4. Add **year** and **month** columns to received datasets"
   ]
  },
  {
   "cell_type": "code",
   "execution_count": 20,
   "metadata": {},
   "outputs": [
    {
     "data": {
      "text/html": [
       "<div>\n",
       "<style scoped>\n",
       "    .dataframe tbody tr th:only-of-type {\n",
       "        vertical-align: middle;\n",
       "    }\n",
       "\n",
       "    .dataframe tbody tr th {\n",
       "        vertical-align: top;\n",
       "    }\n",
       "\n",
       "    .dataframe thead th {\n",
       "        text-align: right;\n",
       "    }\n",
       "</style>\n",
       "<table border=\"1\" class=\"dataframe\">\n",
       "  <thead>\n",
       "    <tr style=\"text-align: right;\">\n",
       "      <th></th>\n",
       "      <th>date</th>\n",
       "      <th>date_block_num</th>\n",
       "      <th>shop_id</th>\n",
       "      <th>item_id</th>\n",
       "      <th>item_price</th>\n",
       "      <th>item_cnt_day</th>\n",
       "      <th>month</th>\n",
       "      <th>year</th>\n",
       "    </tr>\n",
       "  </thead>\n",
       "  <tbody>\n",
       "    <tr>\n",
       "      <th>0</th>\n",
       "      <td>2013-01-02</td>\n",
       "      <td>0</td>\n",
       "      <td>59</td>\n",
       "      <td>22154</td>\n",
       "      <td>999.000000</td>\n",
       "      <td>1</td>\n",
       "      <td>0</td>\n",
       "      <td>0</td>\n",
       "    </tr>\n",
       "    <tr>\n",
       "      <th>1</th>\n",
       "      <td>2013-01-03</td>\n",
       "      <td>0</td>\n",
       "      <td>25</td>\n",
       "      <td>2552</td>\n",
       "      <td>899.000000</td>\n",
       "      <td>1</td>\n",
       "      <td>0</td>\n",
       "      <td>0</td>\n",
       "    </tr>\n",
       "    <tr>\n",
       "      <th>2</th>\n",
       "      <td>2013-01-05</td>\n",
       "      <td>0</td>\n",
       "      <td>25</td>\n",
       "      <td>2552</td>\n",
       "      <td>899.000000</td>\n",
       "      <td>-1</td>\n",
       "      <td>0</td>\n",
       "      <td>0</td>\n",
       "    </tr>\n",
       "    <tr>\n",
       "      <th>3</th>\n",
       "      <td>2013-01-06</td>\n",
       "      <td>0</td>\n",
       "      <td>25</td>\n",
       "      <td>2554</td>\n",
       "      <td>1709.050049</td>\n",
       "      <td>1</td>\n",
       "      <td>0</td>\n",
       "      <td>0</td>\n",
       "    </tr>\n",
       "    <tr>\n",
       "      <th>4</th>\n",
       "      <td>2013-01-15</td>\n",
       "      <td>0</td>\n",
       "      <td>25</td>\n",
       "      <td>2555</td>\n",
       "      <td>1099.000000</td>\n",
       "      <td>1</td>\n",
       "      <td>0</td>\n",
       "      <td>0</td>\n",
       "    </tr>\n",
       "  </tbody>\n",
       "</table>\n",
       "</div>"
      ],
      "text/plain": [
       "        date  date_block_num  shop_id  item_id   item_price  item_cnt_day  \\\n",
       "0 2013-01-02               0       59    22154   999.000000             1   \n",
       "1 2013-01-03               0       25     2552   899.000000             1   \n",
       "2 2013-01-05               0       25     2552   899.000000            -1   \n",
       "3 2013-01-06               0       25     2554  1709.050049             1   \n",
       "4 2013-01-15               0       25     2555  1099.000000             1   \n",
       "\n",
       "   month  year  \n",
       "0      0     0  \n",
       "1      0     0  \n",
       "2      0     0  \n",
       "3      0     0  \n",
       "4      0     0  "
      ]
     },
     "execution_count": 20,
     "metadata": {},
     "output_type": "execute_result"
    }
   ],
   "source": [
    "train_df = etl.add_month_year_columns(train_df)\n",
    "train_aggregated = etl.add_month_year_columns(train_aggregated)\n",
    "\n",
    "train_df.head()"
   ]
  },
  {
   "cell_type": "markdown",
   "metadata": {},
   "source": [
    "## 5. Merge **train_df** with **items_df, categories_df, shops_df**"
   ]
  },
  {
   "cell_type": "code",
   "execution_count": 21,
   "metadata": {},
   "outputs": [
    {
     "data": {
      "text/html": [
       "<div>\n",
       "<style scoped>\n",
       "    .dataframe tbody tr th:only-of-type {\n",
       "        vertical-align: middle;\n",
       "    }\n",
       "\n",
       "    .dataframe tbody tr th {\n",
       "        vertical-align: top;\n",
       "    }\n",
       "\n",
       "    .dataframe thead th {\n",
       "        text-align: right;\n",
       "    }\n",
       "</style>\n",
       "<table border=\"1\" class=\"dataframe\">\n",
       "  <thead>\n",
       "    <tr style=\"text-align: right;\">\n",
       "      <th></th>\n",
       "      <th>date</th>\n",
       "      <th>date_block_num</th>\n",
       "      <th>shop_id</th>\n",
       "      <th>item_id</th>\n",
       "      <th>item_price</th>\n",
       "      <th>item_cnt_day</th>\n",
       "      <th>month</th>\n",
       "      <th>year</th>\n",
       "      <th>item_name</th>\n",
       "      <th>item_category_id</th>\n",
       "      <th>item_category_name</th>\n",
       "      <th>shop_name</th>\n",
       "    </tr>\n",
       "  </thead>\n",
       "  <tbody>\n",
       "    <tr>\n",
       "      <th>0</th>\n",
       "      <td>2013-01-02</td>\n",
       "      <td>0</td>\n",
       "      <td>59</td>\n",
       "      <td>22154</td>\n",
       "      <td>999.000000</td>\n",
       "      <td>1</td>\n",
       "      <td>0</td>\n",
       "      <td>0</td>\n",
       "      <td>ЯВЛЕНИЕ 2012 (BD)</td>\n",
       "      <td>37</td>\n",
       "      <td>Кино - Blu-Ray</td>\n",
       "      <td>Ярославль ТЦ \"Альтаир\"</td>\n",
       "    </tr>\n",
       "    <tr>\n",
       "      <th>1</th>\n",
       "      <td>2013-01-03</td>\n",
       "      <td>0</td>\n",
       "      <td>25</td>\n",
       "      <td>2552</td>\n",
       "      <td>899.000000</td>\n",
       "      <td>1</td>\n",
       "      <td>0</td>\n",
       "      <td>0</td>\n",
       "      <td>DEEP PURPLE  The House Of Blue Light  LP</td>\n",
       "      <td>58</td>\n",
       "      <td>Музыка - Винил</td>\n",
       "      <td>Москва ТРК \"Атриум\"</td>\n",
       "    </tr>\n",
       "    <tr>\n",
       "      <th>2</th>\n",
       "      <td>2013-01-05</td>\n",
       "      <td>0</td>\n",
       "      <td>25</td>\n",
       "      <td>2552</td>\n",
       "      <td>899.000000</td>\n",
       "      <td>-1</td>\n",
       "      <td>0</td>\n",
       "      <td>0</td>\n",
       "      <td>DEEP PURPLE  The House Of Blue Light  LP</td>\n",
       "      <td>58</td>\n",
       "      <td>Музыка - Винил</td>\n",
       "      <td>Москва ТРК \"Атриум\"</td>\n",
       "    </tr>\n",
       "    <tr>\n",
       "      <th>3</th>\n",
       "      <td>2013-01-06</td>\n",
       "      <td>0</td>\n",
       "      <td>25</td>\n",
       "      <td>2554</td>\n",
       "      <td>1709.050049</td>\n",
       "      <td>1</td>\n",
       "      <td>0</td>\n",
       "      <td>0</td>\n",
       "      <td>DEEP PURPLE  Who Do You Think We Are  LP</td>\n",
       "      <td>58</td>\n",
       "      <td>Музыка - Винил</td>\n",
       "      <td>Москва ТРК \"Атриум\"</td>\n",
       "    </tr>\n",
       "    <tr>\n",
       "      <th>4</th>\n",
       "      <td>2013-01-15</td>\n",
       "      <td>0</td>\n",
       "      <td>25</td>\n",
       "      <td>2555</td>\n",
       "      <td>1099.000000</td>\n",
       "      <td>1</td>\n",
       "      <td>0</td>\n",
       "      <td>0</td>\n",
       "      <td>DEEP PURPLE 30 Very Best Of 2CD (Фирм.)</td>\n",
       "      <td>56</td>\n",
       "      <td>Музыка - CD фирменного производства</td>\n",
       "      <td>Москва ТРК \"Атриум\"</td>\n",
       "    </tr>\n",
       "  </tbody>\n",
       "</table>\n",
       "</div>"
      ],
      "text/plain": [
       "        date  date_block_num  shop_id  item_id   item_price  item_cnt_day  \\\n",
       "0 2013-01-02               0       59    22154   999.000000             1   \n",
       "1 2013-01-03               0       25     2552   899.000000             1   \n",
       "2 2013-01-05               0       25     2552   899.000000            -1   \n",
       "3 2013-01-06               0       25     2554  1709.050049             1   \n",
       "4 2013-01-15               0       25     2555  1099.000000             1   \n",
       "\n",
       "   month  year                                 item_name  item_category_id  \\\n",
       "0      0     0                         ЯВЛЕНИЕ 2012 (BD)                37   \n",
       "1      0     0  DEEP PURPLE  The House Of Blue Light  LP                58   \n",
       "2      0     0  DEEP PURPLE  The House Of Blue Light  LP                58   \n",
       "3      0     0  DEEP PURPLE  Who Do You Think We Are  LP                58   \n",
       "4      0     0   DEEP PURPLE 30 Very Best Of 2CD (Фирм.)                56   \n",
       "\n",
       "                    item_category_name               shop_name  \n",
       "0                       Кино - Blu-Ray  Ярославль ТЦ \"Альтаир\"  \n",
       "1                       Музыка - Винил     Москва ТРК \"Атриум\"  \n",
       "2                       Музыка - Винил     Москва ТРК \"Атриум\"  \n",
       "3                       Музыка - Винил     Москва ТРК \"Атриум\"  \n",
       "4  Музыка - CD фирменного производства     Москва ТРК \"Атриум\"  "
      ]
     },
     "execution_count": 21,
     "metadata": {},
     "output_type": "execute_result"
    }
   ],
   "source": [
    "merged_train_df = etl.merge_df(train_df, items_df, categories_df, shops_df)\n",
    "merged_train_aggregated_df = etl.merge_df(train_aggregated, items_df, categories_df, shops_df)\n",
    "\n",
    "merged_train_df.head()"
   ]
  },
  {
   "cell_type": "code",
   "execution_count": 22,
   "metadata": {},
   "outputs": [
    {
     "name": "stdout",
     "output_type": "stream",
     "text": [
      "<class 'pandas.core.frame.DataFrame'>\n",
      "RangeIndex: 3125216 entries, 0 to 3125215\n",
      "Data columns (total 12 columns):\n",
      " #   Column              Dtype         \n",
      "---  ------              -----         \n",
      " 0   date                datetime64[ns]\n",
      " 1   date_block_num      int32         \n",
      " 2   shop_id             int32         \n",
      " 3   item_id             int32         \n",
      " 4   item_price          float32       \n",
      " 5   item_cnt_day        int32         \n",
      " 6   month               int32         \n",
      " 7   year                int32         \n",
      " 8   item_name           category      \n",
      " 9   item_category_id    int32         \n",
      " 10  item_category_name  category      \n",
      " 11  shop_name           category      \n",
      "dtypes: category(3), datetime64[ns](1), float32(1), int32(7)\n",
      "memory usage: 131.8 MB\n"
     ]
    }
   ],
   "source": [
    "merged_train_df.info()"
   ]
  },
  {
   "cell_type": "code",
   "execution_count": 23,
   "metadata": {},
   "outputs": [
    {
     "data": {
      "text/html": [
       "<div>\n",
       "<style scoped>\n",
       "    .dataframe tbody tr th:only-of-type {\n",
       "        vertical-align: middle;\n",
       "    }\n",
       "\n",
       "    .dataframe tbody tr th {\n",
       "        vertical-align: top;\n",
       "    }\n",
       "\n",
       "    .dataframe thead th {\n",
       "        text-align: right;\n",
       "    }\n",
       "</style>\n",
       "<table border=\"1\" class=\"dataframe\">\n",
       "  <thead>\n",
       "    <tr style=\"text-align: right;\">\n",
       "      <th></th>\n",
       "      <th>date_block_num</th>\n",
       "      <th>shop_id</th>\n",
       "      <th>item_id</th>\n",
       "      <th>item_cnt_month</th>\n",
       "      <th>item_price</th>\n",
       "      <th>month</th>\n",
       "      <th>year</th>\n",
       "      <th>item_name</th>\n",
       "      <th>item_category_id</th>\n",
       "      <th>item_category_name</th>\n",
       "      <th>shop_name</th>\n",
       "    </tr>\n",
       "  </thead>\n",
       "  <tbody>\n",
       "    <tr>\n",
       "      <th>0</th>\n",
       "      <td>0</td>\n",
       "      <td>0</td>\n",
       "      <td>32</td>\n",
       "      <td>6</td>\n",
       "      <td>221.0</td>\n",
       "      <td>0</td>\n",
       "      <td>0</td>\n",
       "      <td>1+1</td>\n",
       "      <td>40</td>\n",
       "      <td>Кино - DVD</td>\n",
       "      <td>NaN</td>\n",
       "    </tr>\n",
       "    <tr>\n",
       "      <th>1</th>\n",
       "      <td>0</td>\n",
       "      <td>0</td>\n",
       "      <td>33</td>\n",
       "      <td>3</td>\n",
       "      <td>347.0</td>\n",
       "      <td>0</td>\n",
       "      <td>0</td>\n",
       "      <td>1+1 (BD)</td>\n",
       "      <td>37</td>\n",
       "      <td>Кино - Blu-Ray</td>\n",
       "      <td>NaN</td>\n",
       "    </tr>\n",
       "    <tr>\n",
       "      <th>2</th>\n",
       "      <td>0</td>\n",
       "      <td>0</td>\n",
       "      <td>35</td>\n",
       "      <td>1</td>\n",
       "      <td>247.0</td>\n",
       "      <td>0</td>\n",
       "      <td>0</td>\n",
       "      <td>10 ЛЕТ СПУСТЯ</td>\n",
       "      <td>40</td>\n",
       "      <td>Кино - DVD</td>\n",
       "      <td>NaN</td>\n",
       "    </tr>\n",
       "    <tr>\n",
       "      <th>3</th>\n",
       "      <td>0</td>\n",
       "      <td>0</td>\n",
       "      <td>43</td>\n",
       "      <td>1</td>\n",
       "      <td>221.0</td>\n",
       "      <td>0</td>\n",
       "      <td>0</td>\n",
       "      <td>100 МИЛЛИОНОВ ЕВРО</td>\n",
       "      <td>40</td>\n",
       "      <td>Кино - DVD</td>\n",
       "      <td>NaN</td>\n",
       "    </tr>\n",
       "    <tr>\n",
       "      <th>4</th>\n",
       "      <td>0</td>\n",
       "      <td>0</td>\n",
       "      <td>51</td>\n",
       "      <td>2</td>\n",
       "      <td>128.5</td>\n",
       "      <td>0</td>\n",
       "      <td>0</td>\n",
       "      <td>100 лучших произведений классики (mp3-CD) (Dig...</td>\n",
       "      <td>57</td>\n",
       "      <td>Музыка - MP3</td>\n",
       "      <td>NaN</td>\n",
       "    </tr>\n",
       "  </tbody>\n",
       "</table>\n",
       "</div>"
      ],
      "text/plain": [
       "   date_block_num  shop_id  item_id  item_cnt_month  item_price  month  year  \\\n",
       "0               0        0       32               6       221.0      0     0   \n",
       "1               0        0       33               3       347.0      0     0   \n",
       "2               0        0       35               1       247.0      0     0   \n",
       "3               0        0       43               1       221.0      0     0   \n",
       "4               0        0       51               2       128.5      0     0   \n",
       "\n",
       "                                           item_name  item_category_id  \\\n",
       "0                                                1+1                40   \n",
       "1                                           1+1 (BD)                37   \n",
       "2                                      10 ЛЕТ СПУСТЯ                40   \n",
       "3                                 100 МИЛЛИОНОВ ЕВРО                40   \n",
       "4  100 лучших произведений классики (mp3-CD) (Dig...                57   \n",
       "\n",
       "  item_category_name shop_name  \n",
       "0         Кино - DVD       NaN  \n",
       "1     Кино - Blu-Ray       NaN  \n",
       "2         Кино - DVD       NaN  \n",
       "3         Кино - DVD       NaN  \n",
       "4       Музыка - MP3       NaN  "
      ]
     },
     "execution_count": 23,
     "metadata": {},
     "output_type": "execute_result"
    }
   ],
   "source": [
    "merged_train_aggregated_df.head()"
   ]
  },
  {
   "cell_type": "code",
   "execution_count": 24,
   "metadata": {},
   "outputs": [
    {
     "name": "stdout",
     "output_type": "stream",
     "text": [
      "<class 'pandas.core.frame.DataFrame'>\n",
      "RangeIndex: 1707421 entries, 0 to 1707420\n",
      "Data columns (total 11 columns):\n",
      " #   Column              Dtype   \n",
      "---  ------              -----   \n",
      " 0   date_block_num      int32   \n",
      " 1   shop_id             int32   \n",
      " 2   item_id             int32   \n",
      " 3   item_cnt_month      int32   \n",
      " 4   item_price          float32 \n",
      " 5   month               int32   \n",
      " 6   year                int32   \n",
      " 7   item_name           category\n",
      " 8   item_category_id    int32   \n",
      " 9   item_category_name  category\n",
      " 10  shop_name           category\n",
      "dtypes: category(3), float32(1), int32(7)\n",
      "memory usage: 59.3 MB\n"
     ]
    }
   ],
   "source": [
    "merged_train_aggregated_df.info()"
   ]
  },
  {
   "cell_type": "markdown",
   "metadata": {},
   "source": [
    "## 6. Do the same for **test_df**"
   ]
  },
  {
   "cell_type": "code",
   "execution_count": 25,
   "metadata": {},
   "outputs": [
    {
     "name": "stdout",
     "output_type": "stream",
     "text": [
      "<class 'pandas.core.frame.DataFrame'>\n",
      "RangeIndex: 224400 entries, 0 to 224399\n",
      "Data columns (total 7 columns):\n",
      " #   Column              Non-Null Count   Dtype   \n",
      "---  ------              --------------   -----   \n",
      " 0   ID                  224400 non-null  int32   \n",
      " 1   shop_id             224400 non-null  int32   \n",
      " 2   item_id             224400 non-null  int32   \n",
      " 3   item_name           224400 non-null  category\n",
      " 4   item_category_id    224400 non-null  int32   \n",
      " 5   item_category_name  224400 non-null  category\n",
      " 6   shop_name           219300 non-null  category\n",
      "dtypes: category(3), int32(4)\n",
      "memory usage: 5.0 MB\n"
     ]
    }
   ],
   "source": [
    "merged_test_df = etl.merge_df(test_df, items_df, categories_df, shops_df)\n",
    "merged_test_df.info()"
   ]
  },
  {
   "cell_type": "markdown",
   "metadata": {},
   "source": [
    "## 7. Export dataframes to .csv files"
   ]
  },
  {
   "cell_type": "code",
   "execution_count": 26,
   "metadata": {},
   "outputs": [],
   "source": [
    "merged_test_df.to_csv('../data/merged_test.csv', index=False)\n",
    "merged_train_df.to_csv('../data/merged_train.csv', index=False)\n",
    "merged_train_aggregated_df.to_csv('../data/merged_train_aggregated.csv', index=False)"
   ]
  }
 ],
 "metadata": {
  "kernelspec": {
   "display_name": "ml",
   "language": "python",
   "name": "python3"
  },
  "language_info": {
   "codemirror_mode": {
    "name": "ipython",
    "version": 3
   },
   "file_extension": ".py",
   "mimetype": "text/x-python",
   "name": "python",
   "nbconvert_exporter": "python",
   "pygments_lexer": "ipython3",
   "version": "3.11.9"
  }
 },
 "nbformat": 4,
 "nbformat_minor": 2
}
