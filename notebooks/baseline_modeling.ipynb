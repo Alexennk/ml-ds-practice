{
 "cells": [
  {
   "cell_type": "markdown",
   "metadata": {},
   "source": [
    "# DS-2.2 Baseline modeling pt.2\n",
    "\n",
    "## **Description:**\n",
    "\n",
    "Time to create wonders!! We are finally ready to produce our first ML model to meet customer requirements:\n",
    "- Create your feature extraction step in accordance with our validation schema\n",
    "- Intergrate your extraction algo into your validation class to ensure data leakage absence\n",
    "- Create several ML models: \n",
    "    - Linear regression, SVR, Random Forest, XGBoost and play with them, find the best model and make your first submission"
   ]
  },
  {
   "cell_type": "code",
   "execution_count": 1,
   "metadata": {},
   "outputs": [],
   "source": [
    "import numpy as np\n",
    "import pandas as pd\n",
    "import matplotlib.pyplot as plt\n",
    "import seaborn as sns\n",
    "\n",
    "import sys\n",
    "sys.path.append('../')\n",
    "from scripts.etl import transform_df_types\n",
    "import scripts.baseline_modeling as bm # baseline_modeling.py module"
   ]
  },
  {
   "cell_type": "code",
   "execution_count": null,
   "metadata": {},
   "outputs": [],
   "source": []
  }
 ],
 "metadata": {
  "kernelspec": {
   "display_name": "ml",
   "language": "python",
   "name": "python3"
  },
  "language_info": {
   "codemirror_mode": {
    "name": "ipython",
    "version": 3
   },
   "file_extension": ".py",
   "mimetype": "text/x-python",
   "name": "python",
   "nbconvert_exporter": "python",
   "pygments_lexer": "ipython3",
   "version": "3.11.9"
  }
 },
 "nbformat": 4,
 "nbformat_minor": 2
}
