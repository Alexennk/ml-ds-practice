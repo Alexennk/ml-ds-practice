{
 "cells": [
  {
   "cell_type": "markdown",
   "metadata": {},
   "source": [
    "## DQC layer \n",
    "\n",
    "### **Kaggle task data holder:**\n",
    "\n",
    "https://www.kaggle.com/competitions/competitive-data-science-predict-future-sales\n",
    "\n",
    "### **Description:**\n",
    "\n",
    "- Your current goal is get familiar with the data you were given, so in this task you should create a notebook that would show all data you have\n",
    "- The second task is Data Quality Check layer. Since you would work a lot with your data, it would be useful to create a dqc notebook that would be used to mark all possible issues that your data have:\n",
    "    - Outliers\n",
    "    - Poor dynamic all a lot of missing information\n",
    "    - Data inconsistency\n",
    "- Note: the main question you should answer in order to understand DQC layer is where is it used, so we use DQC in order to create ETL layer or conduct a data extraction\n",
    "\n",
    "### **Possible Tools:**\n",
    "\n",
    "- Data visualisation - seaborn, plotly, matplotlib\n",
    "- Data processing - pandas, numpy, statsmodels, scikit-learn\n",
    "\n",
    "## In this notebook I only check for various possible data issues. All the needed data transformations are performed within the ETL layer"
   ]
  },
  {
   "cell_type": "code",
   "execution_count": 1,
   "metadata": {},
   "outputs": [],
   "source": [
    "import pandas as pd\n",
    "import numpy as np\n",
    "import matplotlib.pyplot as plt\n",
    "import seaborn as sns\n",
    "\n",
    "import sys\n",
    "\n",
    "sys.path.append(\"../\")\n",
    "from scripts.dqc import DataQualityCheck  # dqc.py module"
   ]
  },
  {
   "cell_type": "code",
   "execution_count": 2,
   "metadata": {},
   "outputs": [],
   "source": [
    "# !kaggle competitions download -c competitive-data-science-predict-future-sales"
   ]
  },
  {
   "cell_type": "code",
   "execution_count": 3,
   "metadata": {},
   "outputs": [],
   "source": [
    "# !unzip competitive-data-science-predict-future-sales.zip -d ../data"
   ]
  },
  {
   "cell_type": "markdown",
   "metadata": {},
   "source": [
    "### **File descriptions**\n",
    "\n",
    "- sales_train.csv - the training set. Daily historical data from January 2013 to October 2015.\n",
    "- test.csv - the test set. You need to forecast the sales for these shops and products for November 2015.\n",
    "- sample_submission.csv - a sample submission file in the correct format.\n",
    "- items.csv - supplemental information about the items/products.\n",
    "- item_categories.csv  - supplemental information about the items categories.\n",
    "- shops.csv- supplemental information about the shops.\n",
    "\n",
    "### **Data fields**\n",
    "\n",
    "- ID - an Id that represents a (Shop, Item) tuple within the test set\n",
    "- shop_id - unique identifier of a shop\n",
    "- item_id - unique identifier of a product\n",
    "- item_category_id - unique identifier of item category\n",
    "- item_cnt_day - number of products sold. You are predicting a monthly amount of this measure\n",
    "- item_price - current price of an item\n",
    "- date - date in format dd/mm/yyyy\n",
    "- date_block_num - a consecutive month number, used for convenience. January 2013 is 0, February 2013 is 1,..., October 2015 is 33\n",
    "- item_name - name of item\n",
    "- shop_name - name of shop\n",
    "- item_category_name - name of item category"
   ]
  },
  {
   "cell_type": "markdown",
   "metadata": {},
   "source": [
    "## 1. Load data into dataframes and show data structure"
   ]
  },
  {
   "cell_type": "code",
   "execution_count": 2,
   "metadata": {},
   "outputs": [],
   "source": [
    "train_df = pd.read_csv(\"../data/sales_train.csv\")\n",
    "test_df = pd.read_csv(\"../data/test.csv\")\n",
    "items_df = pd.read_csv(\"../data/items.csv\")\n",
    "categories_df = pd.read_csv(\"../data/item_categories.csv\")\n",
    "shops_df = pd.read_csv(\"../data/shops.csv\")"
   ]
  },
  {
   "cell_type": "code",
   "execution_count": 3,
   "metadata": {},
   "outputs": [
    {
     "name": "stdout",
     "output_type": "stream",
     "text": [
      "<class 'pandas.core.frame.DataFrame'>\n",
      "RangeIndex: 214200 entries, 0 to 214199\n",
      "Data columns (total 3 columns):\n",
      " #   Column   Non-Null Count   Dtype\n",
      "---  ------   --------------   -----\n",
      " 0   ID       214200 non-null  int64\n",
      " 1   shop_id  214200 non-null  int64\n",
      " 2   item_id  214200 non-null  int64\n",
      "dtypes: int64(3)\n",
      "memory usage: 4.9 MB\n"
     ]
    }
   ],
   "source": [
    "test_df.info()"
   ]
  },
  {
   "cell_type": "markdown",
   "metadata": {},
   "source": [
    "### Look at **train_df**"
   ]
  },
  {
   "cell_type": "code",
   "execution_count": 4,
   "metadata": {},
   "outputs": [
    {
     "data": {
      "text/html": [
       "<div>\n",
       "<style scoped>\n",
       "    .dataframe tbody tr th:only-of-type {\n",
       "        vertical-align: middle;\n",
       "    }\n",
       "\n",
       "    .dataframe tbody tr th {\n",
       "        vertical-align: top;\n",
       "    }\n",
       "\n",
       "    .dataframe thead th {\n",
       "        text-align: right;\n",
       "    }\n",
       "</style>\n",
       "<table border=\"1\" class=\"dataframe\">\n",
       "  <thead>\n",
       "    <tr style=\"text-align: right;\">\n",
       "      <th></th>\n",
       "      <th>date</th>\n",
       "      <th>date_block_num</th>\n",
       "      <th>shop_id</th>\n",
       "      <th>item_id</th>\n",
       "      <th>item_price</th>\n",
       "      <th>item_cnt_day</th>\n",
       "    </tr>\n",
       "  </thead>\n",
       "  <tbody>\n",
       "    <tr>\n",
       "      <th>0</th>\n",
       "      <td>02.01.2013</td>\n",
       "      <td>0</td>\n",
       "      <td>59</td>\n",
       "      <td>22154</td>\n",
       "      <td>999.00</td>\n",
       "      <td>1.0</td>\n",
       "    </tr>\n",
       "    <tr>\n",
       "      <th>1</th>\n",
       "      <td>03.01.2013</td>\n",
       "      <td>0</td>\n",
       "      <td>25</td>\n",
       "      <td>2552</td>\n",
       "      <td>899.00</td>\n",
       "      <td>1.0</td>\n",
       "    </tr>\n",
       "    <tr>\n",
       "      <th>2</th>\n",
       "      <td>05.01.2013</td>\n",
       "      <td>0</td>\n",
       "      <td>25</td>\n",
       "      <td>2552</td>\n",
       "      <td>899.00</td>\n",
       "      <td>-1.0</td>\n",
       "    </tr>\n",
       "    <tr>\n",
       "      <th>3</th>\n",
       "      <td>06.01.2013</td>\n",
       "      <td>0</td>\n",
       "      <td>25</td>\n",
       "      <td>2554</td>\n",
       "      <td>1709.05</td>\n",
       "      <td>1.0</td>\n",
       "    </tr>\n",
       "    <tr>\n",
       "      <th>4</th>\n",
       "      <td>15.01.2013</td>\n",
       "      <td>0</td>\n",
       "      <td>25</td>\n",
       "      <td>2555</td>\n",
       "      <td>1099.00</td>\n",
       "      <td>1.0</td>\n",
       "    </tr>\n",
       "  </tbody>\n",
       "</table>\n",
       "</div>"
      ],
      "text/plain": [
       "         date  date_block_num  shop_id  item_id  item_price  item_cnt_day\n",
       "0  02.01.2013               0       59    22154      999.00           1.0\n",
       "1  03.01.2013               0       25     2552      899.00           1.0\n",
       "2  05.01.2013               0       25     2552      899.00          -1.0\n",
       "3  06.01.2013               0       25     2554     1709.05           1.0\n",
       "4  15.01.2013               0       25     2555     1099.00           1.0"
      ]
     },
     "execution_count": 4,
     "metadata": {},
     "output_type": "execute_result"
    }
   ],
   "source": [
    "train_df.head()"
   ]
  },
  {
   "cell_type": "code",
   "execution_count": 5,
   "metadata": {},
   "outputs": [
    {
     "name": "stdout",
     "output_type": "stream",
     "text": [
      "<class 'pandas.core.frame.DataFrame'>\n",
      "RangeIndex: 2935849 entries, 0 to 2935848\n",
      "Data columns (total 6 columns):\n",
      " #   Column          Dtype  \n",
      "---  ------          -----  \n",
      " 0   date            object \n",
      " 1   date_block_num  int64  \n",
      " 2   shop_id         int64  \n",
      " 3   item_id         int64  \n",
      " 4   item_price      float64\n",
      " 5   item_cnt_day    float64\n",
      "dtypes: float64(2), int64(3), object(1)\n",
      "memory usage: 134.4+ MB\n",
      "None \n",
      "\n",
      "\n",
      "       date_block_num    shop_id    item_id  item_price  item_cnt_day\n",
      "count      2935849.00 2935849.00 2935849.00  2935849.00    2935849.00\n",
      "mean            14.57      33.00   10197.23      890.85          1.24\n",
      "std              9.42      16.23    6324.30     1729.80          2.62\n",
      "min              0.00       0.00       0.00       -1.00        -22.00\n",
      "25%              7.00      22.00    4476.00      249.00          1.00\n",
      "50%             14.00      31.00    9343.00      399.00          1.00\n",
      "75%             23.00      47.00   15684.00      999.00          1.00\n",
      "max             33.00      59.00   22169.00   307980.00       2169.00\n"
     ]
    }
   ],
   "source": [
    "print(train_df.info(), \"\\n\\n\")\n",
    "\n",
    "pd.set_option(\"display.float_format\", lambda x: \"%.2f\" % x)\n",
    "print(train_df.describe())"
   ]
  },
  {
   "cell_type": "code",
   "execution_count": 6,
   "metadata": {},
   "outputs": [
    {
     "name": "stdout",
     "output_type": "stream",
     "text": [
      "all item_cnt_day values are actually integers\n"
     ]
    }
   ],
   "source": [
    "DataQualityCheck.check_if_integers(train_df, \"item_cnt_day\")"
   ]
  },
  {
   "cell_type": "markdown",
   "metadata": {},
   "source": [
    "1)All numeric columns' values are less than **10^6** and 2) **item_cnt_day** feature is intended to be integer,\n",
    " \n",
    "so we should transform dtypes in ETL"
   ]
  },
  {
   "cell_type": "markdown",
   "metadata": {},
   "source": [
    "### Look at **test_df**"
   ]
  },
  {
   "cell_type": "code",
   "execution_count": 7,
   "metadata": {},
   "outputs": [
    {
     "data": {
      "text/html": [
       "<div>\n",
       "<style scoped>\n",
       "    .dataframe tbody tr th:only-of-type {\n",
       "        vertical-align: middle;\n",
       "    }\n",
       "\n",
       "    .dataframe tbody tr th {\n",
       "        vertical-align: top;\n",
       "    }\n",
       "\n",
       "    .dataframe thead th {\n",
       "        text-align: right;\n",
       "    }\n",
       "</style>\n",
       "<table border=\"1\" class=\"dataframe\">\n",
       "  <thead>\n",
       "    <tr style=\"text-align: right;\">\n",
       "      <th></th>\n",
       "      <th>ID</th>\n",
       "      <th>shop_id</th>\n",
       "      <th>item_id</th>\n",
       "    </tr>\n",
       "  </thead>\n",
       "  <tbody>\n",
       "    <tr>\n",
       "      <th>0</th>\n",
       "      <td>0</td>\n",
       "      <td>5</td>\n",
       "      <td>5037</td>\n",
       "    </tr>\n",
       "    <tr>\n",
       "      <th>1</th>\n",
       "      <td>1</td>\n",
       "      <td>5</td>\n",
       "      <td>5320</td>\n",
       "    </tr>\n",
       "    <tr>\n",
       "      <th>2</th>\n",
       "      <td>2</td>\n",
       "      <td>5</td>\n",
       "      <td>5233</td>\n",
       "    </tr>\n",
       "    <tr>\n",
       "      <th>3</th>\n",
       "      <td>3</td>\n",
       "      <td>5</td>\n",
       "      <td>5232</td>\n",
       "    </tr>\n",
       "    <tr>\n",
       "      <th>4</th>\n",
       "      <td>4</td>\n",
       "      <td>5</td>\n",
       "      <td>5268</td>\n",
       "    </tr>\n",
       "  </tbody>\n",
       "</table>\n",
       "</div>"
      ],
      "text/plain": [
       "   ID  shop_id  item_id\n",
       "0   0        5     5037\n",
       "1   1        5     5320\n",
       "2   2        5     5233\n",
       "3   3        5     5232\n",
       "4   4        5     5268"
      ]
     },
     "execution_count": 7,
     "metadata": {},
     "output_type": "execute_result"
    }
   ],
   "source": [
    "test_df.head()"
   ]
  },
  {
   "cell_type": "code",
   "execution_count": 8,
   "metadata": {},
   "outputs": [
    {
     "name": "stdout",
     "output_type": "stream",
     "text": [
      "<class 'pandas.core.frame.DataFrame'>\n",
      "RangeIndex: 214200 entries, 0 to 214199\n",
      "Data columns (total 3 columns):\n",
      " #   Column   Non-Null Count   Dtype\n",
      "---  ------   --------------   -----\n",
      " 0   ID       214200 non-null  int64\n",
      " 1   shop_id  214200 non-null  int64\n",
      " 2   item_id  214200 non-null  int64\n",
      "dtypes: int64(3)\n",
      "memory usage: 4.9 MB\n",
      "None \n",
      "\n",
      "\n",
      "             ID   shop_id   item_id\n",
      "count 214200.00 214200.00 214200.00\n",
      "mean  107099.50     31.64  11019.40\n",
      "std    61834.36     17.56   6252.64\n",
      "min        0.00      2.00     30.00\n",
      "25%    53549.75     16.00   5381.50\n",
      "50%   107099.50     34.50  11203.00\n",
      "75%   160649.25     47.00  16071.50\n",
      "max   214199.00     59.00  22167.00\n"
     ]
    }
   ],
   "source": [
    "print(test_df.info(), \"\\n\\n\")\n",
    "print(test_df.describe())"
   ]
  },
  {
   "cell_type": "markdown",
   "metadata": {},
   "source": [
    "### Look at **items_df**"
   ]
  },
  {
   "cell_type": "code",
   "execution_count": 9,
   "metadata": {},
   "outputs": [
    {
     "data": {
      "text/html": [
       "<div>\n",
       "<style scoped>\n",
       "    .dataframe tbody tr th:only-of-type {\n",
       "        vertical-align: middle;\n",
       "    }\n",
       "\n",
       "    .dataframe tbody tr th {\n",
       "        vertical-align: top;\n",
       "    }\n",
       "\n",
       "    .dataframe thead th {\n",
       "        text-align: right;\n",
       "    }\n",
       "</style>\n",
       "<table border=\"1\" class=\"dataframe\">\n",
       "  <thead>\n",
       "    <tr style=\"text-align: right;\">\n",
       "      <th></th>\n",
       "      <th>item_name</th>\n",
       "      <th>item_id</th>\n",
       "      <th>item_category_id</th>\n",
       "    </tr>\n",
       "  </thead>\n",
       "  <tbody>\n",
       "    <tr>\n",
       "      <th>0</th>\n",
       "      <td>! ВО ВЛАСТИ НАВАЖДЕНИЯ (ПЛАСТ.)         D</td>\n",
       "      <td>0</td>\n",
       "      <td>40</td>\n",
       "    </tr>\n",
       "    <tr>\n",
       "      <th>1</th>\n",
       "      <td>!ABBYY FineReader 12 Professional Edition Full...</td>\n",
       "      <td>1</td>\n",
       "      <td>76</td>\n",
       "    </tr>\n",
       "    <tr>\n",
       "      <th>2</th>\n",
       "      <td>***В ЛУЧАХ СЛАВЫ   (UNV)                    D</td>\n",
       "      <td>2</td>\n",
       "      <td>40</td>\n",
       "    </tr>\n",
       "    <tr>\n",
       "      <th>3</th>\n",
       "      <td>***ГОЛУБАЯ ВОЛНА  (Univ)                      D</td>\n",
       "      <td>3</td>\n",
       "      <td>40</td>\n",
       "    </tr>\n",
       "    <tr>\n",
       "      <th>4</th>\n",
       "      <td>***КОРОБКА (СТЕКЛО)                       D</td>\n",
       "      <td>4</td>\n",
       "      <td>40</td>\n",
       "    </tr>\n",
       "  </tbody>\n",
       "</table>\n",
       "</div>"
      ],
      "text/plain": [
       "                                           item_name  item_id  \\\n",
       "0          ! ВО ВЛАСТИ НАВАЖДЕНИЯ (ПЛАСТ.)         D        0   \n",
       "1  !ABBYY FineReader 12 Professional Edition Full...        1   \n",
       "2      ***В ЛУЧАХ СЛАВЫ   (UNV)                    D        2   \n",
       "3    ***ГОЛУБАЯ ВОЛНА  (Univ)                      D        3   \n",
       "4        ***КОРОБКА (СТЕКЛО)                       D        4   \n",
       "\n",
       "   item_category_id  \n",
       "0                40  \n",
       "1                76  \n",
       "2                40  \n",
       "3                40  \n",
       "4                40  "
      ]
     },
     "execution_count": 9,
     "metadata": {},
     "output_type": "execute_result"
    }
   ],
   "source": [
    "items_df.head()"
   ]
  },
  {
   "cell_type": "code",
   "execution_count": 10,
   "metadata": {},
   "outputs": [
    {
     "name": "stdout",
     "output_type": "stream",
     "text": [
      "<class 'pandas.core.frame.DataFrame'>\n",
      "RangeIndex: 22170 entries, 0 to 22169\n",
      "Data columns (total 3 columns):\n",
      " #   Column            Non-Null Count  Dtype \n",
      "---  ------            --------------  ----- \n",
      " 0   item_name         22170 non-null  object\n",
      " 1   item_id           22170 non-null  int64 \n",
      " 2   item_category_id  22170 non-null  int64 \n",
      "dtypes: int64(2), object(1)\n",
      "memory usage: 519.7+ KB\n",
      "None \n",
      "\n",
      "\n",
      "       item_id  item_category_id\n",
      "count 22170.00          22170.00\n",
      "mean  11084.50             46.29\n",
      "std    6400.07             15.94\n",
      "min       0.00              0.00\n",
      "25%    5542.25             37.00\n",
      "50%   11084.50             40.00\n",
      "75%   16626.75             58.00\n",
      "max   22169.00             83.00\n"
     ]
    }
   ],
   "source": [
    "print(items_df.info(), \"\\n\\n\")\n",
    "print(items_df.describe())"
   ]
  },
  {
   "cell_type": "markdown",
   "metadata": {},
   "source": [
    "### Look at **categories_df**"
   ]
  },
  {
   "cell_type": "code",
   "execution_count": 11,
   "metadata": {},
   "outputs": [
    {
     "data": {
      "text/html": [
       "<div>\n",
       "<style scoped>\n",
       "    .dataframe tbody tr th:only-of-type {\n",
       "        vertical-align: middle;\n",
       "    }\n",
       "\n",
       "    .dataframe tbody tr th {\n",
       "        vertical-align: top;\n",
       "    }\n",
       "\n",
       "    .dataframe thead th {\n",
       "        text-align: right;\n",
       "    }\n",
       "</style>\n",
       "<table border=\"1\" class=\"dataframe\">\n",
       "  <thead>\n",
       "    <tr style=\"text-align: right;\">\n",
       "      <th></th>\n",
       "      <th>item_category_name</th>\n",
       "      <th>item_category_id</th>\n",
       "    </tr>\n",
       "  </thead>\n",
       "  <tbody>\n",
       "    <tr>\n",
       "      <th>0</th>\n",
       "      <td>PC - Гарнитуры/Наушники</td>\n",
       "      <td>0</td>\n",
       "    </tr>\n",
       "    <tr>\n",
       "      <th>1</th>\n",
       "      <td>Аксессуары - PS2</td>\n",
       "      <td>1</td>\n",
       "    </tr>\n",
       "    <tr>\n",
       "      <th>2</th>\n",
       "      <td>Аксессуары - PS3</td>\n",
       "      <td>2</td>\n",
       "    </tr>\n",
       "    <tr>\n",
       "      <th>3</th>\n",
       "      <td>Аксессуары - PS4</td>\n",
       "      <td>3</td>\n",
       "    </tr>\n",
       "    <tr>\n",
       "      <th>4</th>\n",
       "      <td>Аксессуары - PSP</td>\n",
       "      <td>4</td>\n",
       "    </tr>\n",
       "  </tbody>\n",
       "</table>\n",
       "</div>"
      ],
      "text/plain": [
       "        item_category_name  item_category_id\n",
       "0  PC - Гарнитуры/Наушники                 0\n",
       "1         Аксессуары - PS2                 1\n",
       "2         Аксессуары - PS3                 2\n",
       "3         Аксессуары - PS4                 3\n",
       "4         Аксессуары - PSP                 4"
      ]
     },
     "execution_count": 11,
     "metadata": {},
     "output_type": "execute_result"
    }
   ],
   "source": [
    "categories_df.head()"
   ]
  },
  {
   "cell_type": "code",
   "execution_count": 12,
   "metadata": {},
   "outputs": [
    {
     "name": "stdout",
     "output_type": "stream",
     "text": [
      "<class 'pandas.core.frame.DataFrame'>\n",
      "RangeIndex: 84 entries, 0 to 83\n",
      "Data columns (total 2 columns):\n",
      " #   Column              Non-Null Count  Dtype \n",
      "---  ------              --------------  ----- \n",
      " 0   item_category_name  84 non-null     object\n",
      " 1   item_category_id    84 non-null     int64 \n",
      "dtypes: int64(1), object(1)\n",
      "memory usage: 1.4+ KB\n",
      "None \n",
      "\n",
      "\n",
      "       item_category_id\n",
      "count             84.00\n",
      "mean              41.50\n",
      "std               24.39\n",
      "min                0.00\n",
      "25%               20.75\n",
      "50%               41.50\n",
      "75%               62.25\n",
      "max               83.00\n"
     ]
    }
   ],
   "source": [
    "print(categories_df.info(), \"\\n\\n\")\n",
    "print(categories_df.describe())"
   ]
  },
  {
   "cell_type": "markdown",
   "metadata": {},
   "source": [
    "### Look at **shops_df**"
   ]
  },
  {
   "cell_type": "code",
   "execution_count": 13,
   "metadata": {},
   "outputs": [
    {
     "data": {
      "text/html": [
       "<div>\n",
       "<style scoped>\n",
       "    .dataframe tbody tr th:only-of-type {\n",
       "        vertical-align: middle;\n",
       "    }\n",
       "\n",
       "    .dataframe tbody tr th {\n",
       "        vertical-align: top;\n",
       "    }\n",
       "\n",
       "    .dataframe thead th {\n",
       "        text-align: right;\n",
       "    }\n",
       "</style>\n",
       "<table border=\"1\" class=\"dataframe\">\n",
       "  <thead>\n",
       "    <tr style=\"text-align: right;\">\n",
       "      <th></th>\n",
       "      <th>shop_name</th>\n",
       "      <th>shop_id</th>\n",
       "    </tr>\n",
       "  </thead>\n",
       "  <tbody>\n",
       "    <tr>\n",
       "      <th>0</th>\n",
       "      <td>!Якутск Орджоникидзе, 56 фран</td>\n",
       "      <td>0</td>\n",
       "    </tr>\n",
       "    <tr>\n",
       "      <th>1</th>\n",
       "      <td>!Якутск ТЦ \"Центральный\" фран</td>\n",
       "      <td>1</td>\n",
       "    </tr>\n",
       "    <tr>\n",
       "      <th>2</th>\n",
       "      <td>Адыгея ТЦ \"Мега\"</td>\n",
       "      <td>2</td>\n",
       "    </tr>\n",
       "    <tr>\n",
       "      <th>3</th>\n",
       "      <td>Балашиха ТРК \"Октябрь-Киномир\"</td>\n",
       "      <td>3</td>\n",
       "    </tr>\n",
       "    <tr>\n",
       "      <th>4</th>\n",
       "      <td>Волжский ТЦ \"Волга Молл\"</td>\n",
       "      <td>4</td>\n",
       "    </tr>\n",
       "  </tbody>\n",
       "</table>\n",
       "</div>"
      ],
      "text/plain": [
       "                        shop_name  shop_id\n",
       "0   !Якутск Орджоникидзе, 56 фран        0\n",
       "1   !Якутск ТЦ \"Центральный\" фран        1\n",
       "2                Адыгея ТЦ \"Мега\"        2\n",
       "3  Балашиха ТРК \"Октябрь-Киномир\"        3\n",
       "4        Волжский ТЦ \"Волга Молл\"        4"
      ]
     },
     "execution_count": 13,
     "metadata": {},
     "output_type": "execute_result"
    }
   ],
   "source": [
    "shops_df.head()"
   ]
  },
  {
   "cell_type": "code",
   "execution_count": 14,
   "metadata": {},
   "outputs": [
    {
     "name": "stdout",
     "output_type": "stream",
     "text": [
      "<class 'pandas.core.frame.DataFrame'>\n",
      "RangeIndex: 60 entries, 0 to 59\n",
      "Data columns (total 2 columns):\n",
      " #   Column     Non-Null Count  Dtype \n",
      "---  ------     --------------  ----- \n",
      " 0   shop_name  60 non-null     object\n",
      " 1   shop_id    60 non-null     int64 \n",
      "dtypes: int64(1), object(1)\n",
      "memory usage: 1.1+ KB\n",
      "None \n",
      "\n",
      "\n",
      "       shop_id\n",
      "count    60.00\n",
      "mean     29.50\n",
      "std      17.46\n",
      "min       0.00\n",
      "25%      14.75\n",
      "50%      29.50\n",
      "75%      44.25\n",
      "max      59.00\n"
     ]
    }
   ],
   "source": [
    "print(shops_df.info(), \"\\n\\n\")\n",
    "print(shops_df.describe())"
   ]
  },
  {
   "cell_type": "markdown",
   "metadata": {},
   "source": [
    "### **test_df, items_df, categories_df, shops_df** sets are all fine"
   ]
  },
  {
   "cell_type": "markdown",
   "metadata": {},
   "source": [
    "## 2. Check missing values"
   ]
  },
  {
   "cell_type": "code",
   "execution_count": 15,
   "metadata": {},
   "outputs": [
    {
     "name": "stdout",
     "output_type": "stream",
     "text": [
      "No missing data found\n",
      "No missing data found\n",
      "No missing data found\n",
      "No missing data found\n",
      "No missing data found\n"
     ]
    }
   ],
   "source": [
    "dataframes = [train_df, test_df, items_df, categories_df, shops_df]\n",
    "\n",
    "for df in dataframes:\n",
    "    DataQualityCheck.check_missing_data(df)"
   ]
  },
  {
   "cell_type": "markdown",
   "metadata": {},
   "source": [
    "## 3. Search for duplicates"
   ]
  },
  {
   "cell_type": "code",
   "execution_count": 16,
   "metadata": {},
   "outputs": [
    {
     "name": "stdout",
     "output_type": "stream",
     "text": [
      "Number of duplicated rows: 12\n",
      "Number of duplicated rows: 0\n",
      "Number of duplicated rows: 0\n",
      "Number of duplicated rows: 0\n",
      "Number of duplicated rows: 0\n"
     ]
    }
   ],
   "source": [
    "for df in dataframes:\n",
    "    DataQualityCheck.check_duplicates(df)"
   ]
  },
  {
   "cell_type": "code",
   "execution_count": 17,
   "metadata": {},
   "outputs": [
    {
     "data": {
      "text/html": [
       "<div>\n",
       "<style scoped>\n",
       "    .dataframe tbody tr th:only-of-type {\n",
       "        vertical-align: middle;\n",
       "    }\n",
       "\n",
       "    .dataframe tbody tr th {\n",
       "        vertical-align: top;\n",
       "    }\n",
       "\n",
       "    .dataframe thead th {\n",
       "        text-align: right;\n",
       "    }\n",
       "</style>\n",
       "<table border=\"1\" class=\"dataframe\">\n",
       "  <thead>\n",
       "    <tr style=\"text-align: right;\">\n",
       "      <th></th>\n",
       "      <th>date</th>\n",
       "      <th>date_block_num</th>\n",
       "      <th>shop_id</th>\n",
       "      <th>item_id</th>\n",
       "      <th>item_price</th>\n",
       "      <th>item_cnt_day</th>\n",
       "    </tr>\n",
       "  </thead>\n",
       "  <tbody>\n",
       "    <tr>\n",
       "      <th>76961</th>\n",
       "      <td>05.01.2013</td>\n",
       "      <td>0</td>\n",
       "      <td>54</td>\n",
       "      <td>20130</td>\n",
       "      <td>149.00</td>\n",
       "      <td>1.00</td>\n",
       "    </tr>\n",
       "    <tr>\n",
       "      <th>76962</th>\n",
       "      <td>05.01.2013</td>\n",
       "      <td>0</td>\n",
       "      <td>54</td>\n",
       "      <td>20130</td>\n",
       "      <td>149.00</td>\n",
       "      <td>1.00</td>\n",
       "    </tr>\n",
       "    <tr>\n",
       "      <th>1435365</th>\n",
       "      <td>23.02.2014</td>\n",
       "      <td>13</td>\n",
       "      <td>50</td>\n",
       "      <td>3423</td>\n",
       "      <td>999.00</td>\n",
       "      <td>1.00</td>\n",
       "    </tr>\n",
       "    <tr>\n",
       "      <th>1435367</th>\n",
       "      <td>23.02.2014</td>\n",
       "      <td>13</td>\n",
       "      <td>50</td>\n",
       "      <td>3423</td>\n",
       "      <td>999.00</td>\n",
       "      <td>1.00</td>\n",
       "    </tr>\n",
       "    <tr>\n",
       "      <th>1496765</th>\n",
       "      <td>23.03.2014</td>\n",
       "      <td>14</td>\n",
       "      <td>21</td>\n",
       "      <td>3423</td>\n",
       "      <td>999.00</td>\n",
       "      <td>1.00</td>\n",
       "    </tr>\n",
       "    <tr>\n",
       "      <th>1496766</th>\n",
       "      <td>23.03.2014</td>\n",
       "      <td>14</td>\n",
       "      <td>21</td>\n",
       "      <td>3423</td>\n",
       "      <td>999.00</td>\n",
       "      <td>1.00</td>\n",
       "    </tr>\n",
       "    <tr>\n",
       "      <th>1671872</th>\n",
       "      <td>01.05.2014</td>\n",
       "      <td>16</td>\n",
       "      <td>50</td>\n",
       "      <td>3423</td>\n",
       "      <td>999.00</td>\n",
       "      <td>1.00</td>\n",
       "    </tr>\n",
       "    <tr>\n",
       "      <th>1671873</th>\n",
       "      <td>01.05.2014</td>\n",
       "      <td>16</td>\n",
       "      <td>50</td>\n",
       "      <td>3423</td>\n",
       "      <td>999.00</td>\n",
       "      <td>1.00</td>\n",
       "    </tr>\n",
       "    <tr>\n",
       "      <th>1866322</th>\n",
       "      <td>12.07.2014</td>\n",
       "      <td>18</td>\n",
       "      <td>25</td>\n",
       "      <td>3423</td>\n",
       "      <td>999.00</td>\n",
       "      <td>1.00</td>\n",
       "    </tr>\n",
       "    <tr>\n",
       "      <th>1866340</th>\n",
       "      <td>12.07.2014</td>\n",
       "      <td>18</td>\n",
       "      <td>25</td>\n",
       "      <td>3423</td>\n",
       "      <td>999.00</td>\n",
       "      <td>1.00</td>\n",
       "    </tr>\n",
       "    <tr>\n",
       "      <th>2198564</th>\n",
       "      <td>31.12.2014</td>\n",
       "      <td>23</td>\n",
       "      <td>42</td>\n",
       "      <td>21619</td>\n",
       "      <td>499.00</td>\n",
       "      <td>1.00</td>\n",
       "    </tr>\n",
       "    <tr>\n",
       "      <th>2198566</th>\n",
       "      <td>31.12.2014</td>\n",
       "      <td>23</td>\n",
       "      <td>42</td>\n",
       "      <td>21619</td>\n",
       "      <td>499.00</td>\n",
       "      <td>1.00</td>\n",
       "    </tr>\n",
       "  </tbody>\n",
       "</table>\n",
       "</div>"
      ],
      "text/plain": [
       "               date  date_block_num  shop_id  item_id  item_price  \\\n",
       "76961    05.01.2013               0       54    20130      149.00   \n",
       "76962    05.01.2013               0       54    20130      149.00   \n",
       "1435365  23.02.2014              13       50     3423      999.00   \n",
       "1435367  23.02.2014              13       50     3423      999.00   \n",
       "1496765  23.03.2014              14       21     3423      999.00   \n",
       "1496766  23.03.2014              14       21     3423      999.00   \n",
       "1671872  01.05.2014              16       50     3423      999.00   \n",
       "1671873  01.05.2014              16       50     3423      999.00   \n",
       "1866322  12.07.2014              18       25     3423      999.00   \n",
       "1866340  12.07.2014              18       25     3423      999.00   \n",
       "2198564  31.12.2014              23       42    21619      499.00   \n",
       "2198566  31.12.2014              23       42    21619      499.00   \n",
       "\n",
       "         item_cnt_day  \n",
       "76961            1.00  \n",
       "76962            1.00  \n",
       "1435365          1.00  \n",
       "1435367          1.00  \n",
       "1496765          1.00  \n",
       "1496766          1.00  \n",
       "1671872          1.00  \n",
       "1671873          1.00  \n",
       "1866322          1.00  \n",
       "1866340          1.00  \n",
       "2198564          1.00  \n",
       "2198566          1.00  "
      ]
     },
     "execution_count": 17,
     "metadata": {},
     "output_type": "execute_result"
    }
   ],
   "source": [
    "train_df[train_df.duplicated(keep=False)]"
   ]
  },
  {
   "cell_type": "markdown",
   "metadata": {},
   "source": [
    "There all cases of item selling are not aggregated by \"date, shop_id, item_id\", which means that the same item could be fairly sold multiple times within one day ond one shop. That's why these \"duplicates\" are actually not duplicates, so they will later be aggregated by monthly sales too."
   ]
  },
  {
   "cell_type": "markdown",
   "metadata": {},
   "source": [
    "## 4. Check data inconsistency\n",
    "Search for possible negative values"
   ]
  },
  {
   "cell_type": "code",
   "execution_count": 18,
   "metadata": {},
   "outputs": [
    {
     "name": "stdout",
     "output_type": "stream",
     "text": [
      "0.2505578454477734 percent of values are negative\n"
     ]
    }
   ],
   "source": [
    "DataQualityCheck.check_negative_values(train_df, \"item_cnt_day\")"
   ]
  },
  {
   "cell_type": "markdown",
   "metadata": {},
   "source": [
    "This result may possibly mean that sales_train.csv file also contains data about items returned to shops. In this case these rows affect total monthly sales value, so it's better to leave them in the dataset."
   ]
  },
  {
   "cell_type": "code",
   "execution_count": 19,
   "metadata": {},
   "outputs": [
    {
     "name": "stdout",
     "output_type": "stream",
     "text": [
      "3.406169731481422e-05 percent of values are negative\n"
     ]
    },
    {
     "data": {
      "text/html": [
       "<div>\n",
       "<style scoped>\n",
       "    .dataframe tbody tr th:only-of-type {\n",
       "        vertical-align: middle;\n",
       "    }\n",
       "\n",
       "    .dataframe tbody tr th {\n",
       "        vertical-align: top;\n",
       "    }\n",
       "\n",
       "    .dataframe thead th {\n",
       "        text-align: right;\n",
       "    }\n",
       "</style>\n",
       "<table border=\"1\" class=\"dataframe\">\n",
       "  <thead>\n",
       "    <tr style=\"text-align: right;\">\n",
       "      <th></th>\n",
       "      <th>date</th>\n",
       "      <th>date_block_num</th>\n",
       "      <th>shop_id</th>\n",
       "      <th>item_id</th>\n",
       "      <th>item_price</th>\n",
       "      <th>item_cnt_day</th>\n",
       "    </tr>\n",
       "  </thead>\n",
       "  <tbody>\n",
       "    <tr>\n",
       "      <th>484683</th>\n",
       "      <td>15.05.2013</td>\n",
       "      <td>4</td>\n",
       "      <td>32</td>\n",
       "      <td>2973</td>\n",
       "      <td>-1.00</td>\n",
       "      <td>1.00</td>\n",
       "    </tr>\n",
       "  </tbody>\n",
       "</table>\n",
       "</div>"
      ],
      "text/plain": [
       "              date  date_block_num  shop_id  item_id  item_price  item_cnt_day\n",
       "484683  15.05.2013               4       32     2973       -1.00          1.00"
      ]
     },
     "execution_count": 19,
     "metadata": {},
     "output_type": "execute_result"
    }
   ],
   "source": [
    "DataQualityCheck.check_negative_values(train_df, \"item_price\", return_negatives=True)"
   ]
  },
  {
   "cell_type": "markdown",
   "metadata": {},
   "source": [
    "This row should be just a mistake in the process of collecting/entering data, so can be fairly deleted."
   ]
  },
  {
   "cell_type": "markdown",
   "metadata": {},
   "source": [
    "## Let's see how do shop names look like"
   ]
  },
  {
   "cell_type": "code",
   "execution_count": 20,
   "metadata": {},
   "outputs": [
    {
     "data": {
      "text/plain": [
       "['!Якутск Орджоникидзе, 56 фран',\n",
       " '!Якутск ТЦ \"Центральный\" фран',\n",
       " 'Адыгея ТЦ \"Мега\"',\n",
       " 'Балашиха ТРК \"Октябрь-Киномир\"',\n",
       " 'Волжский ТЦ \"Волга Молл\"',\n",
       " 'Вологда ТРЦ \"Мармелад\"',\n",
       " 'Воронеж (Плехановская, 13)',\n",
       " 'Воронеж ТРЦ \"Максимир\"',\n",
       " 'Воронеж ТРЦ Сити-Парк \"Град\"',\n",
       " 'Выездная Торговля']"
      ]
     },
     "execution_count": 20,
     "metadata": {},
     "output_type": "execute_result"
    }
   ],
   "source": [
    "shops_df[\"shop_name\"].unique().tolist()[:10]"
   ]
  },
  {
   "cell_type": "markdown",
   "metadata": {},
   "source": [
    "Print all unique shop cities"
   ]
  },
  {
   "cell_type": "code",
   "execution_count": 21,
   "metadata": {},
   "outputs": [
    {
     "name": "stdout",
     "output_type": "stream",
     "text": [
      "Number of unique shop cities: 32\n"
     ]
    },
    {
     "data": {
      "text/plain": [
       "array(['!Якутск', 'Адыгея', 'Балашиха', 'Волжский', 'Вологда', 'Воронеж',\n",
       "       'Выездная', 'Жуковский', 'Интернет-магазин', 'Казань', 'Калуга',\n",
       "       'Коломна', 'Красноярск', 'Курск', 'Москва', 'Мытищи', 'Н.Новгород',\n",
       "       'Новосибирск', 'Омск', 'РостовНаДону', 'СПб', 'Самара', 'Сергиев',\n",
       "       'Сургут', 'Томск', 'Тюмень', 'Уфа', 'Химки', 'Цифровой', 'Чехов',\n",
       "       'Якутск', 'Ярославль'], dtype=object)"
      ]
     },
     "execution_count": 21,
     "metadata": {},
     "output_type": "execute_result"
    }
   ],
   "source": [
    "shops_df[\"shop_city\"] = shops_df[\"shop_name\"].apply(lambda x: x.split(\" \")[0])\n",
    "print(\"Number of unique shop cities:\", len(shops_df[\"shop_city\"].unique()))\n",
    "shops_df[\"shop_city\"].unique()"
   ]
  },
  {
   "cell_type": "code",
   "execution_count": 22,
   "metadata": {},
   "outputs": [
    {
     "name": "stdout",
     "output_type": "stream",
     "text": [
      "['!Якутск Орджоникидзе, 56 фран' '!Якутск ТЦ \"Центральный\" фран']\n",
      "['Якутск Орджоникидзе, 56' 'Якутск ТЦ \"Центральный\"']\n"
     ]
    }
   ],
   "source": [
    "print(shops_df[shops_df[\"shop_city\"] == \"!Якутск\"][\"shop_name\"].unique())\n",
    "print(shops_df[shops_df[\"shop_city\"] == \"Якутск\"][\"shop_name\"].unique())"
   ]
  },
  {
   "cell_type": "markdown",
   "metadata": {},
   "source": [
    "'!Якутск' and 'Якутск' cities seam to have the same shops, so they should be united"
   ]
  },
  {
   "cell_type": "markdown",
   "metadata": {},
   "source": [
    "Find corresponding shop ids"
   ]
  },
  {
   "cell_type": "code",
   "execution_count": 23,
   "metadata": {},
   "outputs": [
    {
     "name": "stdout",
     "output_type": "stream",
     "text": [
      "Орджоникидзе\n",
      "[0]\n",
      "[57]\n",
      "Центральный\n",
      "[1]\n",
      "[58]\n"
     ]
    }
   ],
   "source": [
    "print(\"Орджоникидзе\")\n",
    "print(\n",
    "    shops_df[shops_df[\"shop_name\"] == \"!Якутск Орджоникидзе, 56 фран\"][\n",
    "        \"shop_id\"\n",
    "    ].unique()\n",
    ")\n",
    "print(shops_df[shops_df[\"shop_name\"] == \"Якутск Орджоникидзе, 56\"][\"shop_id\"].unique())\n",
    "print(\"Центральный\")\n",
    "print(\n",
    "    shops_df[shops_df[\"shop_name\"] == '!Якутск ТЦ \"Центральный\" фран'][\n",
    "        \"shop_id\"\n",
    "    ].unique()\n",
    ")\n",
    "print(shops_df[shops_df[\"shop_name\"] == 'Якутск ТЦ \"Центральный\"'][\"shop_id\"].unique())"
   ]
  },
  {
   "cell_type": "code",
   "execution_count": 24,
   "metadata": {},
   "outputs": [
    {
     "data": {
      "text/plain": [
       "array(['Жуковский ул. Чкалова 39м?', 'Жуковский ул. Чкалова 39м²'],\n",
       "      dtype=object)"
      ]
     },
     "execution_count": 24,
     "metadata": {},
     "output_type": "execute_result"
    }
   ],
   "source": [
    "shops_df[shops_df[\"shop_city\"] == \"Жуковский\"][\"shop_name\"].unique()"
   ]
  },
  {
   "cell_type": "code",
   "execution_count": 25,
   "metadata": {},
   "outputs": [
    {
     "name": "stdout",
     "output_type": "stream",
     "text": [
      "[10]\n",
      "[11]\n"
     ]
    }
   ],
   "source": [
    "print(\n",
    "    shops_df[shops_df[\"shop_name\"] == \"Жуковский ул. Чкалова 39м?\"][\"shop_id\"].unique()\n",
    ")\n",
    "print(\n",
    "    shops_df[shops_df[\"shop_name\"] == \"Жуковский ул. Чкалова 39м²\"][\"shop_id\"].unique()\n",
    ")"
   ]
  },
  {
   "cell_type": "markdown",
   "metadata": {},
   "source": [
    "The same issue for 'Жуковский ул. Чкалова 39м?' and 'Жуковский ул. Чкалова 39м²'\n",
    "\n",
    "I will transform all these features later in the ETL Layer"
   ]
  },
  {
   "cell_type": "markdown",
   "metadata": {},
   "source": [
    "## Do the same analysis for the **item_name** feature"
   ]
  },
  {
   "cell_type": "code",
   "execution_count": 26,
   "metadata": {},
   "outputs": [
    {
     "data": {
      "text/html": [
       "<div>\n",
       "<style scoped>\n",
       "    .dataframe tbody tr th:only-of-type {\n",
       "        vertical-align: middle;\n",
       "    }\n",
       "\n",
       "    .dataframe tbody tr th {\n",
       "        vertical-align: top;\n",
       "    }\n",
       "\n",
       "    .dataframe thead th {\n",
       "        text-align: right;\n",
       "    }\n",
       "</style>\n",
       "<table border=\"1\" class=\"dataframe\">\n",
       "  <thead>\n",
       "    <tr style=\"text-align: right;\">\n",
       "      <th></th>\n",
       "      <th>item_name</th>\n",
       "      <th>item_id</th>\n",
       "      <th>item_category_id</th>\n",
       "    </tr>\n",
       "  </thead>\n",
       "  <tbody>\n",
       "    <tr>\n",
       "      <th>0</th>\n",
       "      <td>! ВО ВЛАСТИ НАВАЖДЕНИЯ (ПЛАСТ.)         D</td>\n",
       "      <td>0</td>\n",
       "      <td>40</td>\n",
       "    </tr>\n",
       "    <tr>\n",
       "      <th>1</th>\n",
       "      <td>!ABBYY FineReader 12 Professional Edition Full...</td>\n",
       "      <td>1</td>\n",
       "      <td>76</td>\n",
       "    </tr>\n",
       "    <tr>\n",
       "      <th>2</th>\n",
       "      <td>***В ЛУЧАХ СЛАВЫ   (UNV)                    D</td>\n",
       "      <td>2</td>\n",
       "      <td>40</td>\n",
       "    </tr>\n",
       "    <tr>\n",
       "      <th>3</th>\n",
       "      <td>***ГОЛУБАЯ ВОЛНА  (Univ)                      D</td>\n",
       "      <td>3</td>\n",
       "      <td>40</td>\n",
       "    </tr>\n",
       "    <tr>\n",
       "      <th>4</th>\n",
       "      <td>***КОРОБКА (СТЕКЛО)                       D</td>\n",
       "      <td>4</td>\n",
       "      <td>40</td>\n",
       "    </tr>\n",
       "  </tbody>\n",
       "</table>\n",
       "</div>"
      ],
      "text/plain": [
       "                                           item_name  item_id  \\\n",
       "0          ! ВО ВЛАСТИ НАВАЖДЕНИЯ (ПЛАСТ.)         D        0   \n",
       "1  !ABBYY FineReader 12 Professional Edition Full...        1   \n",
       "2      ***В ЛУЧАХ СЛАВЫ   (UNV)                    D        2   \n",
       "3    ***ГОЛУБАЯ ВОЛНА  (Univ)                      D        3   \n",
       "4        ***КОРОБКА (СТЕКЛО)                       D        4   \n",
       "\n",
       "   item_category_id  \n",
       "0                40  \n",
       "1                76  \n",
       "2                40  \n",
       "3                40  \n",
       "4                40  "
      ]
     },
     "execution_count": 26,
     "metadata": {},
     "output_type": "execute_result"
    }
   ],
   "source": [
    "items_df.head()"
   ]
  },
  {
   "cell_type": "code",
   "execution_count": 27,
   "metadata": {},
   "outputs": [
    {
     "data": {
      "text/plain": [
       "0"
      ]
     },
     "execution_count": 27,
     "metadata": {},
     "output_type": "execute_result"
    }
   ],
   "source": [
    "items_df[\"item_name\"].duplicated().sum()"
   ]
  },
  {
   "cell_type": "markdown",
   "metadata": {},
   "source": [
    "### As we can see, item_names have lots of unusual symbols - some of them are perhaps informative, while others might be just mistakes. Let's try to clean them"
   ]
  },
  {
   "cell_type": "code",
   "execution_count": 28,
   "metadata": {},
   "outputs": [],
   "source": [
    "import re\n",
    "\n",
    "\n",
    "def clean_item_name(name):\n",
    "    name = re.sub(r\"[^\\w\\s]\", \"\", name)\n",
    "    name = re.sub(r\" D$\", \"\", name)\n",
    "    return name.lower()\n",
    "\n",
    "\n",
    "items_df[\"clean_item_name\"] = items_df[\"item_name\"].apply(clean_item_name)"
   ]
  },
  {
   "cell_type": "code",
   "execution_count": 29,
   "metadata": {},
   "outputs": [
    {
     "data": {
      "text/html": [
       "<div>\n",
       "<style scoped>\n",
       "    .dataframe tbody tr th:only-of-type {\n",
       "        vertical-align: middle;\n",
       "    }\n",
       "\n",
       "    .dataframe tbody tr th {\n",
       "        vertical-align: top;\n",
       "    }\n",
       "\n",
       "    .dataframe thead th {\n",
       "        text-align: right;\n",
       "    }\n",
       "</style>\n",
       "<table border=\"1\" class=\"dataframe\">\n",
       "  <thead>\n",
       "    <tr style=\"text-align: right;\">\n",
       "      <th></th>\n",
       "      <th>item_name</th>\n",
       "      <th>item_id</th>\n",
       "      <th>item_category_id</th>\n",
       "      <th>clean_item_name</th>\n",
       "    </tr>\n",
       "  </thead>\n",
       "  <tbody>\n",
       "    <tr>\n",
       "      <th>0</th>\n",
       "      <td>! ВО ВЛАСТИ НАВАЖДЕНИЯ (ПЛАСТ.)         D</td>\n",
       "      <td>0</td>\n",
       "      <td>40</td>\n",
       "      <td>во власти наваждения пласт</td>\n",
       "    </tr>\n",
       "    <tr>\n",
       "      <th>1</th>\n",
       "      <td>!ABBYY FineReader 12 Professional Edition Full...</td>\n",
       "      <td>1</td>\n",
       "      <td>76</td>\n",
       "      <td>abbyy finereader 12 professional edition full ...</td>\n",
       "    </tr>\n",
       "    <tr>\n",
       "      <th>2</th>\n",
       "      <td>***В ЛУЧАХ СЛАВЫ   (UNV)                    D</td>\n",
       "      <td>2</td>\n",
       "      <td>40</td>\n",
       "      <td>в лучах славы   unv</td>\n",
       "    </tr>\n",
       "    <tr>\n",
       "      <th>3</th>\n",
       "      <td>***ГОЛУБАЯ ВОЛНА  (Univ)                      D</td>\n",
       "      <td>3</td>\n",
       "      <td>40</td>\n",
       "      <td>голубая волна  univ</td>\n",
       "    </tr>\n",
       "    <tr>\n",
       "      <th>4</th>\n",
       "      <td>***КОРОБКА (СТЕКЛО)                       D</td>\n",
       "      <td>4</td>\n",
       "      <td>40</td>\n",
       "      <td>коробка стекло</td>\n",
       "    </tr>\n",
       "  </tbody>\n",
       "</table>\n",
       "</div>"
      ],
      "text/plain": [
       "                                           item_name  item_id  \\\n",
       "0          ! ВО ВЛАСТИ НАВАЖДЕНИЯ (ПЛАСТ.)         D        0   \n",
       "1  !ABBYY FineReader 12 Professional Edition Full...        1   \n",
       "2      ***В ЛУЧАХ СЛАВЫ   (UNV)                    D        2   \n",
       "3    ***ГОЛУБАЯ ВОЛНА  (Univ)                      D        3   \n",
       "4        ***КОРОБКА (СТЕКЛО)                       D        4   \n",
       "\n",
       "   item_category_id                                    clean_item_name  \n",
       "0                40                 во власти наваждения пласт          \n",
       "1                76  abbyy finereader 12 professional edition full ...  \n",
       "2                40             в лучах славы   unv                     \n",
       "3                40           голубая волна  univ                       \n",
       "4                40               коробка стекло                        "
      ]
     },
     "execution_count": 29,
     "metadata": {},
     "output_type": "execute_result"
    }
   ],
   "source": [
    "items_df.head()"
   ]
  },
  {
   "cell_type": "markdown",
   "metadata": {},
   "source": [
    "Now we have just letters and digits left, so it's time to search for duplicates"
   ]
  },
  {
   "cell_type": "code",
   "execution_count": 30,
   "metadata": {},
   "outputs": [
    {
     "name": "stdout",
     "output_type": "stream",
     "text": [
      "71\n"
     ]
    },
    {
     "data": {
      "text/html": [
       "<div>\n",
       "<style scoped>\n",
       "    .dataframe tbody tr th:only-of-type {\n",
       "        vertical-align: middle;\n",
       "    }\n",
       "\n",
       "    .dataframe tbody tr th {\n",
       "        vertical-align: top;\n",
       "    }\n",
       "\n",
       "    .dataframe thead th {\n",
       "        text-align: right;\n",
       "    }\n",
       "</style>\n",
       "<table border=\"1\" class=\"dataframe\">\n",
       "  <thead>\n",
       "    <tr style=\"text-align: right;\">\n",
       "      <th></th>\n",
       "      <th>item_name</th>\n",
       "      <th>item_id</th>\n",
       "      <th>item_category_id</th>\n",
       "      <th>clean_item_name</th>\n",
       "    </tr>\n",
       "  </thead>\n",
       "  <tbody>\n",
       "    <tr>\n",
       "      <th>12</th>\n",
       "      <td>*МИХЕЙ И ДЖУМАНДЖИ  Сука любовь</td>\n",
       "      <td>12</td>\n",
       "      <td>55</td>\n",
       "      <td>михей и джуманджи  сука любовь</td>\n",
       "    </tr>\n",
       "    <tr>\n",
       "      <th>2268</th>\n",
       "      <td>Call of Duty. Ghosts [PS4, русская версия]</td>\n",
       "      <td>2268</td>\n",
       "      <td>20</td>\n",
       "      <td>call of duty ghosts ps4 русская версия</td>\n",
       "    </tr>\n",
       "    <tr>\n",
       "      <th>2331</th>\n",
       "      <td>Call of Duty: Ghosts [PS4, русская версия]</td>\n",
       "      <td>2331</td>\n",
       "      <td>20</td>\n",
       "      <td>call of duty ghosts ps4 русская версия</td>\n",
       "    </tr>\n",
       "    <tr>\n",
       "      <th>8247</th>\n",
       "      <td>АЛЫЕ ПАРУСА (Регион)</td>\n",
       "      <td>8247</td>\n",
       "      <td>40</td>\n",
       "      <td>алые паруса регион</td>\n",
       "    </tr>\n",
       "    <tr>\n",
       "      <th>8248</th>\n",
       "      <td>АЛЫЕ ПАРУСА (регион)</td>\n",
       "      <td>8248</td>\n",
       "      <td>40</td>\n",
       "      <td>алые паруса регион</td>\n",
       "    </tr>\n",
       "    <tr>\n",
       "      <th>8289</th>\n",
       "      <td>АНГЛИЙСКИЙ ВМЕСТЕ С ХРЮШЕЙ И… ч. 1 (Регион)</td>\n",
       "      <td>8289</td>\n",
       "      <td>40</td>\n",
       "      <td>английский вместе с хрюшей и ч 1 регион</td>\n",
       "    </tr>\n",
       "    <tr>\n",
       "      <th>8290</th>\n",
       "      <td>АНГЛИЙСКИЙ ВМЕСТЕ С ХРЮШЕЙ И… ч. 1 (регион)</td>\n",
       "      <td>8290</td>\n",
       "      <td>40</td>\n",
       "      <td>английский вместе с хрюшей и ч 1 регион</td>\n",
       "    </tr>\n",
       "    <tr>\n",
       "      <th>8298</th>\n",
       "      <td>АНДРЕЙ РУБЛЕВ (Регион)</td>\n",
       "      <td>8298</td>\n",
       "      <td>40</td>\n",
       "      <td>андрей рублев регион</td>\n",
       "    </tr>\n",
       "    <tr>\n",
       "      <th>8299</th>\n",
       "      <td>АНДРЕЙ РУБЛЕВ (регион)</td>\n",
       "      <td>8299</td>\n",
       "      <td>40</td>\n",
       "      <td>андрей рублев регион</td>\n",
       "    </tr>\n",
       "    <tr>\n",
       "      <th>8422</th>\n",
       "      <td>АФОНЯ (Регион)</td>\n",
       "      <td>8422</td>\n",
       "      <td>40</td>\n",
       "      <td>афоня регион</td>\n",
       "    </tr>\n",
       "    <tr>\n",
       "      <th>8423</th>\n",
       "      <td>АФОНЯ (регион)</td>\n",
       "      <td>8423</td>\n",
       "      <td>40</td>\n",
       "      <td>афоня регион</td>\n",
       "    </tr>\n",
       "    <tr>\n",
       "      <th>8616</th>\n",
       "      <td>БАРБИ В РОЛИ ПРИНЦЕССЫ ОСТРОВА (Регион)</td>\n",
       "      <td>8616</td>\n",
       "      <td>40</td>\n",
       "      <td>барби в роли принцессы острова регион</td>\n",
       "    </tr>\n",
       "    <tr>\n",
       "      <th>8617</th>\n",
       "      <td>БАРБИ В РОЛИ ПРИНЦЕССЫ ОСТРОВА (регион)</td>\n",
       "      <td>8617</td>\n",
       "      <td>40</td>\n",
       "      <td>барби в роли принцессы острова регион</td>\n",
       "    </tr>\n",
       "    <tr>\n",
       "      <th>8618</th>\n",
       "      <td>БАРБИ В ФИЛЬМЕ ПРИКЛЮЧЕНИЯ РУСАЛОЧКИ (Регион)</td>\n",
       "      <td>8618</td>\n",
       "      <td>40</td>\n",
       "      <td>барби в фильме приключения русалочки регион</td>\n",
       "    </tr>\n",
       "    <tr>\n",
       "      <th>8619</th>\n",
       "      <td>БАРБИ В ФИЛЬМЕ ПРИКЛЮЧЕНИЯ РУСАЛОЧКИ (регион)</td>\n",
       "      <td>8619</td>\n",
       "      <td>40</td>\n",
       "      <td>барби в фильме приключения русалочки регион</td>\n",
       "    </tr>\n",
       "    <tr>\n",
       "      <th>8622</th>\n",
       "      <td>БАРБИ И ДРАКОН (Регион)</td>\n",
       "      <td>8622</td>\n",
       "      <td>40</td>\n",
       "      <td>барби и дракон регион</td>\n",
       "    </tr>\n",
       "    <tr>\n",
       "      <th>8623</th>\n",
       "      <td>БАРБИ И ДРАКОН (регион)</td>\n",
       "      <td>8623</td>\n",
       "      <td>40</td>\n",
       "      <td>барби и дракон регион</td>\n",
       "    </tr>\n",
       "    <tr>\n",
       "      <th>8627</th>\n",
       "      <td>БАРБИ И ТРИ МУШКЕТЕРА (Регион)</td>\n",
       "      <td>8627</td>\n",
       "      <td>40</td>\n",
       "      <td>барби и три мушкетера регион</td>\n",
       "    </tr>\n",
       "    <tr>\n",
       "      <th>8628</th>\n",
       "      <td>БАРБИ И ТРИ МУШКЕТЕРА (регион)</td>\n",
       "      <td>8628</td>\n",
       "      <td>40</td>\n",
       "      <td>барби и три мушкетера регион</td>\n",
       "    </tr>\n",
       "    <tr>\n",
       "      <th>8629</th>\n",
       "      <td>БАРБИ И ХРУСТАЛЬНЫЙ ЗАМОК (Регион)</td>\n",
       "      <td>8629</td>\n",
       "      <td>40</td>\n",
       "      <td>барби и хрустальный замок регион</td>\n",
       "    </tr>\n",
       "  </tbody>\n",
       "</table>\n",
       "</div>"
      ],
      "text/plain": [
       "                                          item_name  item_id  \\\n",
       "12                  *МИХЕЙ И ДЖУМАНДЖИ  Сука любовь       12   \n",
       "2268     Call of Duty. Ghosts [PS4, русская версия]     2268   \n",
       "2331     Call of Duty: Ghosts [PS4, русская версия]     2331   \n",
       "8247                           АЛЫЕ ПАРУСА (Регион)     8247   \n",
       "8248                           АЛЫЕ ПАРУСА (регион)     8248   \n",
       "8289    АНГЛИЙСКИЙ ВМЕСТЕ С ХРЮШЕЙ И… ч. 1 (Регион)     8289   \n",
       "8290    АНГЛИЙСКИЙ ВМЕСТЕ С ХРЮШЕЙ И… ч. 1 (регион)     8290   \n",
       "8298                         АНДРЕЙ РУБЛЕВ (Регион)     8298   \n",
       "8299                         АНДРЕЙ РУБЛЕВ (регион)     8299   \n",
       "8422                                 АФОНЯ (Регион)     8422   \n",
       "8423                                 АФОНЯ (регион)     8423   \n",
       "8616        БАРБИ В РОЛИ ПРИНЦЕССЫ ОСТРОВА (Регион)     8616   \n",
       "8617        БАРБИ В РОЛИ ПРИНЦЕССЫ ОСТРОВА (регион)     8617   \n",
       "8618  БАРБИ В ФИЛЬМЕ ПРИКЛЮЧЕНИЯ РУСАЛОЧКИ (Регион)     8618   \n",
       "8619  БАРБИ В ФИЛЬМЕ ПРИКЛЮЧЕНИЯ РУСАЛОЧКИ (регион)     8619   \n",
       "8622                        БАРБИ И ДРАКОН (Регион)     8622   \n",
       "8623                        БАРБИ И ДРАКОН (регион)     8623   \n",
       "8627                 БАРБИ И ТРИ МУШКЕТЕРА (Регион)     8627   \n",
       "8628                 БАРБИ И ТРИ МУШКЕТЕРА (регион)     8628   \n",
       "8629             БАРБИ И ХРУСТАЛЬНЫЙ ЗАМОК (Регион)     8629   \n",
       "\n",
       "      item_category_id                              clean_item_name  \n",
       "12                  55               михей и джуманджи  сука любовь  \n",
       "2268                20       call of duty ghosts ps4 русская версия  \n",
       "2331                20       call of duty ghosts ps4 русская версия  \n",
       "8247                40                           алые паруса регион  \n",
       "8248                40                           алые паруса регион  \n",
       "8289                40      английский вместе с хрюшей и ч 1 регион  \n",
       "8290                40      английский вместе с хрюшей и ч 1 регион  \n",
       "8298                40                         андрей рублев регион  \n",
       "8299                40                         андрей рублев регион  \n",
       "8422                40                                 афоня регион  \n",
       "8423                40                                 афоня регион  \n",
       "8616                40        барби в роли принцессы острова регион  \n",
       "8617                40        барби в роли принцессы острова регион  \n",
       "8618                40  барби в фильме приключения русалочки регион  \n",
       "8619                40  барби в фильме приключения русалочки регион  \n",
       "8622                40                        барби и дракон регион  \n",
       "8623                40                        барби и дракон регион  \n",
       "8627                40                 барби и три мушкетера регион  \n",
       "8628                40                 барби и три мушкетера регион  \n",
       "8629                40             барби и хрустальный замок регион  "
      ]
     },
     "execution_count": 30,
     "metadata": {},
     "output_type": "execute_result"
    }
   ],
   "source": [
    "print(items_df[\"clean_item_name\"].duplicated().sum())\n",
    "\n",
    "items_df[items_df[\"clean_item_name\"].duplicated(keep=False)][:20]"
   ]
  },
  {
   "cell_type": "markdown",
   "metadata": {},
   "source": [
    "There is 71 set of duplicate item_names, most of them come in pairs *(item_id, item_if + 1)* and vary in upper-/lowercase symbols. I'll check whether there are differences in corresponding shops and prices of that items after merging the datasets: if they are more or less similar, I will drop the duplicates in ETL."
   ]
  },
  {
   "cell_type": "markdown",
   "metadata": {},
   "source": [
    "## 5. Check ids' and names' uniqueness for supplementary sets"
   ]
  },
  {
   "cell_type": "code",
   "execution_count": 31,
   "metadata": {},
   "outputs": [
    {
     "name": "stdout",
     "output_type": "stream",
     "text": [
      "All names and ids are unique\n"
     ]
    }
   ],
   "source": [
    "DataQualityCheck.check_unique_ids(\n",
    "    categories_df, \"item_category_name\", \"item_category_id\"\n",
    ")"
   ]
  },
  {
   "cell_type": "code",
   "execution_count": 32,
   "metadata": {},
   "outputs": [
    {
     "name": "stdout",
     "output_type": "stream",
     "text": [
      "All names and ids are unique\n"
     ]
    }
   ],
   "source": [
    "DataQualityCheck.check_unique_ids(shops_df, \"shop_name\", \"shop_id\")"
   ]
  },
  {
   "cell_type": "code",
   "execution_count": 33,
   "metadata": {},
   "outputs": [
    {
     "name": "stdout",
     "output_type": "stream",
     "text": [
      "All names and ids are unique\n"
     ]
    }
   ],
   "source": [
    "DataQualityCheck.check_unique_ids(items_df, \"item_name\", \"item_id\")"
   ]
  },
  {
   "cell_type": "markdown",
   "metadata": {},
   "source": [
    "## 6. Search for outliers in **train_df**"
   ]
  },
  {
   "cell_type": "markdown",
   "metadata": {},
   "source": [
    "### Analyze **'item_price'** feature"
   ]
  },
  {
   "cell_type": "code",
   "execution_count": 34,
   "metadata": {},
   "outputs": [
    {
     "data": {
      "image/png": "[encoded data removed]",
      "text/plain": [
       "<Figure size 600x400 with 1 Axes>"
      ]
     },
     "metadata": {},
     "output_type": "display_data"
    }
   ],
   "source": [
    "plt.figure(figsize=(6, 4))\n",
    "plt.hist(train_df[\"item_price\"], bins=80)\n",
    "plt.xlabel(\"item_price\")\n",
    "plt.ylabel(\"num_of_occurances\")\n",
    "plt.title(\"Distribution of item_price\")\n",
    "plt.show()"
   ]
  },
  {
   "cell_type": "markdown",
   "metadata": {},
   "source": [
    "It's better to perform log() transformation on 'item_price' feature to reduce skewness."
   ]
  },
  {
   "cell_type": "code",
   "execution_count": 37,
   "metadata": {},
   "outputs": [
    {
     "data": {
      "image/png": "[encoded data removed]",
      "text/plain": [
       "<Figure size 600x400 with 1 Axes>"
      ]
     },
     "metadata": {},
     "output_type": "display_data"
    }
   ],
   "source": [
    "train_df[\"item_price_log\"] = np.log(train_df[\"item_price\"])\n",
    "\n",
    "plt.figure(figsize=(6, 4))\n",
    "plt.hist(train_df[\"item_price_log\"], bins=80)\n",
    "plt.xlabel(\"item_price_log\")\n",
    "plt.ylabel(\"num_of_occurances\")\n",
    "plt.title(\"Distribution of item_price after log transformation\")\n",
    "plt.show()"
   ]
  },
  {
   "cell_type": "code",
   "execution_count": 38,
   "metadata": {},
   "outputs": [
    {
     "name": "stdout",
     "output_type": "stream",
     "text": [
      "IQR: 1.3893018821838465\n",
      "Number of outliers: 74775\n",
      "Percent of outliers: 2.546963416715233\n",
      "Upper bound value: 8.990707601924324, lower bound value: 3.4335000731889376\n",
      "Min value: -2.659260036932778, Max value: 12.637790124782404\n"
     ]
    }
   ],
   "source": [
    "DataQualityCheck.find_outliers(train_df, \"item_price_log\")"
   ]
  },
  {
   "cell_type": "markdown",
   "metadata": {},
   "source": [
    "Speaking about **'item_price'** feature, in order to decide whether to delete outliers or not it's good to understand the reasons of their presence. It would be easier to merge all information into one dataframe, so outliers will be discussed later in EDA layer"
   ]
  },
  {
   "cell_type": "markdown",
   "metadata": {},
   "source": [
    "### Analyze **'item_cnt_day'** feature"
   ]
  },
  {
   "cell_type": "code",
   "execution_count": 39,
   "metadata": {},
   "outputs": [
    {
     "data": {
      "image/png": "[encoded data removed]",
      "text/plain": [
       "<Figure size 600x400 with 1 Axes>"
      ]
     },
     "metadata": {},
     "output_type": "display_data"
    }
   ],
   "source": [
    "# plot histogram\n",
    "plt.figure(figsize=(6, 4))\n",
    "plt.hist(train_df[\"item_cnt_day\"], bins=80)\n",
    "plt.xlabel(\"item_cnt_day\")\n",
    "plt.ylabel(\"num_of_occurances\")\n",
    "plt.title(\"Distribution of item_cnt_day\")\n",
    "plt.show()"
   ]
  },
  {
   "cell_type": "code",
   "execution_count": 42,
   "metadata": {},
   "outputs": [
    {
     "data": {
      "image/png": "[encoded data removed]",
      "text/plain": [
       "<Figure size 600x400 with 1 Axes>"
      ]
     },
     "metadata": {},
     "output_type": "display_data"
    }
   ],
   "source": [
    "train_df[\"item_cnt_day_log\"] = np.log(train_df[\"item_cnt_day\"])\n",
    "plt.figure(figsize=(6, 4))\n",
    "plt.hist(train_df[\"item_cnt_day_log\"], bins=80)\n",
    "plt.xlabel(\"item_cnt_day_log\")\n",
    "plt.ylabel(\"num_of_occurances\")\n",
    "plt.title(\"Distribution of item_cnt_day after log transformation\")\n",
    "plt.show()"
   ]
  },
  {
   "cell_type": "code",
   "execution_count": 43,
   "metadata": {},
   "outputs": [
    {
     "name": "stdout",
     "output_type": "stream",
     "text": [
      "'item_count_day' max value: 2169.0\n",
      "0.4065604191496225 % of rows have 'item_count_day' >= 10\n"
     ]
    }
   ],
   "source": [
    "print(\"'item_count_day' max value:\", train_df[\"item_cnt_day\"].max())\n",
    "print(\n",
    "    len(train_df[train_df[\"item_cnt_day\"] >= 10]) / len(train_df) * 100,\n",
    "    \"% of rows have 'item_count_day' >= 10\",\n",
    ")"
   ]
  },
  {
   "cell_type": "markdown",
   "metadata": {},
   "source": [
    "As the visualization shows, 'item_cnt_day' feature is extremely right-skewed, so that even **log** transformation doesn't make it look just a little closer to normal distribution. That's why usual techniques for finding outliers are hardly helpful. I'll leave it for the EDA or even for training models' experiments."
   ]
  },
  {
   "cell_type": "markdown",
   "metadata": {},
   "source": [
    "## 7. Check the mismatch between item_ids and shop_ids across files"
   ]
  },
  {
   "cell_type": "markdown",
   "metadata": {},
   "source": [
    "### Check across test and train datasets"
   ]
  },
  {
   "cell_type": "code",
   "execution_count": 44,
   "metadata": {},
   "outputs": [
    {
     "data": {
      "text/plain": [
       "363"
      ]
     },
     "execution_count": 44,
     "metadata": {},
     "output_type": "execute_result"
    }
   ],
   "source": [
    "# for item_id feature\n",
    "test_set = set(test_df[\"item_id\"].unique().tolist())\n",
    "train_set = set(train_df[\"item_id\"].unique().tolist())\n",
    "\n",
    "len(test_set - train_set)"
   ]
  },
  {
   "cell_type": "code",
   "execution_count": 45,
   "metadata": {},
   "outputs": [
    {
     "data": {
      "text/plain": [
       "0"
      ]
     },
     "execution_count": 45,
     "metadata": {},
     "output_type": "execute_result"
    }
   ],
   "source": [
    "# for shop_id feature\n",
    "test_shop_set = set(test_df[\"shop_id\"].unique().tolist())\n",
    "train_shop_set = set(train_df[\"shop_id\"].unique().tolist())\n",
    "\n",
    "len(test_shop_set - train_shop_set)"
   ]
  },
  {
   "cell_type": "markdown",
   "metadata": {},
   "source": [
    "There are 363 item_ids that are not present in the train dataset. This means, when predicting for test, there will be missing values in the features based on **item_price** and **item_cnt_day** columns.\n",
    "Maybe these items are added to test to predict for company, whether to add them to the list of goods in the future or not"
   ]
  },
  {
   "cell_type": "markdown",
   "metadata": {},
   "source": [
    "### Check across train_df, test_df and items_df"
   ]
  },
  {
   "cell_type": "code",
   "execution_count": 46,
   "metadata": {},
   "outputs": [
    {
     "data": {
      "text/plain": [
       "0"
      ]
     },
     "execution_count": 46,
     "metadata": {},
     "output_type": "execute_result"
    }
   ],
   "source": [
    "# for item_id feature\n",
    "train_item_set = set(train_df[\"item_id\"].unique().tolist())\n",
    "item_set = set(items_df[\"item_id\"].unique().tolist())\n",
    "\n",
    "len(train_set - item_set)"
   ]
  },
  {
   "cell_type": "code",
   "execution_count": 47,
   "metadata": {},
   "outputs": [
    {
     "data": {
      "text/plain": [
       "0"
      ]
     },
     "execution_count": 47,
     "metadata": {},
     "output_type": "execute_result"
    }
   ],
   "source": [
    "# for item_id feature\n",
    "test_item_set = set(test_df[\"item_id\"].unique().tolist())\n",
    "item_set = set(items_df[\"item_id\"].unique().tolist())\n",
    "\n",
    "len(test_set - item_set)"
   ]
  },
  {
   "cell_type": "markdown",
   "metadata": {},
   "source": [
    "### Check across train_df, test_df and shops_df"
   ]
  },
  {
   "cell_type": "code",
   "execution_count": 48,
   "metadata": {},
   "outputs": [
    {
     "data": {
      "text/plain": [
       "0"
      ]
     },
     "execution_count": 48,
     "metadata": {},
     "output_type": "execute_result"
    }
   ],
   "source": [
    "# for shop_id feature\n",
    "train_shop_set = set(train_df[\"shop_id\"].unique().tolist())\n",
    "shop_set = set(shops_df[\"shop_id\"].unique().tolist())\n",
    "\n",
    "len(train_shop_set - shop_set)"
   ]
  },
  {
   "cell_type": "code",
   "execution_count": 49,
   "metadata": {},
   "outputs": [
    {
     "data": {
      "text/plain": [
       "0"
      ]
     },
     "execution_count": 49,
     "metadata": {},
     "output_type": "execute_result"
    }
   ],
   "source": [
    "# for shop_id feature\n",
    "test_shop_set = set(test_df[\"shop_id\"].unique().tolist())\n",
    "shop_set = set(shops_df[\"shop_id\"].unique().tolist())\n",
    "\n",
    "len(test_shop_set - shop_set)"
   ]
  },
  {
   "cell_type": "markdown",
   "metadata": {},
   "source": [
    "### Check across items_df and categories_df"
   ]
  },
  {
   "cell_type": "code",
   "execution_count": 50,
   "metadata": {},
   "outputs": [
    {
     "data": {
      "text/plain": [
       "0"
      ]
     },
     "execution_count": 50,
     "metadata": {},
     "output_type": "execute_result"
    }
   ],
   "source": [
    "# for item_category_id feature\n",
    "items_categories_set = set(items_df[\"item_category_id\"].unique().tolist())\n",
    "categories_set = set(categories_df[\"item_category_id\"].unique().tolist())\n",
    "\n",
    "len(items_categories_set - categories_set)"
   ]
  },
  {
   "cell_type": "markdown",
   "metadata": {},
   "source": [
    "### Summing all up, the only mismatch between ids' sets is for \"item_id\" feature between test and train datasets "
   ]
  },
  {
   "cell_type": "markdown",
   "metadata": {},
   "source": [
    "## **Conclusion**\n",
    "\n",
    "After data quality check process it's clear that some transformations should be done:\n",
    "\n",
    "1. Change dtypes for some **train_df** columns\n",
    "2. Delete some **train_df** rows with negative values\n",
    "3. Fix inconsistent data in **shops.csv** and **items.csv**\n",
    "3. Merge **train_df** with **items_df, categories_df, shops_df**. Do the same with **test_df**"
   ]
  }
 ],
 "metadata": {
  "kernelspec": {
   "display_name": "ml",
   "language": "python",
   "name": "python3"
  },
  "language_info": {
   "codemirror_mode": {
    "name": "ipython",
    "version": 3
   },
   "file_extension": ".py",
   "mimetype": "text/x-python",
   "name": "python",
   "nbconvert_exporter": "python",
   "pygments_lexer": "ipython3",
   "version": "3.11.9"
  }
 },
 "nbformat": 4,
 "nbformat_minor": 2
}
