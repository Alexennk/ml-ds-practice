{
 "cells": [
  {
   "cell_type": "markdown",
   "metadata": {},
   "source": [
    "# Validation Layer\n",
    "\n",
    "## **Description:**\n",
    "\n",
    "- Now you have to create validation schema and produce simple model running on it\n",
    "    - Create a validation class\n",
    "    - Create a simpe model\n",
    "    - Create a simpe feature extraction step\n",
    "- No extensive modeling or feature extraction is required, we need just to ensure our modeling step is trustworthy:\n",
    "    - We don't have any target leakage\n",
    "    - Our validation results are very close to the production behaviour\n",
    "    - We have enough validation data to rank our model results\n",
    "- Prepare a simple picture that would describe your schema:\n",
    "    - Decalre Train/Validation/Test splits\n",
    "    - Define validation approach\n",
    "    - Define the way you exrtact features that won't have target or data leakage"
   ]
  },
  {
   "cell_type": "code",
   "execution_count": 1,
   "metadata": {},
   "outputs": [],
   "source": [
    "import numpy as np\n",
    "import pandas as pd\n",
    "\n",
    "import sys\n",
    "sys.path.append('../')\n",
    "import scripts.validate as validate # validate.py module"
   ]
  }
 ],
 "metadata": {
  "kernelspec": {
   "display_name": "ml",
   "language": "python",
   "name": "python3"
  },
  "language_info": {
   "codemirror_mode": {
    "name": "ipython",
    "version": 3
   },
   "file_extension": ".py",
   "mimetype": "text/x-python",
   "name": "python",
   "nbconvert_exporter": "python",
   "pygments_lexer": "ipython3",
   "version": "3.11.9"
  }
 },
 "nbformat": 4,
 "nbformat_minor": 2
}
