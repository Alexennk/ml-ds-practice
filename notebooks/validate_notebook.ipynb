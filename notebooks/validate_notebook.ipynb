{
 "cells": [
  {
   "cell_type": "markdown",
   "metadata": {},
   "source": [
    "# Validation Layer\n",
    "\n",
    "## **Description:**\n",
    "\n",
    "- Now you have to create validation schema and produce simple model running on it\n",
    "    - Create a validation class\n",
    "    - Create a simpe model\n",
    "    - Create a simpe feature extraction step\n",
    "- No extensive modeling or feature extraction is required, we need just to ensure our modeling step is trustworthy:\n",
    "    - We don't have any target leakage\n",
    "    - Our validation results are very close to the production behaviour\n",
    "    - We have enough validation data to rank our model results\n",
    "- Prepare a simple picture that would describe your schema:\n",
    "    - Decalre Train/Validation/Test splits\n",
    "    - Define validation approach\n",
    "    - Define the way you exrtact features that won't have target or data leakage"
   ]
  },
  {
   "cell_type": "code",
   "execution_count": 1,
   "metadata": {},
   "outputs": [],
   "source": [
    "import numpy as np\n",
    "import pandas as pd\n",
    "\n",
    "import sys\n",
    "sys.path.append('../')\n",
    "import scripts.validate as validate # validate.py module"
   ]
  },
  {
   "cell_type": "markdown",
   "metadata": {},
   "source": [
    "## Load and transform **train, test** datasets"
   ]
  },
  {
   "cell_type": "code",
   "execution_count": 2,
   "metadata": {},
   "outputs": [],
   "source": [
    "train_df = pd.read_csv('../data/result_train.csv')\n",
    "test_df = pd.read_csv('../data/result_test.csv')"
   ]
  },
  {
   "cell_type": "code",
   "execution_count": 6,
   "metadata": {},
   "outputs": [
    {
     "name": "stdout",
     "output_type": "stream",
     "text": [
      "<class 'pandas.core.frame.DataFrame'>\n",
      "RangeIndex: 1608724 entries, 0 to 1608723\n",
      "Data columns (total 31 columns):\n",
      " #   Column                  Non-Null Count    Dtype   \n",
      "---  ------                  --------------    -----   \n",
      " 0   date_block_num          1608724 non-null  float32 \n",
      " 1   shop_id                 1608724 non-null  float32 \n",
      " 2   item_id                 1608724 non-null  float32 \n",
      " 3   item_cnt_month          1608724 non-null  float32 \n",
      " 4   item_price              1608724 non-null  float32 \n",
      " 5   month                   1608724 non-null  float32 \n",
      " 6   year                    1608724 non-null  float32 \n",
      " 7   item_name               1608724 non-null  category\n",
      " 8   item_category_id        1608724 non-null  float32 \n",
      " 9   item_category_name      1608724 non-null  category\n",
      " 10  shop_name               1608724 non-null  category\n",
      " 11  months_since_last_sale  1608724 non-null  float32 \n",
      " 12  revenue                 1608724 non-null  float32 \n",
      " 13  revenue_lag_1           1608724 non-null  float32 \n",
      " 14  revenue_lag_2           1608724 non-null  float32 \n",
      " 15  revenue_lag_3           1608724 non-null  float32 \n",
      " 16  revenue_lag_6           1608724 non-null  float32 \n",
      " 17  revenue_lag_12          1608724 non-null  float32 \n",
      " 18  item_cnt_month_lag_1    1608724 non-null  float32 \n",
      " 19  item_cnt_month_lag_2    1608724 non-null  float32 \n",
      " 20  item_cnt_month_lag_3    1608724 non-null  float32 \n",
      " 21  item_cnt_month_lag_6    1608724 non-null  float32 \n",
      " 22  item_cnt_month_lag_12   1608724 non-null  float32 \n",
      " 23  days                    1608724 non-null  float32 \n",
      " 24  avg_item_price          1608724 non-null  float32 \n",
      " 25  avg_item_price_lag_1    1608724 non-null  float32 \n",
      " 26  avg_item_price_lag_2    1608724 non-null  float32 \n",
      " 27  avg_item_price_lag_3    1608724 non-null  float32 \n",
      " 28  avg_item_price_lag_4    1608724 non-null  float32 \n",
      " 29  avg_item_price_lag_5    1608724 non-null  float32 \n",
      " 30  avg_item_price_lag_6    1608724 non-null  float32 \n",
      "dtypes: category(3), float32(28)\n",
      "memory usage: 178.6 MB\n"
     ]
    }
   ],
   "source": [
    "float_columns = train_df.select_dtypes(include=np.number).columns.tolist()\n",
    "object_columns = train_df.select_dtypes(include=object).columns.tolist()\n",
    "\n",
    "train_df = validate.transform_df_types(train_df, int_columns=[], float_columns=float_columns, object_columns=object_columns)\n",
    "train_df.info()"
   ]
  },
  {
   "cell_type": "code",
   "execution_count": 7,
   "metadata": {},
   "outputs": [
    {
     "name": "stdout",
     "output_type": "stream",
     "text": [
      "<class 'pandas.core.frame.DataFrame'>\n",
      "RangeIndex: 214284 entries, 0 to 214283\n",
      "Data columns (total 27 columns):\n",
      " #   Column                  Non-Null Count   Dtype   \n",
      "---  ------                  --------------   -----   \n",
      " 0   ID                      214284 non-null  float32 \n",
      " 1   shop_id                 214284 non-null  float32 \n",
      " 2   item_id                 214284 non-null  float32 \n",
      " 3   item_name               214284 non-null  category\n",
      " 4   item_category_id        214284 non-null  float32 \n",
      " 5   item_category_name      214284 non-null  category\n",
      " 6   shop_name               214284 non-null  category\n",
      " 7   months_since_last_sale  214284 non-null  float32 \n",
      " 8   revenue_lag_1           214284 non-null  float32 \n",
      " 9   revenue_lag_2           214284 non-null  float32 \n",
      " 10  revenue_lag_3           214284 non-null  float32 \n",
      " 11  revenue_lag_6           214284 non-null  float32 \n",
      " 12  revenue_lag_12          214284 non-null  float32 \n",
      " 13  item_cnt_month_lag_1    214284 non-null  float32 \n",
      " 14  item_cnt_month_lag_2    214284 non-null  float32 \n",
      " 15  item_cnt_month_lag_3    214284 non-null  float32 \n",
      " 16  item_cnt_month_lag_6    214284 non-null  float32 \n",
      " 17  item_cnt_month_lag_12   214284 non-null  float32 \n",
      " 18  month                   214284 non-null  float32 \n",
      " 19  year                    214284 non-null  float32 \n",
      " 20  days                    214284 non-null  float32 \n",
      " 21  avg_item_price_lag_1    214284 non-null  float32 \n",
      " 22  avg_item_price_lag_2    214284 non-null  float32 \n",
      " 23  avg_item_price_lag_3    214284 non-null  float32 \n",
      " 24  avg_item_price_lag_4    214284 non-null  float32 \n",
      " 25  avg_item_price_lag_5    214284 non-null  float32 \n",
      " 26  avg_item_price_lag_6    214284 non-null  float32 \n",
      "dtypes: category(3), float32(24)\n",
      "memory usage: 20.6 MB\n"
     ]
    }
   ],
   "source": [
    "float_columns = test_df.select_dtypes(include=np.number).columns.tolist()\n",
    "object_columns = test_df.select_dtypes(include=object).columns.tolist()\n",
    "\n",
    "test_df = validate.transform_df_types(test_df, int_columns=[], float_columns=float_columns, object_columns=object_columns)\n",
    "test_df.info()"
   ]
  },
  {
   "cell_type": "markdown",
   "metadata": {},
   "source": []
  }
 ],
 "metadata": {
  "kernelspec": {
   "display_name": "ml",
   "language": "python",
   "name": "python3"
  },
  "language_info": {
   "codemirror_mode": {
    "name": "ipython",
    "version": 3
   },
   "file_extension": ".py",
   "mimetype": "text/x-python",
   "name": "python",
   "nbconvert_exporter": "python",
   "pygments_lexer": "ipython3",
   "version": "3.11.9"
  }
 },
 "nbformat": 4,
 "nbformat_minor": 2
}
