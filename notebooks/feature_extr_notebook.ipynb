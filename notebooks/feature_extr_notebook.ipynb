{
 "cells": [
  {
   "cell_type": "code",
   "execution_count": 21,
   "metadata": {},
   "outputs": [],
   "source": [
    "import numpy as np\n",
    "import pandas as pd\n",
    "import matplotlib.pyplot as plt\n",
    "import seaborn as sns\n",
    "\n",
    "import sys\n",
    "sys.path.append('../')\n",
    "import scripts.feature_extr as feature_extr # feature_extr.py module\n",
    "\n",
    "import warnings\n",
    "warnings.filterwarnings('ignore')"
   ]
  },
  {
   "cell_type": "markdown",
   "metadata": {},
   "source": [
    "## Load and transform train, aggregated train and test datasets"
   ]
  },
  {
   "cell_type": "code",
   "execution_count": 22,
   "metadata": {},
   "outputs": [
    {
     "data": {
      "text/html": [
       "<div>\n",
       "<style scoped>\n",
       "    .dataframe tbody tr th:only-of-type {\n",
       "        vertical-align: middle;\n",
       "    }\n",
       "\n",
       "    .dataframe tbody tr th {\n",
       "        vertical-align: top;\n",
       "    }\n",
       "\n",
       "    .dataframe thead th {\n",
       "        text-align: right;\n",
       "    }\n",
       "</style>\n",
       "<table border=\"1\" class=\"dataframe\">\n",
       "  <thead>\n",
       "    <tr style=\"text-align: right;\">\n",
       "      <th></th>\n",
       "      <th>date_block_num</th>\n",
       "      <th>shop_id</th>\n",
       "      <th>item_id</th>\n",
       "      <th>item_cnt_month</th>\n",
       "      <th>item_price</th>\n",
       "      <th>month</th>\n",
       "      <th>year</th>\n",
       "      <th>item_name</th>\n",
       "      <th>item_category_id</th>\n",
       "      <th>item_category_name</th>\n",
       "      <th>shop_name</th>\n",
       "    </tr>\n",
       "  </thead>\n",
       "  <tbody>\n",
       "    <tr>\n",
       "      <th>0</th>\n",
       "      <td>0</td>\n",
       "      <td>2</td>\n",
       "      <td>27</td>\n",
       "      <td>1</td>\n",
       "      <td>2499.0</td>\n",
       "      <td>0</td>\n",
       "      <td>0</td>\n",
       "      <td>007 Legends [PS3, русская версия]</td>\n",
       "      <td>19</td>\n",
       "      <td>Игры - PS3</td>\n",
       "      <td>Адыгея ТЦ \"Мега\"</td>\n",
       "    </tr>\n",
       "    <tr>\n",
       "      <th>1</th>\n",
       "      <td>0</td>\n",
       "      <td>2</td>\n",
       "      <td>33</td>\n",
       "      <td>1</td>\n",
       "      <td>499.0</td>\n",
       "      <td>0</td>\n",
       "      <td>0</td>\n",
       "      <td>1+1 (BD)</td>\n",
       "      <td>37</td>\n",
       "      <td>Кино - Blu-Ray</td>\n",
       "      <td>Адыгея ТЦ \"Мега\"</td>\n",
       "    </tr>\n",
       "    <tr>\n",
       "      <th>2</th>\n",
       "      <td>0</td>\n",
       "      <td>2</td>\n",
       "      <td>317</td>\n",
       "      <td>1</td>\n",
       "      <td>299.0</td>\n",
       "      <td>0</td>\n",
       "      <td>0</td>\n",
       "      <td>1С:Аудиокниги. Мединский В. Мифы о России. О р...</td>\n",
       "      <td>45</td>\n",
       "      <td>Книги - Аудиокниги 1С</td>\n",
       "      <td>Адыгея ТЦ \"Мега\"</td>\n",
       "    </tr>\n",
       "  </tbody>\n",
       "</table>\n",
       "</div>"
      ],
      "text/plain": [
       "   date_block_num  shop_id  item_id  item_cnt_month  item_price  month  year  \\\n",
       "0               0        2       27               1      2499.0      0     0   \n",
       "1               0        2       33               1       499.0      0     0   \n",
       "2               0        2      317               1       299.0      0     0   \n",
       "\n",
       "                                           item_name  item_category_id  \\\n",
       "0                  007 Legends [PS3, русская версия]                19   \n",
       "1                                           1+1 (BD)                37   \n",
       "2  1С:Аудиокниги. Мединский В. Мифы о России. О р...                45   \n",
       "\n",
       "      item_category_name         shop_name  \n",
       "0             Игры - PS3  Адыгея ТЦ \"Мега\"  \n",
       "1         Кино - Blu-Ray  Адыгея ТЦ \"Мега\"  \n",
       "2  Книги - Аудиокниги 1С  Адыгея ТЦ \"Мега\"  "
      ]
     },
     "execution_count": 22,
     "metadata": {},
     "output_type": "execute_result"
    }
   ],
   "source": [
    "train_df = pd.read_csv('../data/merged_train.csv')\n",
    "aggregated_train_df = pd.read_csv('../data/merged_train_aggregated.csv')\n",
    "test_df = pd.read_csv('../data/merged_test.csv')\n",
    "\n",
    "aggregated_train_df.head(3)"
   ]
  },
  {
   "cell_type": "code",
   "execution_count": 23,
   "metadata": {},
   "outputs": [
    {
     "name": "stdout",
     "output_type": "stream",
     "text": [
      "<class 'pandas.core.frame.DataFrame'>\n",
      "RangeIndex: 2935848 entries, 0 to 2935847\n",
      "Data columns (total 12 columns):\n",
      " #   Column              Dtype         \n",
      "---  ------              -----         \n",
      " 0   date                datetime64[ns]\n",
      " 1   date_block_num      int32         \n",
      " 2   shop_id             int32         \n",
      " 3   item_id             int32         \n",
      " 4   item_price          float32       \n",
      " 5   item_cnt_day        int32         \n",
      " 6   month               int32         \n",
      " 7   year                int32         \n",
      " 8   item_name           category      \n",
      " 9   item_category_id    int32         \n",
      " 10  item_category_name  category      \n",
      " 11  shop_name           category      \n",
      "dtypes: category(3), datetime64[ns](1), float32(1), int32(7)\n",
      "memory usage: 123.9 MB\n"
     ]
    }
   ],
   "source": [
    "train_df['date'] = pd.to_datetime(train_df['date'])\n",
    "\n",
    "int_columns = ['date_block_num', 'shop_id', 'item_id', 'item_cnt_day', 'month', 'year', 'item_category_id']\n",
    "float_columns = ['item_price']\n",
    "object_columns = ['item_name', 'item_category_name', 'shop_name']\n",
    "\n",
    "train_df = feature_extr.transform_df_types(train_df, int_columns, float_columns, object_columns)\n",
    "train_df.info()"
   ]
  },
  {
   "cell_type": "code",
   "execution_count": 24,
   "metadata": {},
   "outputs": [
    {
     "name": "stdout",
     "output_type": "stream",
     "text": [
      "<class 'pandas.core.frame.DataFrame'>\n",
      "RangeIndex: 1608724 entries, 0 to 1608723\n",
      "Data columns (total 11 columns):\n",
      " #   Column              Non-Null Count    Dtype   \n",
      "---  ------              --------------    -----   \n",
      " 0   date_block_num      1608724 non-null  int32   \n",
      " 1   shop_id             1608724 non-null  int32   \n",
      " 2   item_id             1608724 non-null  int32   \n",
      " 3   item_cnt_month      1608724 non-null  float32 \n",
      " 4   item_price          1608724 non-null  float32 \n",
      " 5   month               1608724 non-null  int32   \n",
      " 6   year                1608724 non-null  int32   \n",
      " 7   item_name           1608724 non-null  category\n",
      " 8   item_category_id    1608724 non-null  int32   \n",
      " 9   item_category_name  1608724 non-null  category\n",
      " 10  shop_name           1608724 non-null  category\n",
      "dtypes: category(3), float32(2), int32(6)\n",
      "memory usage: 55.9 MB\n"
     ]
    }
   ],
   "source": [
    "int_columns = ['date_block_num', 'shop_id', 'item_id', 'month', 'year', 'item_category_id']\n",
    "float_columns = ['item_price', 'item_cnt_month']\n",
    "object_columns = ['item_name', 'item_category_name', 'shop_name']\n",
    "\n",
    "aggregated_train_df = feature_extr.transform_df_types(aggregated_train_df, int_columns, float_columns, object_columns)\n",
    "aggregated_train_df.info()"
   ]
  },
  {
   "cell_type": "code",
   "execution_count": 25,
   "metadata": {},
   "outputs": [
    {
     "name": "stdout",
     "output_type": "stream",
     "text": [
      "<class 'pandas.core.frame.DataFrame'>\n",
      "RangeIndex: 214200 entries, 0 to 214199\n",
      "Data columns (total 7 columns):\n",
      " #   Column              Non-Null Count   Dtype   \n",
      "---  ------              --------------   -----   \n",
      " 0   ID                  214200 non-null  int32   \n",
      " 1   shop_id             214200 non-null  int32   \n",
      " 2   item_id             214200 non-null  int32   \n",
      " 3   item_name           214200 non-null  category\n",
      " 4   item_category_id    214200 non-null  int32   \n",
      " 5   item_category_name  214200 non-null  category\n",
      " 6   shop_name           214200 non-null  category\n",
      "dtypes: category(3), int32(4)\n",
      "memory usage: 4.3 MB\n"
     ]
    }
   ],
   "source": [
    "int_columns = ['ID', 'shop_id', 'item_id', 'item_category_id']\n",
    "object_columns = ['item_name', 'item_category_name', 'shop_name']\n",
    "\n",
    "test_df = feature_extr.transform_df_types(test_df, int_columns, object_columns=object_columns)\n",
    "test_df.info()"
   ]
  },
  {
   "cell_type": "markdown",
   "metadata": {},
   "source": [
    "## Add **\"months since the last sale for each item, shop and date_block_num\"** feature"
   ]
  },
  {
   "cell_type": "markdown",
   "metadata": {},
   "source": [
    "### 1. Sort dataframe"
   ]
  },
  {
   "cell_type": "code",
   "execution_count": 26,
   "metadata": {},
   "outputs": [],
   "source": [
    "# aggregated_sorted = aggregated_train_df.sort_values(by=['shop_id', 'item_id', 'date_block_num'])\n",
    "\n",
    "# aggregated_sorted['months_since_last_sale'] = -1\n",
    "\n",
    "# for row in aggregated_sorted.itertuples():\n",
    "#     if row.Index == 0: \n",
    "#         continue\n",
    "    \n",
    "#     row_prev = aggregated_sorted.iloc[row.Index - 1]\n",
    "#     if row_prev['shop_id'] == row.shop_id and row_prev['item_id'] == row.item_id:\n",
    "#         aggregated_sorted.at[row.Index, 'months_since_last_sale'] = row.date_block_num - row_prev['date_block_num']\n",
    "\n",
    "# aggregated_sorted.to_csv('../data/aggregated_months.csv', index=False)"
   ]
  },
  {
   "cell_type": "code",
   "execution_count": 27,
   "metadata": {},
   "outputs": [
    {
     "name": "stdout",
     "output_type": "stream",
     "text": [
      "<class 'pandas.core.frame.DataFrame'>\n",
      "RangeIndex: 1608724 entries, 0 to 1608723\n",
      "Data columns (total 12 columns):\n",
      " #   Column                  Non-Null Count    Dtype   \n",
      "---  ------                  --------------    -----   \n",
      " 0   date_block_num          1608724 non-null  int32   \n",
      " 1   shop_id                 1608724 non-null  int32   \n",
      " 2   item_id                 1608724 non-null  int32   \n",
      " 3   item_cnt_month          1608724 non-null  float32 \n",
      " 4   item_price              1608724 non-null  float32 \n",
      " 5   month                   1608724 non-null  int32   \n",
      " 6   year                    1608724 non-null  int32   \n",
      " 7   item_name               1608724 non-null  category\n",
      " 8   item_category_id        1608724 non-null  int32   \n",
      " 9   item_category_name      1608724 non-null  category\n",
      " 10  shop_name               1608724 non-null  category\n",
      " 11  months_since_last_sale  1608724 non-null  int32   \n",
      "dtypes: category(3), float32(2), int32(7)\n",
      "memory usage: 62.0 MB\n"
     ]
    }
   ],
   "source": [
    "aggregated_sorted = pd.read_csv('../data/aggregated_months.csv')\n",
    "\n",
    "int_columns = ['date_block_num', 'shop_id', 'item_id', 'month', 'year', 'item_category_id', 'months_since_last_sale']\n",
    "float_columns = ['item_price', 'item_cnt_month']\n",
    "object_columns = ['item_name', 'item_category_name', 'shop_name']\n",
    "\n",
    "aggregated_train_df = feature_extr.transform_df_types(aggregated_sorted, int_columns, float_columns, object_columns)\n",
    "aggregated_train_df.info()"
   ]
  },
  {
   "cell_type": "markdown",
   "metadata": {},
   "source": [
    "## Add **revenue** lag features"
   ]
  },
  {
   "cell_type": "markdown",
   "metadata": {},
   "source": [
    "### Calculate revenue"
   ]
  },
  {
   "cell_type": "code",
   "execution_count": 28,
   "metadata": {},
   "outputs": [],
   "source": [
    "train_df['revenue'] = train_df['item_price'] * train_df['item_cnt_day']\n",
    "train_aggregated = train_df.groupby(['date_block_num', 'shop_id']).agg({'revenue': 'sum'}).reset_index()\n",
    "\n",
    "aggregated_train_df = aggregated_train_df.merge(train_aggregated, on=['date_block_num', 'shop_id'], how='left')"
   ]
  },
  {
   "cell_type": "code",
   "execution_count": 29,
   "metadata": {},
   "outputs": [
    {
     "data": {
      "text/plain": [
       "0"
      ]
     },
     "execution_count": 29,
     "metadata": {},
     "output_type": "execute_result"
    }
   ],
   "source": [
    "aggregated_train_df.isna().sum().sum()"
   ]
  },
  {
   "cell_type": "markdown",
   "metadata": {},
   "source": [
    "### Add revenue information for each **date_block_num** and **shop_id** for lags = [1, 2, 3, 6, 12]"
   ]
  },
  {
   "cell_type": "code",
   "execution_count": 30,
   "metadata": {},
   "outputs": [],
   "source": [
    "aggregated_lagged = feature_extr.train_add_lag_features(aggregated_train_df, 'revenue', on=['shop_id', 'date_block_num'], lags=[1, 2, 3, 6, 12])"
   ]
  },
  {
   "cell_type": "code",
   "execution_count": 31,
   "metadata": {},
   "outputs": [
    {
     "data": {
      "text/html": [
       "<div>\n",
       "<style scoped>\n",
       "    .dataframe tbody tr th:only-of-type {\n",
       "        vertical-align: middle;\n",
       "    }\n",
       "\n",
       "    .dataframe tbody tr th {\n",
       "        vertical-align: top;\n",
       "    }\n",
       "\n",
       "    .dataframe thead th {\n",
       "        text-align: right;\n",
       "    }\n",
       "</style>\n",
       "<table border=\"1\" class=\"dataframe\">\n",
       "  <thead>\n",
       "    <tr style=\"text-align: right;\">\n",
       "      <th></th>\n",
       "      <th>date_block_num</th>\n",
       "      <th>shop_id</th>\n",
       "      <th>item_id</th>\n",
       "      <th>item_cnt_month</th>\n",
       "      <th>item_price</th>\n",
       "      <th>month</th>\n",
       "      <th>year</th>\n",
       "      <th>item_name</th>\n",
       "      <th>item_category_id</th>\n",
       "      <th>item_category_name</th>\n",
       "      <th>shop_name</th>\n",
       "      <th>months_since_last_sale</th>\n",
       "      <th>revenue</th>\n",
       "      <th>revenue_lag_1</th>\n",
       "      <th>revenue_lag_2</th>\n",
       "      <th>revenue_lag_3</th>\n",
       "      <th>revenue_lag_6</th>\n",
       "      <th>revenue_lag_12</th>\n",
       "    </tr>\n",
       "  </thead>\n",
       "  <tbody>\n",
       "    <tr>\n",
       "      <th>14</th>\n",
       "      <td>20</td>\n",
       "      <td>2</td>\n",
       "      <td>32</td>\n",
       "      <td>2.0</td>\n",
       "      <td>149.0</td>\n",
       "      <td>8</td>\n",
       "      <td>1</td>\n",
       "      <td>1+1</td>\n",
       "      <td>40</td>\n",
       "      <td>Кино - DVD</td>\n",
       "      <td>Адыгея ТЦ \"Мега\"</td>\n",
       "      <td>-1</td>\n",
       "      <td>1473540.0</td>\n",
       "      <td>0.0</td>\n",
       "      <td>1102918.5</td>\n",
       "      <td>0.0</td>\n",
       "      <td>1889424.0</td>\n",
       "      <td>0.0</td>\n",
       "    </tr>\n",
       "    <tr>\n",
       "      <th>23</th>\n",
       "      <td>20</td>\n",
       "      <td>2</td>\n",
       "      <td>33</td>\n",
       "      <td>1.0</td>\n",
       "      <td>199.0</td>\n",
       "      <td>8</td>\n",
       "      <td>1</td>\n",
       "      <td>1+1 (BD)</td>\n",
       "      <td>37</td>\n",
       "      <td>Кино - Blu-Ray</td>\n",
       "      <td>Адыгея ТЦ \"Мега\"</td>\n",
       "      <td>-1</td>\n",
       "      <td>1473540.0</td>\n",
       "      <td>0.0</td>\n",
       "      <td>0.0</td>\n",
       "      <td>0.0</td>\n",
       "      <td>0.0</td>\n",
       "      <td>0.0</td>\n",
       "    </tr>\n",
       "    <tr>\n",
       "      <th>71</th>\n",
       "      <td>20</td>\n",
       "      <td>2</td>\n",
       "      <td>482</td>\n",
       "      <td>2.0</td>\n",
       "      <td>3300.0</td>\n",
       "      <td>8</td>\n",
       "      <td>1</td>\n",
       "      <td>1С:Бухгалтерия 8. Базовая версия</td>\n",
       "      <td>73</td>\n",
       "      <td>Программы - 1С:Предприятие 8</td>\n",
       "      <td>Адыгея ТЦ \"Мега\"</td>\n",
       "      <td>-1</td>\n",
       "      <td>1473540.0</td>\n",
       "      <td>0.0</td>\n",
       "      <td>1102918.5</td>\n",
       "      <td>0.0</td>\n",
       "      <td>0.0</td>\n",
       "      <td>1321185.0</td>\n",
       "    </tr>\n",
       "  </tbody>\n",
       "</table>\n",
       "</div>"
      ],
      "text/plain": [
       "    date_block_num  shop_id  item_id  item_cnt_month  item_price  month  year  \\\n",
       "14              20        2       32             2.0       149.0      8     1   \n",
       "23              20        2       33             1.0       199.0      8     1   \n",
       "71              20        2      482             2.0      3300.0      8     1   \n",
       "\n",
       "                           item_name  item_category_id  \\\n",
       "14                               1+1                40   \n",
       "23                          1+1 (BD)                37   \n",
       "71  1С:Бухгалтерия 8. Базовая версия                73   \n",
       "\n",
       "              item_category_name         shop_name  months_since_last_sale  \\\n",
       "14                    Кино - DVD  Адыгея ТЦ \"Мега\"                      -1   \n",
       "23                Кино - Blu-Ray  Адыгея ТЦ \"Мега\"                      -1   \n",
       "71  Программы - 1С:Предприятие 8  Адыгея ТЦ \"Мега\"                      -1   \n",
       "\n",
       "      revenue  revenue_lag_1  revenue_lag_2  revenue_lag_3  revenue_lag_6  \\\n",
       "14  1473540.0            0.0      1102918.5            0.0      1889424.0   \n",
       "23  1473540.0            0.0            0.0            0.0            0.0   \n",
       "71  1473540.0            0.0      1102918.5            0.0            0.0   \n",
       "\n",
       "    revenue_lag_12  \n",
       "14             0.0  \n",
       "23             0.0  \n",
       "71       1321185.0  "
      ]
     },
     "execution_count": 31,
     "metadata": {},
     "output_type": "execute_result"
    }
   ],
   "source": [
    "aggregated_lagged[aggregated_lagged['date_block_num'] == 20].head(3)"
   ]
  },
  {
   "cell_type": "markdown",
   "metadata": {},
   "source": [
    "### Do this for **test** dataframe as well"
   ]
  },
  {
   "cell_type": "code",
   "execution_count": 32,
   "metadata": {},
   "outputs": [],
   "source": [
    "test_lagged = feature_extr.test_add_lag_features(test_df, aggregated_train_df, col='revenue', on=['shop_id'], lags=[1, 2, 3, 6, 12])"
   ]
  },
  {
   "cell_type": "code",
   "execution_count": 33,
   "metadata": {},
   "outputs": [
    {
     "data": {
      "text/html": [
       "<div>\n",
       "<style scoped>\n",
       "    .dataframe tbody tr th:only-of-type {\n",
       "        vertical-align: middle;\n",
       "    }\n",
       "\n",
       "    .dataframe tbody tr th {\n",
       "        vertical-align: top;\n",
       "    }\n",
       "\n",
       "    .dataframe thead th {\n",
       "        text-align: right;\n",
       "    }\n",
       "</style>\n",
       "<table border=\"1\" class=\"dataframe\">\n",
       "  <thead>\n",
       "    <tr style=\"text-align: right;\">\n",
       "      <th></th>\n",
       "      <th>ID</th>\n",
       "      <th>shop_id</th>\n",
       "      <th>item_id</th>\n",
       "      <th>item_name</th>\n",
       "      <th>item_category_id</th>\n",
       "      <th>item_category_name</th>\n",
       "      <th>shop_name</th>\n",
       "      <th>revenue_lag_1</th>\n",
       "      <th>revenue_lag_2</th>\n",
       "      <th>revenue_lag_3</th>\n",
       "      <th>revenue_lag_6</th>\n",
       "      <th>revenue_lag_12</th>\n",
       "    </tr>\n",
       "  </thead>\n",
       "  <tbody>\n",
       "    <tr>\n",
       "      <th>0</th>\n",
       "      <td>0</td>\n",
       "      <td>5</td>\n",
       "      <td>5037</td>\n",
       "      <td>NHL 15 [PS3, русские субтитры]</td>\n",
       "      <td>19</td>\n",
       "      <td>Игры - PS3</td>\n",
       "      <td>Вологда ТРЦ \"Мармелад\"</td>\n",
       "      <td>0.0</td>\n",
       "      <td>1171450.0</td>\n",
       "      <td>1160948.5</td>\n",
       "      <td>1036892.0</td>\n",
       "      <td>1750290.0</td>\n",
       "    </tr>\n",
       "    <tr>\n",
       "      <th>1</th>\n",
       "      <td>1</td>\n",
       "      <td>5</td>\n",
       "      <td>5320</td>\n",
       "      <td>ONE DIRECTION  Made In The A.M.</td>\n",
       "      <td>55</td>\n",
       "      <td>Музыка - CD локального производства</td>\n",
       "      <td>Вологда ТРЦ \"Мармелад\"</td>\n",
       "      <td>0.0</td>\n",
       "      <td>0.0</td>\n",
       "      <td>0.0</td>\n",
       "      <td>0.0</td>\n",
       "      <td>0.0</td>\n",
       "    </tr>\n",
       "    <tr>\n",
       "      <th>2</th>\n",
       "      <td>2</td>\n",
       "      <td>5</td>\n",
       "      <td>5233</td>\n",
       "      <td>Need for Speed Rivals (Essentials) [PS3, русск...</td>\n",
       "      <td>19</td>\n",
       "      <td>Игры - PS3</td>\n",
       "      <td>Вологда ТРЦ \"Мармелад\"</td>\n",
       "      <td>1100220.0</td>\n",
       "      <td>1171450.0</td>\n",
       "      <td>1160948.5</td>\n",
       "      <td>1036892.0</td>\n",
       "      <td>0.0</td>\n",
       "    </tr>\n",
       "    <tr>\n",
       "      <th>3</th>\n",
       "      <td>3</td>\n",
       "      <td>5</td>\n",
       "      <td>5232</td>\n",
       "      <td>Need for Speed Rivals (Classics) [Xbox 360, ру...</td>\n",
       "      <td>23</td>\n",
       "      <td>Игры - XBOX 360</td>\n",
       "      <td>Вологда ТРЦ \"Мармелад\"</td>\n",
       "      <td>0.0</td>\n",
       "      <td>0.0</td>\n",
       "      <td>1160948.5</td>\n",
       "      <td>0.0</td>\n",
       "      <td>0.0</td>\n",
       "    </tr>\n",
       "    <tr>\n",
       "      <th>4</th>\n",
       "      <td>4</td>\n",
       "      <td>5</td>\n",
       "      <td>5268</td>\n",
       "      <td>Need for Speed [PS4, русская версия]</td>\n",
       "      <td>20</td>\n",
       "      <td>Игры - PS4</td>\n",
       "      <td>Вологда ТРЦ \"Мармелад\"</td>\n",
       "      <td>0.0</td>\n",
       "      <td>0.0</td>\n",
       "      <td>0.0</td>\n",
       "      <td>0.0</td>\n",
       "      <td>0.0</td>\n",
       "    </tr>\n",
       "  </tbody>\n",
       "</table>\n",
       "</div>"
      ],
      "text/plain": [
       "   ID  shop_id  item_id                                          item_name  \\\n",
       "0   0        5     5037                     NHL 15 [PS3, русские субтитры]   \n",
       "1   1        5     5320                    ONE DIRECTION  Made In The A.M.   \n",
       "2   2        5     5233  Need for Speed Rivals (Essentials) [PS3, русск...   \n",
       "3   3        5     5232  Need for Speed Rivals (Classics) [Xbox 360, ру...   \n",
       "4   4        5     5268               Need for Speed [PS4, русская версия]   \n",
       "\n",
       "   item_category_id                   item_category_name  \\\n",
       "0                19                           Игры - PS3   \n",
       "1                55  Музыка - CD локального производства   \n",
       "2                19                           Игры - PS3   \n",
       "3                23                      Игры - XBOX 360   \n",
       "4                20                           Игры - PS4   \n",
       "\n",
       "                shop_name  revenue_lag_1  revenue_lag_2  revenue_lag_3  \\\n",
       "0  Вологда ТРЦ \"Мармелад\"            0.0      1171450.0      1160948.5   \n",
       "1  Вологда ТРЦ \"Мармелад\"            0.0            0.0            0.0   \n",
       "2  Вологда ТРЦ \"Мармелад\"      1100220.0      1171450.0      1160948.5   \n",
       "3  Вологда ТРЦ \"Мармелад\"            0.0            0.0      1160948.5   \n",
       "4  Вологда ТРЦ \"Мармелад\"            0.0            0.0            0.0   \n",
       "\n",
       "   revenue_lag_6  revenue_lag_12  \n",
       "0      1036892.0       1750290.0  \n",
       "1            0.0             0.0  \n",
       "2      1036892.0             0.0  \n",
       "3            0.0             0.0  \n",
       "4            0.0             0.0  "
      ]
     },
     "execution_count": 33,
     "metadata": {},
     "output_type": "execute_result"
    }
   ],
   "source": [
    "test_lagged.head()"
   ]
  },
  {
   "cell_type": "markdown",
   "metadata": {},
   "source": [
    "## Add **target (item_cnt_month)** lag features for lags = [1, 2, 3, 6, 12]"
   ]
  },
  {
   "cell_type": "code",
   "execution_count": 34,
   "metadata": {},
   "outputs": [],
   "source": [
    "aggregated_lagged = feature_extr.train_add_lag_features(aggregated_lagged, 'item_cnt_month', on=['item_id', 'shop_id', 'date_block_num'], lags=[1, 2, 3, 6, 12])"
   ]
  },
  {
   "cell_type": "code",
   "execution_count": 35,
   "metadata": {},
   "outputs": [
    {
     "data": {
      "text/html": [
       "<div>\n",
       "<style scoped>\n",
       "    .dataframe tbody tr th:only-of-type {\n",
       "        vertical-align: middle;\n",
       "    }\n",
       "\n",
       "    .dataframe tbody tr th {\n",
       "        vertical-align: top;\n",
       "    }\n",
       "\n",
       "    .dataframe thead th {\n",
       "        text-align: right;\n",
       "    }\n",
       "</style>\n",
       "<table border=\"1\" class=\"dataframe\">\n",
       "  <thead>\n",
       "    <tr style=\"text-align: right;\">\n",
       "      <th></th>\n",
       "      <th>date_block_num</th>\n",
       "      <th>shop_id</th>\n",
       "      <th>item_id</th>\n",
       "      <th>item_cnt_month</th>\n",
       "      <th>item_price</th>\n",
       "      <th>month</th>\n",
       "      <th>year</th>\n",
       "      <th>item_name</th>\n",
       "      <th>item_category_id</th>\n",
       "      <th>item_category_name</th>\n",
       "      <th>...</th>\n",
       "      <th>revenue_lag_1</th>\n",
       "      <th>revenue_lag_2</th>\n",
       "      <th>revenue_lag_3</th>\n",
       "      <th>revenue_lag_6</th>\n",
       "      <th>revenue_lag_12</th>\n",
       "      <th>item_cnt_month_lag_1</th>\n",
       "      <th>item_cnt_month_lag_2</th>\n",
       "      <th>item_cnt_month_lag_3</th>\n",
       "      <th>item_cnt_month_lag_6</th>\n",
       "      <th>item_cnt_month_lag_12</th>\n",
       "    </tr>\n",
       "  </thead>\n",
       "  <tbody>\n",
       "    <tr>\n",
       "      <th>14</th>\n",
       "      <td>20</td>\n",
       "      <td>2</td>\n",
       "      <td>32</td>\n",
       "      <td>2.0</td>\n",
       "      <td>149.0</td>\n",
       "      <td>8</td>\n",
       "      <td>1</td>\n",
       "      <td>1+1</td>\n",
       "      <td>40</td>\n",
       "      <td>Кино - DVD</td>\n",
       "      <td>...</td>\n",
       "      <td>0.0</td>\n",
       "      <td>1102918.5</td>\n",
       "      <td>0.0</td>\n",
       "      <td>1889424.0</td>\n",
       "      <td>0.0</td>\n",
       "      <td>0.0</td>\n",
       "      <td>1.0</td>\n",
       "      <td>0.0</td>\n",
       "      <td>1.0</td>\n",
       "      <td>0.0</td>\n",
       "    </tr>\n",
       "    <tr>\n",
       "      <th>23</th>\n",
       "      <td>20</td>\n",
       "      <td>2</td>\n",
       "      <td>33</td>\n",
       "      <td>1.0</td>\n",
       "      <td>199.0</td>\n",
       "      <td>8</td>\n",
       "      <td>1</td>\n",
       "      <td>1+1 (BD)</td>\n",
       "      <td>37</td>\n",
       "      <td>Кино - Blu-Ray</td>\n",
       "      <td>...</td>\n",
       "      <td>0.0</td>\n",
       "      <td>0.0</td>\n",
       "      <td>0.0</td>\n",
       "      <td>0.0</td>\n",
       "      <td>0.0</td>\n",
       "      <td>0.0</td>\n",
       "      <td>0.0</td>\n",
       "      <td>0.0</td>\n",
       "      <td>0.0</td>\n",
       "      <td>0.0</td>\n",
       "    </tr>\n",
       "    <tr>\n",
       "      <th>71</th>\n",
       "      <td>20</td>\n",
       "      <td>2</td>\n",
       "      <td>482</td>\n",
       "      <td>2.0</td>\n",
       "      <td>3300.0</td>\n",
       "      <td>8</td>\n",
       "      <td>1</td>\n",
       "      <td>1С:Бухгалтерия 8. Базовая версия</td>\n",
       "      <td>73</td>\n",
       "      <td>Программы - 1С:Предприятие 8</td>\n",
       "      <td>...</td>\n",
       "      <td>0.0</td>\n",
       "      <td>1102918.5</td>\n",
       "      <td>0.0</td>\n",
       "      <td>0.0</td>\n",
       "      <td>1321185.0</td>\n",
       "      <td>0.0</td>\n",
       "      <td>1.0</td>\n",
       "      <td>0.0</td>\n",
       "      <td>0.0</td>\n",
       "      <td>2.0</td>\n",
       "    </tr>\n",
       "  </tbody>\n",
       "</table>\n",
       "<p>3 rows × 23 columns</p>\n",
       "</div>"
      ],
      "text/plain": [
       "    date_block_num  shop_id  item_id  item_cnt_month  item_price  month  year  \\\n",
       "14              20        2       32             2.0       149.0      8     1   \n",
       "23              20        2       33             1.0       199.0      8     1   \n",
       "71              20        2      482             2.0      3300.0      8     1   \n",
       "\n",
       "                           item_name  item_category_id  \\\n",
       "14                               1+1                40   \n",
       "23                          1+1 (BD)                37   \n",
       "71  1С:Бухгалтерия 8. Базовая версия                73   \n",
       "\n",
       "              item_category_name  ... revenue_lag_1  revenue_lag_2  \\\n",
       "14                    Кино - DVD  ...           0.0      1102918.5   \n",
       "23                Кино - Blu-Ray  ...           0.0            0.0   \n",
       "71  Программы - 1С:Предприятие 8  ...           0.0      1102918.5   \n",
       "\n",
       "    revenue_lag_3  revenue_lag_6  revenue_lag_12  item_cnt_month_lag_1  \\\n",
       "14            0.0      1889424.0             0.0                   0.0   \n",
       "23            0.0            0.0             0.0                   0.0   \n",
       "71            0.0            0.0       1321185.0                   0.0   \n",
       "\n",
       "    item_cnt_month_lag_2  item_cnt_month_lag_3  item_cnt_month_lag_6  \\\n",
       "14                   1.0                   0.0                   1.0   \n",
       "23                   0.0                   0.0                   0.0   \n",
       "71                   1.0                   0.0                   0.0   \n",
       "\n",
       "    item_cnt_month_lag_12  \n",
       "14                    0.0  \n",
       "23                    0.0  \n",
       "71                    2.0  \n",
       "\n",
       "[3 rows x 23 columns]"
      ]
     },
     "execution_count": 35,
     "metadata": {},
     "output_type": "execute_result"
    }
   ],
   "source": [
    "aggregated_lagged[aggregated_lagged['date_block_num'] == 20].head(3)"
   ]
  },
  {
   "cell_type": "markdown",
   "metadata": {},
   "source": [
    "### Do this for **test** dataframe as well"
   ]
  },
  {
   "cell_type": "code",
   "execution_count": 36,
   "metadata": {},
   "outputs": [],
   "source": [
    "test_lagged = feature_extr.test_add_lag_features(test_lagged, aggregated_train_df, col='item_cnt_month', on=['item_id', 'shop_id'], lags=[1, 2, 3, 6, 12])"
   ]
  },
  {
   "cell_type": "code",
   "execution_count": 38,
   "metadata": {},
   "outputs": [
    {
     "data": {
      "text/html": [
       "<div>\n",
       "<style scoped>\n",
       "    .dataframe tbody tr th:only-of-type {\n",
       "        vertical-align: middle;\n",
       "    }\n",
       "\n",
       "    .dataframe tbody tr th {\n",
       "        vertical-align: top;\n",
       "    }\n",
       "\n",
       "    .dataframe thead th {\n",
       "        text-align: right;\n",
       "    }\n",
       "</style>\n",
       "<table border=\"1\" class=\"dataframe\">\n",
       "  <thead>\n",
       "    <tr style=\"text-align: right;\">\n",
       "      <th></th>\n",
       "      <th>ID</th>\n",
       "      <th>shop_id</th>\n",
       "      <th>item_id</th>\n",
       "      <th>item_name</th>\n",
       "      <th>item_category_id</th>\n",
       "      <th>item_category_name</th>\n",
       "      <th>shop_name</th>\n",
       "      <th>revenue_lag_1</th>\n",
       "      <th>revenue_lag_2</th>\n",
       "      <th>revenue_lag_3</th>\n",
       "      <th>revenue_lag_6</th>\n",
       "      <th>revenue_lag_12</th>\n",
       "      <th>item_cnt_month_lag_1</th>\n",
       "      <th>item_cnt_month_lag_2</th>\n",
       "      <th>item_cnt_month_lag_3</th>\n",
       "      <th>item_cnt_month_lag_6</th>\n",
       "      <th>item_cnt_month_lag_12</th>\n",
       "    </tr>\n",
       "  </thead>\n",
       "  <tbody>\n",
       "    <tr>\n",
       "      <th>0</th>\n",
       "      <td>0</td>\n",
       "      <td>5</td>\n",
       "      <td>5037</td>\n",
       "      <td>NHL 15 [PS3, русские субтитры]</td>\n",
       "      <td>19</td>\n",
       "      <td>Игры - PS3</td>\n",
       "      <td>Вологда ТРЦ \"Мармелад\"</td>\n",
       "      <td>0.0</td>\n",
       "      <td>1171450.0</td>\n",
       "      <td>1160948.5</td>\n",
       "      <td>1036892.0</td>\n",
       "      <td>1750290.0</td>\n",
       "      <td>0.0</td>\n",
       "      <td>1.0</td>\n",
       "      <td>3.0</td>\n",
       "      <td>1.0</td>\n",
       "      <td>1.0</td>\n",
       "    </tr>\n",
       "    <tr>\n",
       "      <th>1</th>\n",
       "      <td>1</td>\n",
       "      <td>5</td>\n",
       "      <td>5320</td>\n",
       "      <td>ONE DIRECTION  Made In The A.M.</td>\n",
       "      <td>55</td>\n",
       "      <td>Музыка - CD локального производства</td>\n",
       "      <td>Вологда ТРЦ \"Мармелад\"</td>\n",
       "      <td>0.0</td>\n",
       "      <td>0.0</td>\n",
       "      <td>0.0</td>\n",
       "      <td>0.0</td>\n",
       "      <td>0.0</td>\n",
       "      <td>0.0</td>\n",
       "      <td>0.0</td>\n",
       "      <td>0.0</td>\n",
       "      <td>0.0</td>\n",
       "      <td>0.0</td>\n",
       "    </tr>\n",
       "    <tr>\n",
       "      <th>2</th>\n",
       "      <td>2</td>\n",
       "      <td>5</td>\n",
       "      <td>5233</td>\n",
       "      <td>Need for Speed Rivals (Essentials) [PS3, русск...</td>\n",
       "      <td>19</td>\n",
       "      <td>Игры - PS3</td>\n",
       "      <td>Вологда ТРЦ \"Мармелад\"</td>\n",
       "      <td>1100220.0</td>\n",
       "      <td>1171450.0</td>\n",
       "      <td>1160948.5</td>\n",
       "      <td>1036892.0</td>\n",
       "      <td>0.0</td>\n",
       "      <td>1.0</td>\n",
       "      <td>3.0</td>\n",
       "      <td>1.0</td>\n",
       "      <td>3.0</td>\n",
       "      <td>0.0</td>\n",
       "    </tr>\n",
       "  </tbody>\n",
       "</table>\n",
       "</div>"
      ],
      "text/plain": [
       "   ID  shop_id  item_id                                          item_name  \\\n",
       "0   0        5     5037                     NHL 15 [PS3, русские субтитры]   \n",
       "1   1        5     5320                    ONE DIRECTION  Made In The A.M.   \n",
       "2   2        5     5233  Need for Speed Rivals (Essentials) [PS3, русск...   \n",
       "\n",
       "   item_category_id                   item_category_name  \\\n",
       "0                19                           Игры - PS3   \n",
       "1                55  Музыка - CD локального производства   \n",
       "2                19                           Игры - PS3   \n",
       "\n",
       "                shop_name  revenue_lag_1  revenue_lag_2  revenue_lag_3  \\\n",
       "0  Вологда ТРЦ \"Мармелад\"            0.0      1171450.0      1160948.5   \n",
       "1  Вологда ТРЦ \"Мармелад\"            0.0            0.0            0.0   \n",
       "2  Вологда ТРЦ \"Мармелад\"      1100220.0      1171450.0      1160948.5   \n",
       "\n",
       "   revenue_lag_6  revenue_lag_12  item_cnt_month_lag_1  item_cnt_month_lag_2  \\\n",
       "0      1036892.0       1750290.0                   0.0                   1.0   \n",
       "1            0.0             0.0                   0.0                   0.0   \n",
       "2      1036892.0             0.0                   1.0                   3.0   \n",
       "\n",
       "   item_cnt_month_lag_3  item_cnt_month_lag_6  item_cnt_month_lag_12  \n",
       "0                   3.0                   1.0                    1.0  \n",
       "1                   0.0                   0.0                    0.0  \n",
       "2                   1.0                   3.0                    0.0  "
      ]
     },
     "execution_count": 38,
     "metadata": {},
     "output_type": "execute_result"
    }
   ],
   "source": [
    "test_lagged.head(3)"
   ]
  },
  {
   "cell_type": "markdown",
   "metadata": {},
   "source": [
    "## Add **month, year** features to **test_lagged** dataframe"
   ]
  },
  {
   "cell_type": "code",
   "execution_count": 39,
   "metadata": {},
   "outputs": [
    {
     "data": {
      "text/html": [
       "<div>\n",
       "<style scoped>\n",
       "    .dataframe tbody tr th:only-of-type {\n",
       "        vertical-align: middle;\n",
       "    }\n",
       "\n",
       "    .dataframe tbody tr th {\n",
       "        vertical-align: top;\n",
       "    }\n",
       "\n",
       "    .dataframe thead th {\n",
       "        text-align: right;\n",
       "    }\n",
       "</style>\n",
       "<table border=\"1\" class=\"dataframe\">\n",
       "  <thead>\n",
       "    <tr style=\"text-align: right;\">\n",
       "      <th></th>\n",
       "      <th>date_block_num</th>\n",
       "      <th>shop_id</th>\n",
       "      <th>item_id</th>\n",
       "      <th>item_cnt_month</th>\n",
       "      <th>item_price</th>\n",
       "      <th>month</th>\n",
       "      <th>year</th>\n",
       "      <th>item_name</th>\n",
       "      <th>item_category_id</th>\n",
       "      <th>item_category_name</th>\n",
       "      <th>...</th>\n",
       "      <th>revenue_lag_1</th>\n",
       "      <th>revenue_lag_2</th>\n",
       "      <th>revenue_lag_3</th>\n",
       "      <th>revenue_lag_6</th>\n",
       "      <th>revenue_lag_12</th>\n",
       "      <th>item_cnt_month_lag_1</th>\n",
       "      <th>item_cnt_month_lag_2</th>\n",
       "      <th>item_cnt_month_lag_3</th>\n",
       "      <th>item_cnt_month_lag_6</th>\n",
       "      <th>item_cnt_month_lag_12</th>\n",
       "    </tr>\n",
       "  </thead>\n",
       "  <tbody>\n",
       "    <tr>\n",
       "      <th>10</th>\n",
       "      <td>33</td>\n",
       "      <td>2</td>\n",
       "      <td>31</td>\n",
       "      <td>1.0</td>\n",
       "      <td>399.0</td>\n",
       "      <td>9</td>\n",
       "      <td>2</td>\n",
       "      <td>007: КООРДИНАТЫ «СКАЙФОЛЛ» (BD)</td>\n",
       "      <td>37</td>\n",
       "      <td>Кино - Blu-Ray</td>\n",
       "      <td>...</td>\n",
       "      <td>0.0</td>\n",
       "      <td>0.0</td>\n",
       "      <td>0.0</td>\n",
       "      <td>0.0</td>\n",
       "      <td>0.0</td>\n",
       "      <td>0.0</td>\n",
       "      <td>0.0</td>\n",
       "      <td>0.0</td>\n",
       "      <td>0.0</td>\n",
       "      <td>0.0</td>\n",
       "    </tr>\n",
       "  </tbody>\n",
       "</table>\n",
       "<p>1 rows × 23 columns</p>\n",
       "</div>"
      ],
      "text/plain": [
       "    date_block_num  shop_id  item_id  item_cnt_month  item_price  month  year  \\\n",
       "10              33        2       31             1.0       399.0      9     2   \n",
       "\n",
       "                          item_name  item_category_id item_category_name  ...  \\\n",
       "10  007: КООРДИНАТЫ «СКАЙФОЛЛ» (BD)                37     Кино - Blu-Ray  ...   \n",
       "\n",
       "   revenue_lag_1  revenue_lag_2  revenue_lag_3  revenue_lag_6  revenue_lag_12  \\\n",
       "10           0.0            0.0            0.0            0.0             0.0   \n",
       "\n",
       "    item_cnt_month_lag_1  item_cnt_month_lag_2  item_cnt_month_lag_3  \\\n",
       "10                   0.0                   0.0                   0.0   \n",
       "\n",
       "    item_cnt_month_lag_6  item_cnt_month_lag_12  \n",
       "10                   0.0                    0.0  \n",
       "\n",
       "[1 rows x 23 columns]"
      ]
     },
     "execution_count": 39,
     "metadata": {},
     "output_type": "execute_result"
    }
   ],
   "source": [
    "aggregated_lagged[aggregated_lagged['date_block_num'] == 33].head(1)"
   ]
  },
  {
   "cell_type": "markdown",
   "metadata": {},
   "source": [
    "### We can see, that the **test** dataset covers the period with **year=2** and **month=10**"
   ]
  },
  {
   "cell_type": "code",
   "execution_count": 40,
   "metadata": {},
   "outputs": [],
   "source": [
    "test_lagged['month'] = 10\n",
    "test_lagged['year'] = 2"
   ]
  },
  {
   "cell_type": "code",
   "execution_count": 41,
   "metadata": {},
   "outputs": [
    {
     "data": {
      "text/plain": [
       "array([ 0,  5,  2,  3,  4,  1,  9,  6,  8, 11,  7, 10], dtype=int32)"
      ]
     },
     "execution_count": 41,
     "metadata": {},
     "output_type": "execute_result"
    }
   ],
   "source": [
    "aggregated_lagged['month'].unique()"
   ]
  },
  {
   "cell_type": "markdown",
   "metadata": {},
   "source": [
    "## Add **\"number of days in the month\"** feature"
   ]
  },
  {
   "cell_type": "code",
   "execution_count": 42,
   "metadata": {},
   "outputs": [],
   "source": [
    "days = pd.Series([31, 28, 31, 30, 31, 30, 31, 31, 30, 31, 30, 31])\n",
    "aggregated_lagged['days'] = aggregated_lagged['month'].map(days)\n",
    "test_lagged['days'] = test_lagged['month'].map(days)"
   ]
  },
  {
   "cell_type": "code",
   "execution_count": 44,
   "metadata": {},
   "outputs": [
    {
     "data": {
      "text/plain": [
       "0"
      ]
     },
     "execution_count": 44,
     "metadata": {},
     "output_type": "execute_result"
    }
   ],
   "source": [
    "aggregated_lagged.isna().sum().sum()"
   ]
  },
  {
   "cell_type": "code",
   "execution_count": 45,
   "metadata": {},
   "outputs": [
    {
     "data": {
      "text/plain": [
       "0"
      ]
     },
     "execution_count": 45,
     "metadata": {},
     "output_type": "execute_result"
    }
   ],
   "source": [
    "test_lagged.isna().sum().sum()"
   ]
  }
 ],
 "metadata": {
  "kernelspec": {
   "display_name": "ml",
   "language": "python",
   "name": "python3"
  },
  "language_info": {
   "codemirror_mode": {
    "name": "ipython",
    "version": 3
   },
   "file_extension": ".py",
   "mimetype": "text/x-python",
   "name": "python",
   "nbconvert_exporter": "python",
   "pygments_lexer": "ipython3",
   "version": "3.11.9"
  }
 },
 "nbformat": 4,
 "nbformat_minor": 2
}
