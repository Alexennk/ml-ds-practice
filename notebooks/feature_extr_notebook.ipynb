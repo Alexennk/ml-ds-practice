{
 "cells": [
  {
   "cell_type": "markdown",
   "metadata": {},
   "source": [
    "# Feature Extraction Layer\n",
    "\n",
    "## **Description:**\n",
    "\n",
    "- Create a simpe feature extraction step\n",
    "- No extensive modeling or feature extraction is required, we need just to ensure our modeling step is trustworthy:\n",
    "    - We don't have any target leakage"
   ]
  },
  {
   "cell_type": "code",
   "execution_count": 1,
   "metadata": {},
   "outputs": [],
   "source": [
    "import numpy as np\n",
    "import pandas as pd\n",
    "\n",
    "import sys\n",
    "sys.path.append('../')\n",
    "from scripts.feature_extr import transform_df_types, FeatureExtractionLayer # feature_extr.py module\n",
    "\n",
    "import warnings\n",
    "warnings.filterwarnings('ignore')"
   ]
  },
  {
   "cell_type": "markdown",
   "metadata": {},
   "source": [
    "## Load and transform train, aggregated train and test datasets"
   ]
  },
  {
   "cell_type": "code",
   "execution_count": 2,
   "metadata": {},
   "outputs": [
    {
     "data": {
      "text/html": [
       "<div>\n",
       "<style scoped>\n",
       "    .dataframe tbody tr th:only-of-type {\n",
       "        vertical-align: middle;\n",
       "    }\n",
       "\n",
       "    .dataframe tbody tr th {\n",
       "        vertical-align: top;\n",
       "    }\n",
       "\n",
       "    .dataframe thead th {\n",
       "        text-align: right;\n",
       "    }\n",
       "</style>\n",
       "<table border=\"1\" class=\"dataframe\">\n",
       "  <thead>\n",
       "    <tr style=\"text-align: right;\">\n",
       "      <th></th>\n",
       "      <th>date_block_num</th>\n",
       "      <th>shop_id</th>\n",
       "      <th>item_id</th>\n",
       "      <th>item_cnt_month</th>\n",
       "      <th>item_price</th>\n",
       "      <th>month</th>\n",
       "      <th>year</th>\n",
       "      <th>item_name</th>\n",
       "      <th>item_category_id</th>\n",
       "      <th>item_category_name</th>\n",
       "      <th>shop_name</th>\n",
       "    </tr>\n",
       "  </thead>\n",
       "  <tbody>\n",
       "    <tr>\n",
       "      <th>0</th>\n",
       "      <td>0</td>\n",
       "      <td>2</td>\n",
       "      <td>27</td>\n",
       "      <td>1</td>\n",
       "      <td>2499.0</td>\n",
       "      <td>0</td>\n",
       "      <td>0</td>\n",
       "      <td>007 Legends [PS3, русская версия]</td>\n",
       "      <td>19</td>\n",
       "      <td>Игры - PS3</td>\n",
       "      <td>Адыгея ТЦ \"Мега\"</td>\n",
       "    </tr>\n",
       "    <tr>\n",
       "      <th>1</th>\n",
       "      <td>0</td>\n",
       "      <td>2</td>\n",
       "      <td>33</td>\n",
       "      <td>1</td>\n",
       "      <td>499.0</td>\n",
       "      <td>0</td>\n",
       "      <td>0</td>\n",
       "      <td>1+1 (BD)</td>\n",
       "      <td>37</td>\n",
       "      <td>Кино - Blu-Ray</td>\n",
       "      <td>Адыгея ТЦ \"Мега\"</td>\n",
       "    </tr>\n",
       "    <tr>\n",
       "      <th>2</th>\n",
       "      <td>0</td>\n",
       "      <td>2</td>\n",
       "      <td>317</td>\n",
       "      <td>1</td>\n",
       "      <td>299.0</td>\n",
       "      <td>0</td>\n",
       "      <td>0</td>\n",
       "      <td>1С:Аудиокниги. Мединский В. Мифы о России. О р...</td>\n",
       "      <td>45</td>\n",
       "      <td>Книги - Аудиокниги 1С</td>\n",
       "      <td>Адыгея ТЦ \"Мега\"</td>\n",
       "    </tr>\n",
       "  </tbody>\n",
       "</table>\n",
       "</div>"
      ],
      "text/plain": [
       "   date_block_num  shop_id  item_id  item_cnt_month  item_price  month  year  \\\n",
       "0               0        2       27               1      2499.0      0     0   \n",
       "1               0        2       33               1       499.0      0     0   \n",
       "2               0        2      317               1       299.0      0     0   \n",
       "\n",
       "                                           item_name  item_category_id  \\\n",
       "0                  007 Legends [PS3, русская версия]                19   \n",
       "1                                           1+1 (BD)                37   \n",
       "2  1С:Аудиокниги. Мединский В. Мифы о России. О р...                45   \n",
       "\n",
       "      item_category_name         shop_name  \n",
       "0             Игры - PS3  Адыгея ТЦ \"Мега\"  \n",
       "1         Кино - Blu-Ray  Адыгея ТЦ \"Мега\"  \n",
       "2  Книги - Аудиокниги 1С  Адыгея ТЦ \"Мега\"  "
      ]
     },
     "execution_count": 2,
     "metadata": {},
     "output_type": "execute_result"
    }
   ],
   "source": [
    "train_df = pd.read_csv('../data/merged_train.csv')\n",
    "aggregated_train_df = pd.read_csv('../data/merged_train_aggregated.csv')\n",
    "test_df = pd.read_csv('../data/merged_test.csv')\n",
    "\n",
    "aggregated_train_df.head(3)"
   ]
  },
  {
   "cell_type": "code",
   "execution_count": 3,
   "metadata": {},
   "outputs": [
    {
     "name": "stdout",
     "output_type": "stream",
     "text": [
      "<class 'pandas.core.frame.DataFrame'>\n",
      "RangeIndex: 2935848 entries, 0 to 2935847\n",
      "Data columns (total 12 columns):\n",
      " #   Column              Dtype         \n",
      "---  ------              -----         \n",
      " 0   date                datetime64[ns]\n",
      " 1   date_block_num      int32         \n",
      " 2   shop_id             int32         \n",
      " 3   item_id             int32         \n",
      " 4   item_price          float32       \n",
      " 5   item_cnt_day        int32         \n",
      " 6   month               int32         \n",
      " 7   year                int32         \n",
      " 8   item_name           category      \n",
      " 9   item_category_id    int32         \n",
      " 10  item_category_name  category      \n",
      " 11  shop_name           category      \n",
      "dtypes: category(3), datetime64[ns](1), float32(1), int32(7)\n",
      "memory usage: 123.9 MB\n"
     ]
    }
   ],
   "source": [
    "train_df['date'] = pd.to_datetime(train_df['date'])\n",
    "\n",
    "int_columns = ['date_block_num', 'shop_id', 'item_id', 'item_cnt_day', 'month', 'year', 'item_category_id']\n",
    "float_columns = ['item_price']\n",
    "object_columns = ['item_name', 'item_category_name', 'shop_name']\n",
    "\n",
    "train_df = transform_df_types(train_df, int_columns, float_columns, object_columns)\n",
    "train_df.info()"
   ]
  },
  {
   "cell_type": "code",
   "execution_count": 4,
   "metadata": {},
   "outputs": [
    {
     "name": "stdout",
     "output_type": "stream",
     "text": [
      "<class 'pandas.core.frame.DataFrame'>\n",
      "RangeIndex: 1608724 entries, 0 to 1608723\n",
      "Data columns (total 11 columns):\n",
      " #   Column              Non-Null Count    Dtype   \n",
      "---  ------              --------------    -----   \n",
      " 0   date_block_num      1608724 non-null  int32   \n",
      " 1   shop_id             1608724 non-null  int32   \n",
      " 2   item_id             1608724 non-null  int32   \n",
      " 3   item_cnt_month      1608724 non-null  float32 \n",
      " 4   item_price          1608724 non-null  float32 \n",
      " 5   month               1608724 non-null  int32   \n",
      " 6   year                1608724 non-null  int32   \n",
      " 7   item_name           1608724 non-null  category\n",
      " 8   item_category_id    1608724 non-null  int32   \n",
      " 9   item_category_name  1608724 non-null  category\n",
      " 10  shop_name           1608724 non-null  category\n",
      "dtypes: category(3), float32(2), int32(6)\n",
      "memory usage: 55.9 MB\n"
     ]
    }
   ],
   "source": [
    "int_columns = ['date_block_num', 'shop_id', 'item_id', 'month', 'year', 'item_category_id']\n",
    "float_columns = ['item_price', 'item_cnt_month']\n",
    "object_columns = ['item_name', 'item_category_name', 'shop_name']\n",
    "\n",
    "aggregated_train_df = transform_df_types(aggregated_train_df, int_columns, float_columns, object_columns)\n",
    "aggregated_train_df.info()"
   ]
  },
  {
   "cell_type": "code",
   "execution_count": 5,
   "metadata": {},
   "outputs": [
    {
     "name": "stdout",
     "output_type": "stream",
     "text": [
      "<class 'pandas.core.frame.DataFrame'>\n",
      "RangeIndex: 214200 entries, 0 to 214199\n",
      "Data columns (total 7 columns):\n",
      " #   Column              Non-Null Count   Dtype   \n",
      "---  ------              --------------   -----   \n",
      " 0   ID                  214200 non-null  int32   \n",
      " 1   shop_id             214200 non-null  int32   \n",
      " 2   item_id             214200 non-null  int32   \n",
      " 3   item_name           214200 non-null  category\n",
      " 4   item_category_id    214200 non-null  int32   \n",
      " 5   item_category_name  214200 non-null  category\n",
      " 6   shop_name           214200 non-null  category\n",
      "dtypes: category(3), int32(4)\n",
      "memory usage: 4.3 MB\n"
     ]
    }
   ],
   "source": [
    "int_columns = ['ID', 'shop_id', 'item_id', 'item_category_id']\n",
    "object_columns = ['item_name', 'item_category_name', 'shop_name']\n",
    "\n",
    "test_df = transform_df_types(test_df, int_columns, object_columns=object_columns)\n",
    "test_df.info()"
   ]
  },
  {
   "cell_type": "markdown",
   "metadata": {},
   "source": [
    "# Feature extraction process\n",
    "\n",
    "### I will use custom **FeatureExtractionLayer** class to create some new features for both train and test datasets. This can be done by simply running **train_transform()** and **test_transform()** methods of this class (they will be tested at the end of the notebook). Now I will perform all the transformations step by step to make everything a little clearer"
   ]
  },
  {
   "cell_type": "code",
   "execution_count": 6,
   "metadata": {},
   "outputs": [],
   "source": [
    "feature_extr = FeatureExtractionLayer()\n",
    "\n",
    "second_train_df = train_df.copy()\n",
    "second_aggregated_train_df = aggregated_train_df.copy()\n",
    "second_test_df = test_df.copy()"
   ]
  },
  {
   "cell_type": "markdown",
   "metadata": {},
   "source": [
    "## Add **\"months since the last sale for each item, shop and date_block_num\"** feature"
   ]
  },
  {
   "cell_type": "code",
   "execution_count": 7,
   "metadata": {},
   "outputs": [
    {
     "name": "stdout",
     "output_type": "stream",
     "text": [
      "<class 'pandas.core.frame.DataFrame'>\n",
      "RangeIndex: 1608724 entries, 0 to 1608723\n",
      "Data columns (total 12 columns):\n",
      " #   Column                  Non-Null Count    Dtype   \n",
      "---  ------                  --------------    -----   \n",
      " 0   date_block_num          1608724 non-null  int32   \n",
      " 1   shop_id                 1608724 non-null  int32   \n",
      " 2   item_id                 1608724 non-null  int32   \n",
      " 3   item_cnt_month          1608724 non-null  float32 \n",
      " 4   item_price              1608724 non-null  float32 \n",
      " 5   month                   1608724 non-null  int32   \n",
      " 6   year                    1608724 non-null  int32   \n",
      " 7   item_name               1608724 non-null  category\n",
      " 8   item_category_id        1608724 non-null  int32   \n",
      " 9   item_category_name      1608724 non-null  category\n",
      " 10  shop_name               1608724 non-null  category\n",
      " 11  months_since_last_sale  1608724 non-null  int32   \n",
      "dtypes: category(3), float32(2), int32(7)\n",
      "memory usage: 62.0 MB\n"
     ]
    }
   ],
   "source": [
    "aggregated_train_df = feature_extr.train_add_months_since_last_sale(aggregated_train_df, load_precalculated=True)\n",
    "aggregated_train_df.info()"
   ]
  },
  {
   "cell_type": "code",
   "execution_count": 8,
   "metadata": {},
   "outputs": [
    {
     "data": {
      "image/png": "[encoded data removed]",
      "text/plain": [
       "<Figure size 700x400 with 1 Axes>"
      ]
     },
     "metadata": {},
     "output_type": "display_data"
    }
   ],
   "source": [
    "aggregated_train_df['months_since_last_sale'].value_counts().plot(kind='bar', figsize=(7, 4), ylabel='Count', xlabel='months_since_last_sale', title='months_since_last_sale histogram');"
   ]
  },
  {
   "cell_type": "markdown",
   "metadata": {},
   "source": [
    "Looks like the **months_since_last_sale** feature was calculated properly"
   ]
  },
  {
   "cell_type": "markdown",
   "metadata": {},
   "source": [
    "### Add **months_since_last_sale** feature to the test dataframe"
   ]
  },
  {
   "cell_type": "code",
   "execution_count": 9,
   "metadata": {},
   "outputs": [
    {
     "name": "stdout",
     "output_type": "stream",
     "text": [
      "<class 'pandas.core.frame.DataFrame'>\n",
      "RangeIndex: 214284 entries, 0 to 214283\n",
      "Data columns (total 8 columns):\n",
      " #   Column                  Non-Null Count   Dtype   \n",
      "---  ------                  --------------   -----   \n",
      " 0   ID                      214284 non-null  int32   \n",
      " 1   shop_id                 214284 non-null  int32   \n",
      " 2   item_id                 214284 non-null  int32   \n",
      " 3   item_name               214284 non-null  category\n",
      " 4   item_category_id        214284 non-null  int32   \n",
      " 5   item_category_name      214284 non-null  category\n",
      " 6   shop_name               214284 non-null  category\n",
      " 7   months_since_last_sale  214284 non-null  int32   \n",
      "dtypes: category(3), int32(5)\n",
      "memory usage: 5.1 MB\n"
     ]
    }
   ],
   "source": [
    "test_df = feature_extr.test_add_months_since_last_sale(aggregated_train_df, test_df, load_precalculated=True)\n",
    "test_df.info()"
   ]
  },
  {
   "cell_type": "markdown",
   "metadata": {},
   "source": [
    "## Add **revenue** lag features"
   ]
  },
  {
   "cell_type": "markdown",
   "metadata": {},
   "source": [
    "### Calculate revenue"
   ]
  },
  {
   "cell_type": "code",
   "execution_count": 10,
   "metadata": {},
   "outputs": [],
   "source": [
    "train_df['revenue'] = train_df['item_price'] * train_df['item_cnt_day']\n",
    "train_aggregated = train_df.groupby(['date_block_num', 'shop_id']).agg({'revenue': 'sum'}).reset_index()\n",
    "\n",
    "aggregated_train_df = aggregated_train_df.merge(train_aggregated, on=['date_block_num', 'shop_id'], how='left')"
   ]
  },
  {
   "cell_type": "code",
   "execution_count": 11,
   "metadata": {},
   "outputs": [
    {
     "data": {
      "text/plain": [
       "0"
      ]
     },
     "execution_count": 11,
     "metadata": {},
     "output_type": "execute_result"
    }
   ],
   "source": [
    "aggregated_train_df.isna().sum().sum()"
   ]
  },
  {
   "cell_type": "markdown",
   "metadata": {},
   "source": [
    "### Add revenue information for each **date_block_num** and **shop_id** for lags = [1, 2, 3, 6, 12]"
   ]
  },
  {
   "cell_type": "code",
   "execution_count": 12,
   "metadata": {},
   "outputs": [],
   "source": [
    "aggregated_lagged = feature_extr.train_add_lag_features(aggregated_train_df, 'revenue', on_columns=['shop_id', 'date_block_num'], operation='mean', lags=[1, 2, 3, 6, 12])"
   ]
  },
  {
   "cell_type": "code",
   "execution_count": 13,
   "metadata": {},
   "outputs": [
    {
     "data": {
      "text/html": [
       "<div>\n",
       "<style scoped>\n",
       "    .dataframe tbody tr th:only-of-type {\n",
       "        vertical-align: middle;\n",
       "    }\n",
       "\n",
       "    .dataframe tbody tr th {\n",
       "        vertical-align: top;\n",
       "    }\n",
       "\n",
       "    .dataframe thead th {\n",
       "        text-align: right;\n",
       "    }\n",
       "</style>\n",
       "<table border=\"1\" class=\"dataframe\">\n",
       "  <thead>\n",
       "    <tr style=\"text-align: right;\">\n",
       "      <th></th>\n",
       "      <th>date_block_num</th>\n",
       "      <th>shop_id</th>\n",
       "      <th>item_id</th>\n",
       "      <th>item_cnt_month</th>\n",
       "      <th>item_price</th>\n",
       "      <th>month</th>\n",
       "      <th>year</th>\n",
       "      <th>item_name</th>\n",
       "      <th>item_category_id</th>\n",
       "      <th>item_category_name</th>\n",
       "      <th>shop_name</th>\n",
       "      <th>months_since_last_sale</th>\n",
       "      <th>revenue</th>\n",
       "      <th>revenue_lag_1</th>\n",
       "      <th>revenue_lag_2</th>\n",
       "      <th>revenue_lag_3</th>\n",
       "      <th>revenue_lag_6</th>\n",
       "      <th>revenue_lag_12</th>\n",
       "    </tr>\n",
       "  </thead>\n",
       "  <tbody>\n",
       "    <tr>\n",
       "      <th>14</th>\n",
       "      <td>20</td>\n",
       "      <td>2</td>\n",
       "      <td>32</td>\n",
       "      <td>2.0</td>\n",
       "      <td>149.0</td>\n",
       "      <td>8</td>\n",
       "      <td>1</td>\n",
       "      <td>1+1</td>\n",
       "      <td>40</td>\n",
       "      <td>Кино - DVD</td>\n",
       "      <td>Адыгея ТЦ \"Мега\"</td>\n",
       "      <td>2</td>\n",
       "      <td>1473540.0</td>\n",
       "      <td>1194669.0</td>\n",
       "      <td>1102918.5</td>\n",
       "      <td>1263924.0</td>\n",
       "      <td>1889424.0</td>\n",
       "      <td>1321185.0</td>\n",
       "    </tr>\n",
       "    <tr>\n",
       "      <th>23</th>\n",
       "      <td>20</td>\n",
       "      <td>2</td>\n",
       "      <td>33</td>\n",
       "      <td>1.0</td>\n",
       "      <td>199.0</td>\n",
       "      <td>8</td>\n",
       "      <td>1</td>\n",
       "      <td>1+1 (BD)</td>\n",
       "      <td>37</td>\n",
       "      <td>Кино - Blu-Ray</td>\n",
       "      <td>Адыгея ТЦ \"Мега\"</td>\n",
       "      <td>8</td>\n",
       "      <td>1473540.0</td>\n",
       "      <td>1194669.0</td>\n",
       "      <td>1102918.5</td>\n",
       "      <td>1263924.0</td>\n",
       "      <td>1889424.0</td>\n",
       "      <td>1321185.0</td>\n",
       "    </tr>\n",
       "    <tr>\n",
       "      <th>71</th>\n",
       "      <td>20</td>\n",
       "      <td>2</td>\n",
       "      <td>482</td>\n",
       "      <td>2.0</td>\n",
       "      <td>3300.0</td>\n",
       "      <td>8</td>\n",
       "      <td>1</td>\n",
       "      <td>1С:Бухгалтерия 8. Базовая версия</td>\n",
       "      <td>73</td>\n",
       "      <td>Программы - 1С:Предприятие 8</td>\n",
       "      <td>Адыгея ТЦ \"Мега\"</td>\n",
       "      <td>2</td>\n",
       "      <td>1473540.0</td>\n",
       "      <td>1194669.0</td>\n",
       "      <td>1102918.5</td>\n",
       "      <td>1263924.0</td>\n",
       "      <td>1889424.0</td>\n",
       "      <td>1321185.0</td>\n",
       "    </tr>\n",
       "  </tbody>\n",
       "</table>\n",
       "</div>"
      ],
      "text/plain": [
       "    date_block_num  shop_id  item_id  item_cnt_month  item_price  month  year  \\\n",
       "14              20        2       32             2.0       149.0      8     1   \n",
       "23              20        2       33             1.0       199.0      8     1   \n",
       "71              20        2      482             2.0      3300.0      8     1   \n",
       "\n",
       "                           item_name  item_category_id  \\\n",
       "14                               1+1                40   \n",
       "23                          1+1 (BD)                37   \n",
       "71  1С:Бухгалтерия 8. Базовая версия                73   \n",
       "\n",
       "              item_category_name         shop_name  months_since_last_sale  \\\n",
       "14                    Кино - DVD  Адыгея ТЦ \"Мега\"                       2   \n",
       "23                Кино - Blu-Ray  Адыгея ТЦ \"Мега\"                       8   \n",
       "71  Программы - 1С:Предприятие 8  Адыгея ТЦ \"Мега\"                       2   \n",
       "\n",
       "      revenue  revenue_lag_1  revenue_lag_2  revenue_lag_3  revenue_lag_6  \\\n",
       "14  1473540.0      1194669.0      1102918.5      1263924.0      1889424.0   \n",
       "23  1473540.0      1194669.0      1102918.5      1263924.0      1889424.0   \n",
       "71  1473540.0      1194669.0      1102918.5      1263924.0      1889424.0   \n",
       "\n",
       "    revenue_lag_12  \n",
       "14       1321185.0  \n",
       "23       1321185.0  \n",
       "71       1321185.0  "
      ]
     },
     "execution_count": 13,
     "metadata": {},
     "output_type": "execute_result"
    }
   ],
   "source": [
    "aggregated_lagged[aggregated_lagged['date_block_num'] == 20].head(3)"
   ]
  },
  {
   "cell_type": "markdown",
   "metadata": {},
   "source": [
    "### Do this for the **test** dataframe as well"
   ]
  },
  {
   "cell_type": "code",
   "execution_count": 14,
   "metadata": {},
   "outputs": [],
   "source": [
    "test_lagged = feature_extr.test_add_lag_features(test_df, aggregated_train_df, col='revenue', on_columns=['shop_id'], lags=[1, 2, 3, 6, 12])"
   ]
  },
  {
   "cell_type": "code",
   "execution_count": 15,
   "metadata": {},
   "outputs": [
    {
     "data": {
      "text/html": [
       "<div>\n",
       "<style scoped>\n",
       "    .dataframe tbody tr th:only-of-type {\n",
       "        vertical-align: middle;\n",
       "    }\n",
       "\n",
       "    .dataframe tbody tr th {\n",
       "        vertical-align: top;\n",
       "    }\n",
       "\n",
       "    .dataframe thead th {\n",
       "        text-align: right;\n",
       "    }\n",
       "</style>\n",
       "<table border=\"1\" class=\"dataframe\">\n",
       "  <thead>\n",
       "    <tr style=\"text-align: right;\">\n",
       "      <th></th>\n",
       "      <th>ID</th>\n",
       "      <th>shop_id</th>\n",
       "      <th>item_id</th>\n",
       "      <th>item_name</th>\n",
       "      <th>item_category_id</th>\n",
       "      <th>item_category_name</th>\n",
       "      <th>shop_name</th>\n",
       "      <th>months_since_last_sale</th>\n",
       "      <th>revenue_lag_1</th>\n",
       "      <th>revenue_lag_2</th>\n",
       "      <th>revenue_lag_3</th>\n",
       "      <th>revenue_lag_6</th>\n",
       "      <th>revenue_lag_12</th>\n",
       "    </tr>\n",
       "  </thead>\n",
       "  <tbody>\n",
       "    <tr>\n",
       "      <th>0</th>\n",
       "      <td>0</td>\n",
       "      <td>5</td>\n",
       "      <td>5037</td>\n",
       "      <td>NHL 15 [PS3, русские субтитры]</td>\n",
       "      <td>19</td>\n",
       "      <td>Игры - PS3</td>\n",
       "      <td>Вологда ТРЦ \"Мармелад\"</td>\n",
       "      <td>2</td>\n",
       "      <td>1100220.0</td>\n",
       "      <td>1171450.0</td>\n",
       "      <td>1160948.5</td>\n",
       "      <td>1036892.0</td>\n",
       "      <td>1750290.0</td>\n",
       "    </tr>\n",
       "    <tr>\n",
       "      <th>1</th>\n",
       "      <td>1</td>\n",
       "      <td>5</td>\n",
       "      <td>5320</td>\n",
       "      <td>ONE DIRECTION  Made In The A.M.</td>\n",
       "      <td>55</td>\n",
       "      <td>Музыка - CD локального производства</td>\n",
       "      <td>Вологда ТРЦ \"Мармелад\"</td>\n",
       "      <td>-1</td>\n",
       "      <td>1100220.0</td>\n",
       "      <td>1171450.0</td>\n",
       "      <td>1160948.5</td>\n",
       "      <td>1036892.0</td>\n",
       "      <td>1750290.0</td>\n",
       "    </tr>\n",
       "    <tr>\n",
       "      <th>2</th>\n",
       "      <td>2</td>\n",
       "      <td>5</td>\n",
       "      <td>5233</td>\n",
       "      <td>Need for Speed Rivals (Essentials) [PS3, русск...</td>\n",
       "      <td>19</td>\n",
       "      <td>Игры - PS3</td>\n",
       "      <td>Вологда ТРЦ \"Мармелад\"</td>\n",
       "      <td>1</td>\n",
       "      <td>1100220.0</td>\n",
       "      <td>1171450.0</td>\n",
       "      <td>1160948.5</td>\n",
       "      <td>1036892.0</td>\n",
       "      <td>1750290.0</td>\n",
       "    </tr>\n",
       "  </tbody>\n",
       "</table>\n",
       "</div>"
      ],
      "text/plain": [
       "   ID  shop_id  item_id                                          item_name  \\\n",
       "0   0        5     5037                     NHL 15 [PS3, русские субтитры]   \n",
       "1   1        5     5320                    ONE DIRECTION  Made In The A.M.   \n",
       "2   2        5     5233  Need for Speed Rivals (Essentials) [PS3, русск...   \n",
       "\n",
       "   item_category_id                   item_category_name  \\\n",
       "0                19                           Игры - PS3   \n",
       "1                55  Музыка - CD локального производства   \n",
       "2                19                           Игры - PS3   \n",
       "\n",
       "                shop_name  months_since_last_sale  revenue_lag_1  \\\n",
       "0  Вологда ТРЦ \"Мармелад\"                       2      1100220.0   \n",
       "1  Вологда ТРЦ \"Мармелад\"                      -1      1100220.0   \n",
       "2  Вологда ТРЦ \"Мармелад\"                       1      1100220.0   \n",
       "\n",
       "   revenue_lag_2  revenue_lag_3  revenue_lag_6  revenue_lag_12  \n",
       "0      1171450.0      1160948.5      1036892.0       1750290.0  \n",
       "1      1171450.0      1160948.5      1036892.0       1750290.0  \n",
       "2      1171450.0      1160948.5      1036892.0       1750290.0  "
      ]
     },
     "execution_count": 15,
     "metadata": {},
     "output_type": "execute_result"
    }
   ],
   "source": [
    "test_lagged.head(3)"
   ]
  },
  {
   "cell_type": "markdown",
   "metadata": {},
   "source": [
    "## Clip **item_cnt_month** feature into [0, 20] range"
   ]
  },
  {
   "cell_type": "markdown",
   "metadata": {},
   "source": [
    "It is said in the kaggle competition overview, that *true target values of the test dataset are clipped into [0, 20] range*. So clipping will help to make the train target similar to the test predictions"
   ]
  },
  {
   "cell_type": "code",
   "execution_count": 16,
   "metadata": {},
   "outputs": [],
   "source": [
    "aggregated_lagged['item_cnt_month'] = aggregated_lagged['item_cnt_month'].clip(0, 20)"
   ]
  },
  {
   "cell_type": "code",
   "execution_count": 17,
   "metadata": {},
   "outputs": [
    {
     "data": {
      "image/png": "[encoded data removed]",
      "text/plain": [
       "<Figure size 700x400 with 1 Axes>"
      ]
     },
     "metadata": {},
     "output_type": "display_data"
    }
   ],
   "source": [
    "aggregated_lagged['item_cnt_month'].plot(kind='hist', bins=20, xlabel='item_cnt_month', ylabel='num_of_occurances', title='Distribution of item_cnt_month after clipping', figsize=(7, 4));"
   ]
  },
  {
   "cell_type": "code",
   "execution_count": 18,
   "metadata": {},
   "outputs": [
    {
     "name": "stdout",
     "output_type": "stream",
     "text": [
      "Rows with item_cnt_month == 20: 0.777 %\n"
     ]
    }
   ],
   "source": [
    "print(f\"Rows with item_cnt_month == 20: {round(len(aggregated_lagged[aggregated_lagged['item_cnt_month'] == 20]) / len(aggregated_lagged) * 100, 3)} %\")"
   ]
  },
  {
   "cell_type": "markdown",
   "metadata": {},
   "source": [
    "## Add **target (item_cnt_month)** lag features for lags = [1, 2, 3, 6, 12]"
   ]
  },
  {
   "cell_type": "code",
   "execution_count": 19,
   "metadata": {},
   "outputs": [],
   "source": [
    "aggregated_lagged = feature_extr.train_add_lag_features(aggregated_lagged, 'item_cnt_month', on_columns=['item_id', 'shop_id', 'date_block_num'], lags=[1, 2, 3, 6, 12])"
   ]
  },
  {
   "cell_type": "code",
   "execution_count": 20,
   "metadata": {},
   "outputs": [
    {
     "data": {
      "text/html": [
       "<div>\n",
       "<style scoped>\n",
       "    .dataframe tbody tr th:only-of-type {\n",
       "        vertical-align: middle;\n",
       "    }\n",
       "\n",
       "    .dataframe tbody tr th {\n",
       "        vertical-align: top;\n",
       "    }\n",
       "\n",
       "    .dataframe thead th {\n",
       "        text-align: right;\n",
       "    }\n",
       "</style>\n",
       "<table border=\"1\" class=\"dataframe\">\n",
       "  <thead>\n",
       "    <tr style=\"text-align: right;\">\n",
       "      <th></th>\n",
       "      <th>date_block_num</th>\n",
       "      <th>shop_id</th>\n",
       "      <th>item_id</th>\n",
       "      <th>item_cnt_month</th>\n",
       "      <th>item_price</th>\n",
       "      <th>month</th>\n",
       "      <th>year</th>\n",
       "      <th>item_name</th>\n",
       "      <th>item_category_id</th>\n",
       "      <th>item_category_name</th>\n",
       "      <th>...</th>\n",
       "      <th>revenue_lag_1</th>\n",
       "      <th>revenue_lag_2</th>\n",
       "      <th>revenue_lag_3</th>\n",
       "      <th>revenue_lag_6</th>\n",
       "      <th>revenue_lag_12</th>\n",
       "      <th>item_cnt_month_lag_1</th>\n",
       "      <th>item_cnt_month_lag_2</th>\n",
       "      <th>item_cnt_month_lag_3</th>\n",
       "      <th>item_cnt_month_lag_6</th>\n",
       "      <th>item_cnt_month_lag_12</th>\n",
       "    </tr>\n",
       "  </thead>\n",
       "  <tbody>\n",
       "    <tr>\n",
       "      <th>14</th>\n",
       "      <td>20</td>\n",
       "      <td>2</td>\n",
       "      <td>32</td>\n",
       "      <td>2.0</td>\n",
       "      <td>149.0</td>\n",
       "      <td>8</td>\n",
       "      <td>1</td>\n",
       "      <td>1+1</td>\n",
       "      <td>40</td>\n",
       "      <td>Кино - DVD</td>\n",
       "      <td>...</td>\n",
       "      <td>1194669.0</td>\n",
       "      <td>1102918.5</td>\n",
       "      <td>1263924.0</td>\n",
       "      <td>1889424.0</td>\n",
       "      <td>1321185.0</td>\n",
       "      <td>0.0</td>\n",
       "      <td>1.0</td>\n",
       "      <td>0.0</td>\n",
       "      <td>1.0</td>\n",
       "      <td>0.0</td>\n",
       "    </tr>\n",
       "    <tr>\n",
       "      <th>23</th>\n",
       "      <td>20</td>\n",
       "      <td>2</td>\n",
       "      <td>33</td>\n",
       "      <td>1.0</td>\n",
       "      <td>199.0</td>\n",
       "      <td>8</td>\n",
       "      <td>1</td>\n",
       "      <td>1+1 (BD)</td>\n",
       "      <td>37</td>\n",
       "      <td>Кино - Blu-Ray</td>\n",
       "      <td>...</td>\n",
       "      <td>1194669.0</td>\n",
       "      <td>1102918.5</td>\n",
       "      <td>1263924.0</td>\n",
       "      <td>1889424.0</td>\n",
       "      <td>1321185.0</td>\n",
       "      <td>0.0</td>\n",
       "      <td>0.0</td>\n",
       "      <td>0.0</td>\n",
       "      <td>0.0</td>\n",
       "      <td>0.0</td>\n",
       "    </tr>\n",
       "    <tr>\n",
       "      <th>71</th>\n",
       "      <td>20</td>\n",
       "      <td>2</td>\n",
       "      <td>482</td>\n",
       "      <td>2.0</td>\n",
       "      <td>3300.0</td>\n",
       "      <td>8</td>\n",
       "      <td>1</td>\n",
       "      <td>1С:Бухгалтерия 8. Базовая версия</td>\n",
       "      <td>73</td>\n",
       "      <td>Программы - 1С:Предприятие 8</td>\n",
       "      <td>...</td>\n",
       "      <td>1194669.0</td>\n",
       "      <td>1102918.5</td>\n",
       "      <td>1263924.0</td>\n",
       "      <td>1889424.0</td>\n",
       "      <td>1321185.0</td>\n",
       "      <td>0.0</td>\n",
       "      <td>1.0</td>\n",
       "      <td>0.0</td>\n",
       "      <td>0.0</td>\n",
       "      <td>2.0</td>\n",
       "    </tr>\n",
       "  </tbody>\n",
       "</table>\n",
       "<p>3 rows × 23 columns</p>\n",
       "</div>"
      ],
      "text/plain": [
       "    date_block_num  shop_id  item_id  item_cnt_month  item_price  month  year  \\\n",
       "14              20        2       32             2.0       149.0      8     1   \n",
       "23              20        2       33             1.0       199.0      8     1   \n",
       "71              20        2      482             2.0      3300.0      8     1   \n",
       "\n",
       "                           item_name  item_category_id  \\\n",
       "14                               1+1                40   \n",
       "23                          1+1 (BD)                37   \n",
       "71  1С:Бухгалтерия 8. Базовая версия                73   \n",
       "\n",
       "              item_category_name  ... revenue_lag_1  revenue_lag_2  \\\n",
       "14                    Кино - DVD  ...     1194669.0      1102918.5   \n",
       "23                Кино - Blu-Ray  ...     1194669.0      1102918.5   \n",
       "71  Программы - 1С:Предприятие 8  ...     1194669.0      1102918.5   \n",
       "\n",
       "    revenue_lag_3  revenue_lag_6  revenue_lag_12  item_cnt_month_lag_1  \\\n",
       "14      1263924.0      1889424.0       1321185.0                   0.0   \n",
       "23      1263924.0      1889424.0       1321185.0                   0.0   \n",
       "71      1263924.0      1889424.0       1321185.0                   0.0   \n",
       "\n",
       "    item_cnt_month_lag_2  item_cnt_month_lag_3  item_cnt_month_lag_6  \\\n",
       "14                   1.0                   0.0                   1.0   \n",
       "23                   0.0                   0.0                   0.0   \n",
       "71                   1.0                   0.0                   0.0   \n",
       "\n",
       "    item_cnt_month_lag_12  \n",
       "14                    0.0  \n",
       "23                    0.0  \n",
       "71                    2.0  \n",
       "\n",
       "[3 rows x 23 columns]"
      ]
     },
     "execution_count": 20,
     "metadata": {},
     "output_type": "execute_result"
    }
   ],
   "source": [
    "aggregated_lagged[aggregated_lagged['date_block_num'] == 20].head(3)"
   ]
  },
  {
   "cell_type": "markdown",
   "metadata": {},
   "source": [
    "### Do this for the **test** dataframe as well"
   ]
  },
  {
   "cell_type": "code",
   "execution_count": 21,
   "metadata": {},
   "outputs": [],
   "source": [
    "test_lagged = feature_extr.test_add_lag_features(test_lagged, aggregated_lagged, col='item_cnt_month', on_columns=['item_id', 'shop_id'], lags=[1, 2, 3, 6, 12])"
   ]
  },
  {
   "cell_type": "code",
   "execution_count": 22,
   "metadata": {},
   "outputs": [
    {
     "data": {
      "text/html": [
       "<div>\n",
       "<style scoped>\n",
       "    .dataframe tbody tr th:only-of-type {\n",
       "        vertical-align: middle;\n",
       "    }\n",
       "\n",
       "    .dataframe tbody tr th {\n",
       "        vertical-align: top;\n",
       "    }\n",
       "\n",
       "    .dataframe thead th {\n",
       "        text-align: right;\n",
       "    }\n",
       "</style>\n",
       "<table border=\"1\" class=\"dataframe\">\n",
       "  <thead>\n",
       "    <tr style=\"text-align: right;\">\n",
       "      <th></th>\n",
       "      <th>ID</th>\n",
       "      <th>shop_id</th>\n",
       "      <th>item_id</th>\n",
       "      <th>item_name</th>\n",
       "      <th>item_category_id</th>\n",
       "      <th>item_category_name</th>\n",
       "      <th>shop_name</th>\n",
       "      <th>months_since_last_sale</th>\n",
       "      <th>revenue_lag_1</th>\n",
       "      <th>revenue_lag_2</th>\n",
       "      <th>revenue_lag_3</th>\n",
       "      <th>revenue_lag_6</th>\n",
       "      <th>revenue_lag_12</th>\n",
       "      <th>item_cnt_month_lag_1</th>\n",
       "      <th>item_cnt_month_lag_2</th>\n",
       "      <th>item_cnt_month_lag_3</th>\n",
       "      <th>item_cnt_month_lag_6</th>\n",
       "      <th>item_cnt_month_lag_12</th>\n",
       "    </tr>\n",
       "  </thead>\n",
       "  <tbody>\n",
       "    <tr>\n",
       "      <th>0</th>\n",
       "      <td>0</td>\n",
       "      <td>5</td>\n",
       "      <td>5037</td>\n",
       "      <td>NHL 15 [PS3, русские субтитры]</td>\n",
       "      <td>19</td>\n",
       "      <td>Игры - PS3</td>\n",
       "      <td>Вологда ТРЦ \"Мармелад\"</td>\n",
       "      <td>2</td>\n",
       "      <td>1100220.0</td>\n",
       "      <td>1171450.0</td>\n",
       "      <td>1160948.5</td>\n",
       "      <td>1036892.0</td>\n",
       "      <td>1750290.0</td>\n",
       "      <td>0.0</td>\n",
       "      <td>1.0</td>\n",
       "      <td>3.0</td>\n",
       "      <td>1.0</td>\n",
       "      <td>1.0</td>\n",
       "    </tr>\n",
       "    <tr>\n",
       "      <th>1</th>\n",
       "      <td>1</td>\n",
       "      <td>5</td>\n",
       "      <td>5320</td>\n",
       "      <td>ONE DIRECTION  Made In The A.M.</td>\n",
       "      <td>55</td>\n",
       "      <td>Музыка - CD локального производства</td>\n",
       "      <td>Вологда ТРЦ \"Мармелад\"</td>\n",
       "      <td>-1</td>\n",
       "      <td>1100220.0</td>\n",
       "      <td>1171450.0</td>\n",
       "      <td>1160948.5</td>\n",
       "      <td>1036892.0</td>\n",
       "      <td>1750290.0</td>\n",
       "      <td>0.0</td>\n",
       "      <td>0.0</td>\n",
       "      <td>0.0</td>\n",
       "      <td>0.0</td>\n",
       "      <td>0.0</td>\n",
       "    </tr>\n",
       "    <tr>\n",
       "      <th>2</th>\n",
       "      <td>2</td>\n",
       "      <td>5</td>\n",
       "      <td>5233</td>\n",
       "      <td>Need for Speed Rivals (Essentials) [PS3, русск...</td>\n",
       "      <td>19</td>\n",
       "      <td>Игры - PS3</td>\n",
       "      <td>Вологда ТРЦ \"Мармелад\"</td>\n",
       "      <td>1</td>\n",
       "      <td>1100220.0</td>\n",
       "      <td>1171450.0</td>\n",
       "      <td>1160948.5</td>\n",
       "      <td>1036892.0</td>\n",
       "      <td>1750290.0</td>\n",
       "      <td>1.0</td>\n",
       "      <td>3.0</td>\n",
       "      <td>1.0</td>\n",
       "      <td>3.0</td>\n",
       "      <td>0.0</td>\n",
       "    </tr>\n",
       "  </tbody>\n",
       "</table>\n",
       "</div>"
      ],
      "text/plain": [
       "   ID  shop_id  item_id                                          item_name  \\\n",
       "0   0        5     5037                     NHL 15 [PS3, русские субтитры]   \n",
       "1   1        5     5320                    ONE DIRECTION  Made In The A.M.   \n",
       "2   2        5     5233  Need for Speed Rivals (Essentials) [PS3, русск...   \n",
       "\n",
       "   item_category_id                   item_category_name  \\\n",
       "0                19                           Игры - PS3   \n",
       "1                55  Музыка - CD локального производства   \n",
       "2                19                           Игры - PS3   \n",
       "\n",
       "                shop_name  months_since_last_sale  revenue_lag_1  \\\n",
       "0  Вологда ТРЦ \"Мармелад\"                       2      1100220.0   \n",
       "1  Вологда ТРЦ \"Мармелад\"                      -1      1100220.0   \n",
       "2  Вологда ТРЦ \"Мармелад\"                       1      1100220.0   \n",
       "\n",
       "   revenue_lag_2  revenue_lag_3  revenue_lag_6  revenue_lag_12  \\\n",
       "0      1171450.0      1160948.5      1036892.0       1750290.0   \n",
       "1      1171450.0      1160948.5      1036892.0       1750290.0   \n",
       "2      1171450.0      1160948.5      1036892.0       1750290.0   \n",
       "\n",
       "   item_cnt_month_lag_1  item_cnt_month_lag_2  item_cnt_month_lag_3  \\\n",
       "0                   0.0                   1.0                   3.0   \n",
       "1                   0.0                   0.0                   0.0   \n",
       "2                   1.0                   3.0                   1.0   \n",
       "\n",
       "   item_cnt_month_lag_6  item_cnt_month_lag_12  \n",
       "0                   1.0                    1.0  \n",
       "1                   0.0                    0.0  \n",
       "2                   3.0                    0.0  "
      ]
     },
     "execution_count": 22,
     "metadata": {},
     "output_type": "execute_result"
    }
   ],
   "source": [
    "test_lagged.head(3)"
   ]
  },
  {
   "cell_type": "markdown",
   "metadata": {},
   "source": [
    "## Add average **target (item_cnt_month)** lag features by category for lags = [1, 2, 3]"
   ]
  },
  {
   "cell_type": "code",
   "execution_count": 23,
   "metadata": {},
   "outputs": [],
   "source": [
    "aggregated_lagged = feature_extr.train_add_lag_features(aggregated_lagged, 'item_cnt_month', add_name='_cat_', on_columns=['item_category_id', 'date_block_num'], lags=[1, 2, 3])"
   ]
  },
  {
   "cell_type": "code",
   "execution_count": 24,
   "metadata": {},
   "outputs": [],
   "source": [
    "test_lagged = feature_extr.test_add_lag_features(test_lagged, aggregated_lagged, col='item_cnt_month', add_name='_cat_', on_columns=['item_category_id'], lags=[1, 2, 3])"
   ]
  },
  {
   "cell_type": "code",
   "execution_count": 25,
   "metadata": {},
   "outputs": [
    {
     "data": {
      "text/html": [
       "<div>\n",
       "<style scoped>\n",
       "    .dataframe tbody tr th:only-of-type {\n",
       "        vertical-align: middle;\n",
       "    }\n",
       "\n",
       "    .dataframe tbody tr th {\n",
       "        vertical-align: top;\n",
       "    }\n",
       "\n",
       "    .dataframe thead th {\n",
       "        text-align: right;\n",
       "    }\n",
       "</style>\n",
       "<table border=\"1\" class=\"dataframe\">\n",
       "  <thead>\n",
       "    <tr style=\"text-align: right;\">\n",
       "      <th></th>\n",
       "      <th>ID</th>\n",
       "      <th>shop_id</th>\n",
       "      <th>item_id</th>\n",
       "      <th>item_name</th>\n",
       "      <th>item_category_id</th>\n",
       "      <th>item_category_name</th>\n",
       "      <th>shop_name</th>\n",
       "      <th>months_since_last_sale</th>\n",
       "      <th>revenue_lag_1</th>\n",
       "      <th>revenue_lag_2</th>\n",
       "      <th>...</th>\n",
       "      <th>revenue_lag_6</th>\n",
       "      <th>revenue_lag_12</th>\n",
       "      <th>item_cnt_month_lag_1</th>\n",
       "      <th>item_cnt_month_lag_2</th>\n",
       "      <th>item_cnt_month_lag_3</th>\n",
       "      <th>item_cnt_month_lag_6</th>\n",
       "      <th>item_cnt_month_lag_12</th>\n",
       "      <th>item_cnt_month_cat__lag_1</th>\n",
       "      <th>item_cnt_month_cat__lag_2</th>\n",
       "      <th>item_cnt_month_cat__lag_3</th>\n",
       "    </tr>\n",
       "  </thead>\n",
       "  <tbody>\n",
       "    <tr>\n",
       "      <th>0</th>\n",
       "      <td>0</td>\n",
       "      <td>5</td>\n",
       "      <td>5037</td>\n",
       "      <td>NHL 15 [PS3, русские субтитры]</td>\n",
       "      <td>19</td>\n",
       "      <td>Игры - PS3</td>\n",
       "      <td>Вологда ТРЦ \"Мармелад\"</td>\n",
       "      <td>2</td>\n",
       "      <td>1100220.0</td>\n",
       "      <td>1171450.0</td>\n",
       "      <td>...</td>\n",
       "      <td>1036892.0</td>\n",
       "      <td>1750290.0</td>\n",
       "      <td>0.0</td>\n",
       "      <td>1.0</td>\n",
       "      <td>3.0</td>\n",
       "      <td>1.0</td>\n",
       "      <td>1.0</td>\n",
       "      <td>1.647497</td>\n",
       "      <td>2.237653</td>\n",
       "      <td>2.347760</td>\n",
       "    </tr>\n",
       "    <tr>\n",
       "      <th>1</th>\n",
       "      <td>1</td>\n",
       "      <td>5</td>\n",
       "      <td>5320</td>\n",
       "      <td>ONE DIRECTION  Made In The A.M.</td>\n",
       "      <td>55</td>\n",
       "      <td>Музыка - CD локального производства</td>\n",
       "      <td>Вологда ТРЦ \"Мармелад\"</td>\n",
       "      <td>-1</td>\n",
       "      <td>1100220.0</td>\n",
       "      <td>1171450.0</td>\n",
       "      <td>...</td>\n",
       "      <td>1036892.0</td>\n",
       "      <td>1750290.0</td>\n",
       "      <td>0.0</td>\n",
       "      <td>0.0</td>\n",
       "      <td>0.0</td>\n",
       "      <td>0.0</td>\n",
       "      <td>0.0</td>\n",
       "      <td>1.349535</td>\n",
       "      <td>1.247020</td>\n",
       "      <td>1.283461</td>\n",
       "    </tr>\n",
       "    <tr>\n",
       "      <th>2</th>\n",
       "      <td>2</td>\n",
       "      <td>5</td>\n",
       "      <td>5233</td>\n",
       "      <td>Need for Speed Rivals (Essentials) [PS3, русск...</td>\n",
       "      <td>19</td>\n",
       "      <td>Игры - PS3</td>\n",
       "      <td>Вологда ТРЦ \"Мармелад\"</td>\n",
       "      <td>1</td>\n",
       "      <td>1100220.0</td>\n",
       "      <td>1171450.0</td>\n",
       "      <td>...</td>\n",
       "      <td>1036892.0</td>\n",
       "      <td>1750290.0</td>\n",
       "      <td>1.0</td>\n",
       "      <td>3.0</td>\n",
       "      <td>1.0</td>\n",
       "      <td>3.0</td>\n",
       "      <td>0.0</td>\n",
       "      <td>1.647497</td>\n",
       "      <td>2.237653</td>\n",
       "      <td>2.347760</td>\n",
       "    </tr>\n",
       "  </tbody>\n",
       "</table>\n",
       "<p>3 rows × 21 columns</p>\n",
       "</div>"
      ],
      "text/plain": [
       "   ID  shop_id  item_id                                          item_name  \\\n",
       "0   0        5     5037                     NHL 15 [PS3, русские субтитры]   \n",
       "1   1        5     5320                    ONE DIRECTION  Made In The A.M.   \n",
       "2   2        5     5233  Need for Speed Rivals (Essentials) [PS3, русск...   \n",
       "\n",
       "   item_category_id                   item_category_name  \\\n",
       "0                19                           Игры - PS3   \n",
       "1                55  Музыка - CD локального производства   \n",
       "2                19                           Игры - PS3   \n",
       "\n",
       "                shop_name  months_since_last_sale  revenue_lag_1  \\\n",
       "0  Вологда ТРЦ \"Мармелад\"                       2      1100220.0   \n",
       "1  Вологда ТРЦ \"Мармелад\"                      -1      1100220.0   \n",
       "2  Вологда ТРЦ \"Мармелад\"                       1      1100220.0   \n",
       "\n",
       "   revenue_lag_2  ...  revenue_lag_6  revenue_lag_12  item_cnt_month_lag_1  \\\n",
       "0      1171450.0  ...      1036892.0       1750290.0                   0.0   \n",
       "1      1171450.0  ...      1036892.0       1750290.0                   0.0   \n",
       "2      1171450.0  ...      1036892.0       1750290.0                   1.0   \n",
       "\n",
       "   item_cnt_month_lag_2  item_cnt_month_lag_3  item_cnt_month_lag_6  \\\n",
       "0                   1.0                   3.0                   1.0   \n",
       "1                   0.0                   0.0                   0.0   \n",
       "2                   3.0                   1.0                   3.0   \n",
       "\n",
       "   item_cnt_month_lag_12  item_cnt_month_cat__lag_1  \\\n",
       "0                    1.0                   1.647497   \n",
       "1                    0.0                   1.349535   \n",
       "2                    0.0                   1.647497   \n",
       "\n",
       "   item_cnt_month_cat__lag_2  item_cnt_month_cat__lag_3  \n",
       "0                   2.237653                   2.347760  \n",
       "1                   1.247020                   1.283461  \n",
       "2                   2.237653                   2.347760  \n",
       "\n",
       "[3 rows x 21 columns]"
      ]
     },
     "execution_count": 25,
     "metadata": {},
     "output_type": "execute_result"
    }
   ],
   "source": [
    "test_lagged.head(3)"
   ]
  },
  {
   "cell_type": "markdown",
   "metadata": {},
   "source": [
    "## Add average **target (item_cnt_month)** lag features by category and shop for lags = [1, 2, 3]"
   ]
  },
  {
   "cell_type": "code",
   "execution_count": 26,
   "metadata": {},
   "outputs": [],
   "source": [
    "aggregated_lagged = feature_extr.train_add_lag_features(aggregated_lagged, 'item_cnt_month', add_name='_cat_shop_', on_columns=['item_category_id', 'shop_id', 'date_block_num'], lags=[1, 2, 3])"
   ]
  },
  {
   "cell_type": "code",
   "execution_count": 27,
   "metadata": {},
   "outputs": [],
   "source": [
    "test_lagged = feature_extr.test_add_lag_features(test_lagged, aggregated_lagged, col='item_cnt_month', add_name='_cat_shop_', on_columns=['item_category_id', 'shop_id'], lags=[1, 2, 3])"
   ]
  },
  {
   "cell_type": "code",
   "execution_count": 28,
   "metadata": {},
   "outputs": [
    {
     "data": {
      "text/html": [
       "<div>\n",
       "<style scoped>\n",
       "    .dataframe tbody tr th:only-of-type {\n",
       "        vertical-align: middle;\n",
       "    }\n",
       "\n",
       "    .dataframe tbody tr th {\n",
       "        vertical-align: top;\n",
       "    }\n",
       "\n",
       "    .dataframe thead th {\n",
       "        text-align: right;\n",
       "    }\n",
       "</style>\n",
       "<table border=\"1\" class=\"dataframe\">\n",
       "  <thead>\n",
       "    <tr style=\"text-align: right;\">\n",
       "      <th></th>\n",
       "      <th>ID</th>\n",
       "      <th>shop_id</th>\n",
       "      <th>item_id</th>\n",
       "      <th>item_name</th>\n",
       "      <th>item_category_id</th>\n",
       "      <th>item_category_name</th>\n",
       "      <th>shop_name</th>\n",
       "      <th>months_since_last_sale</th>\n",
       "      <th>revenue_lag_1</th>\n",
       "      <th>revenue_lag_2</th>\n",
       "      <th>...</th>\n",
       "      <th>item_cnt_month_lag_2</th>\n",
       "      <th>item_cnt_month_lag_3</th>\n",
       "      <th>item_cnt_month_lag_6</th>\n",
       "      <th>item_cnt_month_lag_12</th>\n",
       "      <th>item_cnt_month_cat__lag_1</th>\n",
       "      <th>item_cnt_month_cat__lag_2</th>\n",
       "      <th>item_cnt_month_cat__lag_3</th>\n",
       "      <th>item_cnt_month_cat_shop__lag_1</th>\n",
       "      <th>item_cnt_month_cat_shop__lag_2</th>\n",
       "      <th>item_cnt_month_cat_shop__lag_3</th>\n",
       "    </tr>\n",
       "  </thead>\n",
       "  <tbody>\n",
       "    <tr>\n",
       "      <th>0</th>\n",
       "      <td>0</td>\n",
       "      <td>5</td>\n",
       "      <td>5037</td>\n",
       "      <td>NHL 15 [PS3, русские субтитры]</td>\n",
       "      <td>19</td>\n",
       "      <td>Игры - PS3</td>\n",
       "      <td>Вологда ТРЦ \"Мармелад\"</td>\n",
       "      <td>2</td>\n",
       "      <td>1100220.0</td>\n",
       "      <td>1171450.0</td>\n",
       "      <td>...</td>\n",
       "      <td>1.0</td>\n",
       "      <td>3.0</td>\n",
       "      <td>1.0</td>\n",
       "      <td>1.0</td>\n",
       "      <td>1.647497</td>\n",
       "      <td>2.237653</td>\n",
       "      <td>2.347760</td>\n",
       "      <td>1.704545</td>\n",
       "      <td>2.244898</td>\n",
       "      <td>2.537037</td>\n",
       "    </tr>\n",
       "    <tr>\n",
       "      <th>1</th>\n",
       "      <td>1</td>\n",
       "      <td>5</td>\n",
       "      <td>5320</td>\n",
       "      <td>ONE DIRECTION  Made In The A.M.</td>\n",
       "      <td>55</td>\n",
       "      <td>Музыка - CD локального производства</td>\n",
       "      <td>Вологда ТРЦ \"Мармелад\"</td>\n",
       "      <td>-1</td>\n",
       "      <td>1100220.0</td>\n",
       "      <td>1171450.0</td>\n",
       "      <td>...</td>\n",
       "      <td>0.0</td>\n",
       "      <td>0.0</td>\n",
       "      <td>0.0</td>\n",
       "      <td>0.0</td>\n",
       "      <td>1.349535</td>\n",
       "      <td>1.247020</td>\n",
       "      <td>1.283461</td>\n",
       "      <td>1.191011</td>\n",
       "      <td>1.120000</td>\n",
       "      <td>1.183333</td>\n",
       "    </tr>\n",
       "    <tr>\n",
       "      <th>2</th>\n",
       "      <td>2</td>\n",
       "      <td>5</td>\n",
       "      <td>5233</td>\n",
       "      <td>Need for Speed Rivals (Essentials) [PS3, русск...</td>\n",
       "      <td>19</td>\n",
       "      <td>Игры - PS3</td>\n",
       "      <td>Вологда ТРЦ \"Мармелад\"</td>\n",
       "      <td>1</td>\n",
       "      <td>1100220.0</td>\n",
       "      <td>1171450.0</td>\n",
       "      <td>...</td>\n",
       "      <td>3.0</td>\n",
       "      <td>1.0</td>\n",
       "      <td>3.0</td>\n",
       "      <td>0.0</td>\n",
       "      <td>1.647497</td>\n",
       "      <td>2.237653</td>\n",
       "      <td>2.347760</td>\n",
       "      <td>1.704545</td>\n",
       "      <td>2.244898</td>\n",
       "      <td>2.537037</td>\n",
       "    </tr>\n",
       "  </tbody>\n",
       "</table>\n",
       "<p>3 rows × 24 columns</p>\n",
       "</div>"
      ],
      "text/plain": [
       "   ID  shop_id  item_id                                          item_name  \\\n",
       "0   0        5     5037                     NHL 15 [PS3, русские субтитры]   \n",
       "1   1        5     5320                    ONE DIRECTION  Made In The A.M.   \n",
       "2   2        5     5233  Need for Speed Rivals (Essentials) [PS3, русск...   \n",
       "\n",
       "   item_category_id                   item_category_name  \\\n",
       "0                19                           Игры - PS3   \n",
       "1                55  Музыка - CD локального производства   \n",
       "2                19                           Игры - PS3   \n",
       "\n",
       "                shop_name  months_since_last_sale  revenue_lag_1  \\\n",
       "0  Вологда ТРЦ \"Мармелад\"                       2      1100220.0   \n",
       "1  Вологда ТРЦ \"Мармелад\"                      -1      1100220.0   \n",
       "2  Вологда ТРЦ \"Мармелад\"                       1      1100220.0   \n",
       "\n",
       "   revenue_lag_2  ...  item_cnt_month_lag_2  item_cnt_month_lag_3  \\\n",
       "0      1171450.0  ...                   1.0                   3.0   \n",
       "1      1171450.0  ...                   0.0                   0.0   \n",
       "2      1171450.0  ...                   3.0                   1.0   \n",
       "\n",
       "   item_cnt_month_lag_6  item_cnt_month_lag_12  item_cnt_month_cat__lag_1  \\\n",
       "0                   1.0                    1.0                   1.647497   \n",
       "1                   0.0                    0.0                   1.349535   \n",
       "2                   3.0                    0.0                   1.647497   \n",
       "\n",
       "   item_cnt_month_cat__lag_2  item_cnt_month_cat__lag_3  \\\n",
       "0                   2.237653                   2.347760   \n",
       "1                   1.247020                   1.283461   \n",
       "2                   2.237653                   2.347760   \n",
       "\n",
       "   item_cnt_month_cat_shop__lag_1  item_cnt_month_cat_shop__lag_2  \\\n",
       "0                        1.704545                        2.244898   \n",
       "1                        1.191011                        1.120000   \n",
       "2                        1.704545                        2.244898   \n",
       "\n",
       "   item_cnt_month_cat_shop__lag_3  \n",
       "0                        2.537037  \n",
       "1                        1.183333  \n",
       "2                        2.537037  \n",
       "\n",
       "[3 rows x 24 columns]"
      ]
     },
     "execution_count": 28,
     "metadata": {},
     "output_type": "execute_result"
    }
   ],
   "source": [
    "test_lagged.head(3)"
   ]
  },
  {
   "cell_type": "markdown",
   "metadata": {},
   "source": [
    "## Add **month, year** features to the **test_lagged** dataframe"
   ]
  },
  {
   "cell_type": "code",
   "execution_count": 29,
   "metadata": {},
   "outputs": [
    {
     "data": {
      "text/html": [
       "<div>\n",
       "<style scoped>\n",
       "    .dataframe tbody tr th:only-of-type {\n",
       "        vertical-align: middle;\n",
       "    }\n",
       "\n",
       "    .dataframe tbody tr th {\n",
       "        vertical-align: top;\n",
       "    }\n",
       "\n",
       "    .dataframe thead th {\n",
       "        text-align: right;\n",
       "    }\n",
       "</style>\n",
       "<table border=\"1\" class=\"dataframe\">\n",
       "  <thead>\n",
       "    <tr style=\"text-align: right;\">\n",
       "      <th></th>\n",
       "      <th>date_block_num</th>\n",
       "      <th>shop_id</th>\n",
       "      <th>item_id</th>\n",
       "      <th>item_cnt_month</th>\n",
       "      <th>item_price</th>\n",
       "      <th>month</th>\n",
       "      <th>year</th>\n",
       "      <th>item_name</th>\n",
       "      <th>item_category_id</th>\n",
       "      <th>item_category_name</th>\n",
       "      <th>...</th>\n",
       "      <th>item_cnt_month_lag_2</th>\n",
       "      <th>item_cnt_month_lag_3</th>\n",
       "      <th>item_cnt_month_lag_6</th>\n",
       "      <th>item_cnt_month_lag_12</th>\n",
       "      <th>item_cnt_month_cat__lag_1</th>\n",
       "      <th>item_cnt_month_cat__lag_2</th>\n",
       "      <th>item_cnt_month_cat__lag_3</th>\n",
       "      <th>item_cnt_month_cat_shop__lag_1</th>\n",
       "      <th>item_cnt_month_cat_shop__lag_2</th>\n",
       "      <th>item_cnt_month_cat_shop__lag_3</th>\n",
       "    </tr>\n",
       "  </thead>\n",
       "  <tbody>\n",
       "    <tr>\n",
       "      <th>10</th>\n",
       "      <td>33</td>\n",
       "      <td>2</td>\n",
       "      <td>31</td>\n",
       "      <td>1.0</td>\n",
       "      <td>399.0</td>\n",
       "      <td>9</td>\n",
       "      <td>2</td>\n",
       "      <td>007: КООРДИНАТЫ «СКАЙФОЛЛ» (BD)</td>\n",
       "      <td>37</td>\n",
       "      <td>Кино - Blu-Ray</td>\n",
       "      <td>...</td>\n",
       "      <td>0.0</td>\n",
       "      <td>0.0</td>\n",
       "      <td>0.0</td>\n",
       "      <td>0.0</td>\n",
       "      <td>1.498482</td>\n",
       "      <td>1.482622</td>\n",
       "      <td>1.370679</td>\n",
       "      <td>1.538462</td>\n",
       "      <td>1.225806</td>\n",
       "      <td>1.074074</td>\n",
       "    </tr>\n",
       "  </tbody>\n",
       "</table>\n",
       "<p>1 rows × 29 columns</p>\n",
       "</div>"
      ],
      "text/plain": [
       "    date_block_num  shop_id  item_id  item_cnt_month  item_price  month  year  \\\n",
       "10              33        2       31             1.0       399.0      9     2   \n",
       "\n",
       "                          item_name  item_category_id item_category_name  ...  \\\n",
       "10  007: КООРДИНАТЫ «СКАЙФОЛЛ» (BD)                37     Кино - Blu-Ray  ...   \n",
       "\n",
       "   item_cnt_month_lag_2  item_cnt_month_lag_3  item_cnt_month_lag_6  \\\n",
       "10                  0.0                   0.0                   0.0   \n",
       "\n",
       "    item_cnt_month_lag_12  item_cnt_month_cat__lag_1  \\\n",
       "10                    0.0                   1.498482   \n",
       "\n",
       "    item_cnt_month_cat__lag_2  item_cnt_month_cat__lag_3  \\\n",
       "10                   1.482622                   1.370679   \n",
       "\n",
       "    item_cnt_month_cat_shop__lag_1  item_cnt_month_cat_shop__lag_2  \\\n",
       "10                        1.538462                        1.225806   \n",
       "\n",
       "    item_cnt_month_cat_shop__lag_3  \n",
       "10                        1.074074  \n",
       "\n",
       "[1 rows x 29 columns]"
      ]
     },
     "execution_count": 29,
     "metadata": {},
     "output_type": "execute_result"
    }
   ],
   "source": [
    "aggregated_lagged[aggregated_lagged['date_block_num'] == 33].head(1)"
   ]
  },
  {
   "cell_type": "markdown",
   "metadata": {},
   "source": [
    "### We can see, that the **test** dataset covers the period with **year=2** and **month=10**"
   ]
  },
  {
   "cell_type": "code",
   "execution_count": 30,
   "metadata": {},
   "outputs": [],
   "source": [
    "test_lagged['month'] = 10\n",
    "test_lagged['year'] = 2"
   ]
  },
  {
   "cell_type": "code",
   "execution_count": 31,
   "metadata": {},
   "outputs": [
    {
     "data": {
      "text/plain": [
       "array([ 0,  5,  2,  3,  4,  1,  9,  6,  8, 11,  7, 10], dtype=int32)"
      ]
     },
     "execution_count": 31,
     "metadata": {},
     "output_type": "execute_result"
    }
   ],
   "source": [
    "aggregated_lagged['month'].unique()"
   ]
  },
  {
   "cell_type": "markdown",
   "metadata": {},
   "source": [
    "## Add **\"number of days in the month\"** feature"
   ]
  },
  {
   "cell_type": "code",
   "execution_count": 32,
   "metadata": {},
   "outputs": [],
   "source": [
    "days = pd.Series([31, 28, 31, 30, 31, 30, 31, 31, 30, 31, 30, 31])\n",
    "aggregated_lagged['days'] = aggregated_lagged['month'].map(days)\n",
    "test_lagged['days'] = test_lagged['month'].map(days)"
   ]
  },
  {
   "cell_type": "code",
   "execution_count": 33,
   "metadata": {},
   "outputs": [
    {
     "data": {
      "text/plain": [
       "0"
      ]
     },
     "execution_count": 33,
     "metadata": {},
     "output_type": "execute_result"
    }
   ],
   "source": [
    "aggregated_lagged.isna().sum().sum()"
   ]
  },
  {
   "cell_type": "code",
   "execution_count": 34,
   "metadata": {},
   "outputs": [
    {
     "data": {
      "text/plain": [
       "0"
      ]
     },
     "execution_count": 34,
     "metadata": {},
     "output_type": "execute_result"
    }
   ],
   "source": [
    "test_lagged.isna().sum().sum()"
   ]
  },
  {
   "cell_type": "markdown",
   "metadata": {},
   "source": [
    "## Add **\"item_price\"** lag features"
   ]
  },
  {
   "cell_type": "markdown",
   "metadata": {},
   "source": [
    "### I will calculate average item price for each item and month across all shops"
   ]
  },
  {
   "cell_type": "code",
   "execution_count": 35,
   "metadata": {},
   "outputs": [],
   "source": [
    "avg_item_price = aggregated_lagged.groupby(['item_id', 'date_block_num'])['item_price'].mean().reset_index()\n",
    "\n",
    "avg_item_price.columns = ['item_id', 'date_block_num', 'avg_item_price']"
   ]
  },
  {
   "cell_type": "code",
   "execution_count": 36,
   "metadata": {},
   "outputs": [
    {
     "data": {
      "text/plain": [
       "0"
      ]
     },
     "execution_count": 36,
     "metadata": {},
     "output_type": "execute_result"
    }
   ],
   "source": [
    "aggregated_lagged = aggregated_lagged.merge(avg_item_price, on=['item_id', 'date_block_num'], how='left')\n",
    "aggregated_lagged.isna().sum().sum()"
   ]
  },
  {
   "cell_type": "code",
   "execution_count": 37,
   "metadata": {},
   "outputs": [],
   "source": [
    "aggregated_lagged = feature_extr.train_add_lag_features(aggregated_lagged, 'avg_item_price', on_columns=['item_id', 'date_block_num'], lags=[1, 2, 3, 4, 5, 6])"
   ]
  },
  {
   "cell_type": "code",
   "execution_count": 38,
   "metadata": {},
   "outputs": [
    {
     "data": {
      "text/html": [
       "<div>\n",
       "<style scoped>\n",
       "    .dataframe tbody tr th:only-of-type {\n",
       "        vertical-align: middle;\n",
       "    }\n",
       "\n",
       "    .dataframe tbody tr th {\n",
       "        vertical-align: top;\n",
       "    }\n",
       "\n",
       "    .dataframe thead th {\n",
       "        text-align: right;\n",
       "    }\n",
       "</style>\n",
       "<table border=\"1\" class=\"dataframe\">\n",
       "  <thead>\n",
       "    <tr style=\"text-align: right;\">\n",
       "      <th></th>\n",
       "      <th>date_block_num</th>\n",
       "      <th>shop_id</th>\n",
       "      <th>item_id</th>\n",
       "      <th>item_cnt_month</th>\n",
       "      <th>item_price</th>\n",
       "      <th>month</th>\n",
       "      <th>year</th>\n",
       "      <th>item_name</th>\n",
       "      <th>item_category_id</th>\n",
       "      <th>item_category_name</th>\n",
       "      <th>...</th>\n",
       "      <th>item_cnt_month_cat_shop__lag_2</th>\n",
       "      <th>item_cnt_month_cat_shop__lag_3</th>\n",
       "      <th>days</th>\n",
       "      <th>avg_item_price</th>\n",
       "      <th>avg_item_price_lag_1</th>\n",
       "      <th>avg_item_price_lag_2</th>\n",
       "      <th>avg_item_price_lag_3</th>\n",
       "      <th>avg_item_price_lag_4</th>\n",
       "      <th>avg_item_price_lag_5</th>\n",
       "      <th>avg_item_price_lag_6</th>\n",
       "    </tr>\n",
       "  </thead>\n",
       "  <tbody>\n",
       "    <tr>\n",
       "      <th>0</th>\n",
       "      <td>0</td>\n",
       "      <td>2</td>\n",
       "      <td>27</td>\n",
       "      <td>1.0</td>\n",
       "      <td>2499.0</td>\n",
       "      <td>0</td>\n",
       "      <td>0</td>\n",
       "      <td>007 Legends [PS3, русская версия]</td>\n",
       "      <td>19</td>\n",
       "      <td>Игры - PS3</td>\n",
       "      <td>...</td>\n",
       "      <td>0.000000</td>\n",
       "      <td>0.000000</td>\n",
       "      <td>31</td>\n",
       "      <td>2325.000000</td>\n",
       "      <td>0.000000</td>\n",
       "      <td>0.0</td>\n",
       "      <td>0.0</td>\n",
       "      <td>0.0</td>\n",
       "      <td>0.0</td>\n",
       "      <td>0.0</td>\n",
       "    </tr>\n",
       "    <tr>\n",
       "      <th>1</th>\n",
       "      <td>17</td>\n",
       "      <td>2</td>\n",
       "      <td>27</td>\n",
       "      <td>1.0</td>\n",
       "      <td>498.0</td>\n",
       "      <td>5</td>\n",
       "      <td>1</td>\n",
       "      <td>007 Legends [PS3, русская версия]</td>\n",
       "      <td>19</td>\n",
       "      <td>Игры - PS3</td>\n",
       "      <td>...</td>\n",
       "      <td>1.742424</td>\n",
       "      <td>1.970149</td>\n",
       "      <td>30</td>\n",
       "      <td>498.000000</td>\n",
       "      <td>498.000000</td>\n",
       "      <td>0.0</td>\n",
       "      <td>998.0</td>\n",
       "      <td>0.0</td>\n",
       "      <td>998.0</td>\n",
       "      <td>1048.0</td>\n",
       "    </tr>\n",
       "    <tr>\n",
       "      <th>2</th>\n",
       "      <td>2</td>\n",
       "      <td>2</td>\n",
       "      <td>30</td>\n",
       "      <td>1.0</td>\n",
       "      <td>359.0</td>\n",
       "      <td>2</td>\n",
       "      <td>0</td>\n",
       "      <td>007: КООРДИНАТЫ «СКАЙФОЛЛ»</td>\n",
       "      <td>40</td>\n",
       "      <td>Кино - DVD</td>\n",
       "      <td>...</td>\n",
       "      <td>1.136364</td>\n",
       "      <td>0.000000</td>\n",
       "      <td>31</td>\n",
       "      <td>388.716522</td>\n",
       "      <td>382.645966</td>\n",
       "      <td>0.0</td>\n",
       "      <td>0.0</td>\n",
       "      <td>0.0</td>\n",
       "      <td>0.0</td>\n",
       "      <td>0.0</td>\n",
       "    </tr>\n",
       "  </tbody>\n",
       "</table>\n",
       "<p>3 rows × 37 columns</p>\n",
       "</div>"
      ],
      "text/plain": [
       "   date_block_num  shop_id  item_id  item_cnt_month  item_price  month  year  \\\n",
       "0               0        2       27             1.0      2499.0      0     0   \n",
       "1              17        2       27             1.0       498.0      5     1   \n",
       "2               2        2       30             1.0       359.0      2     0   \n",
       "\n",
       "                           item_name  item_category_id item_category_name  \\\n",
       "0  007 Legends [PS3, русская версия]                19         Игры - PS3   \n",
       "1  007 Legends [PS3, русская версия]                19         Игры - PS3   \n",
       "2         007: КООРДИНАТЫ «СКАЙФОЛЛ»                40         Кино - DVD   \n",
       "\n",
       "   ... item_cnt_month_cat_shop__lag_2  item_cnt_month_cat_shop__lag_3  days  \\\n",
       "0  ...                       0.000000                        0.000000    31   \n",
       "1  ...                       1.742424                        1.970149    30   \n",
       "2  ...                       1.136364                        0.000000    31   \n",
       "\n",
       "   avg_item_price  avg_item_price_lag_1  avg_item_price_lag_2  \\\n",
       "0     2325.000000              0.000000                   0.0   \n",
       "1      498.000000            498.000000                   0.0   \n",
       "2      388.716522            382.645966                   0.0   \n",
       "\n",
       "   avg_item_price_lag_3  avg_item_price_lag_4  avg_item_price_lag_5  \\\n",
       "0                   0.0                   0.0                   0.0   \n",
       "1                 998.0                   0.0                 998.0   \n",
       "2                   0.0                   0.0                   0.0   \n",
       "\n",
       "   avg_item_price_lag_6  \n",
       "0                   0.0  \n",
       "1                1048.0  \n",
       "2                   0.0  \n",
       "\n",
       "[3 rows x 37 columns]"
      ]
     },
     "execution_count": 38,
     "metadata": {},
     "output_type": "execute_result"
    }
   ],
   "source": [
    "aggregated_lagged.head(3)"
   ]
  },
  {
   "cell_type": "markdown",
   "metadata": {},
   "source": [
    "### Do the same for the **test** dataframe"
   ]
  },
  {
   "cell_type": "code",
   "execution_count": 38,
   "metadata": {},
   "outputs": [],
   "source": [
    "test_lagged = feature_extr.test_add_lag_features(test_lagged, aggregated_lagged, col='avg_item_price', on_columns=['item_id'], lags=[1, 2, 3, 4, 5, 6])"
   ]
  },
  {
   "cell_type": "code",
   "execution_count": 39,
   "metadata": {},
   "outputs": [
    {
     "data": {
      "text/html": [
       "<div>\n",
       "<style scoped>\n",
       "    .dataframe tbody tr th:only-of-type {\n",
       "        vertical-align: middle;\n",
       "    }\n",
       "\n",
       "    .dataframe tbody tr th {\n",
       "        vertical-align: top;\n",
       "    }\n",
       "\n",
       "    .dataframe thead th {\n",
       "        text-align: right;\n",
       "    }\n",
       "</style>\n",
       "<table border=\"1\" class=\"dataframe\">\n",
       "  <thead>\n",
       "    <tr style=\"text-align: right;\">\n",
       "      <th></th>\n",
       "      <th>ID</th>\n",
       "      <th>shop_id</th>\n",
       "      <th>item_id</th>\n",
       "      <th>item_name</th>\n",
       "      <th>item_category_id</th>\n",
       "      <th>item_category_name</th>\n",
       "      <th>shop_name</th>\n",
       "      <th>months_since_last_sale</th>\n",
       "      <th>revenue_lag_1</th>\n",
       "      <th>revenue_lag_2</th>\n",
       "      <th>...</th>\n",
       "      <th>item_cnt_month_cat_shop__lag_3</th>\n",
       "      <th>month</th>\n",
       "      <th>year</th>\n",
       "      <th>days</th>\n",
       "      <th>avg_item_price_lag_1</th>\n",
       "      <th>avg_item_price_lag_2</th>\n",
       "      <th>avg_item_price_lag_3</th>\n",
       "      <th>avg_item_price_lag_4</th>\n",
       "      <th>avg_item_price_lag_5</th>\n",
       "      <th>avg_item_price_lag_6</th>\n",
       "    </tr>\n",
       "  </thead>\n",
       "  <tbody>\n",
       "    <tr>\n",
       "      <th>0</th>\n",
       "      <td>0</td>\n",
       "      <td>5</td>\n",
       "      <td>5037</td>\n",
       "      <td>NHL 15 [PS3, русские субтитры]</td>\n",
       "      <td>19</td>\n",
       "      <td>Игры - PS3</td>\n",
       "      <td>Вологда ТРЦ \"Мармелад\"</td>\n",
       "      <td>2</td>\n",
       "      <td>1100220.0</td>\n",
       "      <td>1171450.0</td>\n",
       "      <td>...</td>\n",
       "      <td>2.537037</td>\n",
       "      <td>10</td>\n",
       "      <td>2</td>\n",
       "      <td>30</td>\n",
       "      <td>1499.0</td>\n",
       "      <td>930.941772</td>\n",
       "      <td>918.377258</td>\n",
       "      <td>1485.070068</td>\n",
       "      <td>1346.308105</td>\n",
       "      <td>1512.057617</td>\n",
       "    </tr>\n",
       "    <tr>\n",
       "      <th>1</th>\n",
       "      <td>1</td>\n",
       "      <td>5</td>\n",
       "      <td>5320</td>\n",
       "      <td>ONE DIRECTION  Made In The A.M.</td>\n",
       "      <td>55</td>\n",
       "      <td>Музыка - CD локального производства</td>\n",
       "      <td>Вологда ТРЦ \"Мармелад\"</td>\n",
       "      <td>-1</td>\n",
       "      <td>1100220.0</td>\n",
       "      <td>1171450.0</td>\n",
       "      <td>...</td>\n",
       "      <td>1.183333</td>\n",
       "      <td>10</td>\n",
       "      <td>2</td>\n",
       "      <td>30</td>\n",
       "      <td>0.0</td>\n",
       "      <td>0.000000</td>\n",
       "      <td>0.000000</td>\n",
       "      <td>0.000000</td>\n",
       "      <td>0.000000</td>\n",
       "      <td>0.000000</td>\n",
       "    </tr>\n",
       "    <tr>\n",
       "      <th>2</th>\n",
       "      <td>2</td>\n",
       "      <td>5</td>\n",
       "      <td>5233</td>\n",
       "      <td>Need for Speed Rivals (Essentials) [PS3, русск...</td>\n",
       "      <td>19</td>\n",
       "      <td>Игры - PS3</td>\n",
       "      <td>Вологда ТРЦ \"Мармелад\"</td>\n",
       "      <td>1</td>\n",
       "      <td>1100220.0</td>\n",
       "      <td>1171450.0</td>\n",
       "      <td>...</td>\n",
       "      <td>2.537037</td>\n",
       "      <td>10</td>\n",
       "      <td>2</td>\n",
       "      <td>30</td>\n",
       "      <td>1199.0</td>\n",
       "      <td>702.593750</td>\n",
       "      <td>698.031372</td>\n",
       "      <td>1198.991699</td>\n",
       "      <td>656.301819</td>\n",
       "      <td>779.121460</td>\n",
       "    </tr>\n",
       "  </tbody>\n",
       "</table>\n",
       "<p>3 rows × 33 columns</p>\n",
       "</div>"
      ],
      "text/plain": [
       "   ID  shop_id  item_id                                          item_name  \\\n",
       "0   0        5     5037                     NHL 15 [PS3, русские субтитры]   \n",
       "1   1        5     5320                    ONE DIRECTION  Made In The A.M.   \n",
       "2   2        5     5233  Need for Speed Rivals (Essentials) [PS3, русск...   \n",
       "\n",
       "   item_category_id                   item_category_name  \\\n",
       "0                19                           Игры - PS3   \n",
       "1                55  Музыка - CD локального производства   \n",
       "2                19                           Игры - PS3   \n",
       "\n",
       "                shop_name  months_since_last_sale  revenue_lag_1  \\\n",
       "0  Вологда ТРЦ \"Мармелад\"                       2      1100220.0   \n",
       "1  Вологда ТРЦ \"Мармелад\"                      -1      1100220.0   \n",
       "2  Вологда ТРЦ \"Мармелад\"                       1      1100220.0   \n",
       "\n",
       "   revenue_lag_2  ...  item_cnt_month_cat_shop__lag_3  month  year  days  \\\n",
       "0      1171450.0  ...                        2.537037     10     2    30   \n",
       "1      1171450.0  ...                        1.183333     10     2    30   \n",
       "2      1171450.0  ...                        2.537037     10     2    30   \n",
       "\n",
       "   avg_item_price_lag_1  avg_item_price_lag_2  avg_item_price_lag_3  \\\n",
       "0                1499.0            930.941772            918.377258   \n",
       "1                   0.0              0.000000              0.000000   \n",
       "2                1199.0            702.593750            698.031372   \n",
       "\n",
       "   avg_item_price_lag_4  avg_item_price_lag_5  avg_item_price_lag_6  \n",
       "0           1485.070068           1346.308105           1512.057617  \n",
       "1              0.000000              0.000000              0.000000  \n",
       "2           1198.991699            656.301819            779.121460  \n",
       "\n",
       "[3 rows x 33 columns]"
      ]
     },
     "execution_count": 39,
     "metadata": {},
     "output_type": "execute_result"
    }
   ],
   "source": [
    "test_lagged.head(3)"
   ]
  },
  {
   "cell_type": "markdown",
   "metadata": {},
   "source": [
    "## Difference in columns sets"
   ]
  },
  {
   "cell_type": "code",
   "execution_count": 40,
   "metadata": {},
   "outputs": [
    {
     "data": {
      "text/plain": [
       "{'avg_item_price', 'date_block_num', 'item_cnt_month', 'item_price', 'revenue'}"
      ]
     },
     "execution_count": 40,
     "metadata": {},
     "output_type": "execute_result"
    }
   ],
   "source": [
    "train_set = set(aggregated_lagged.columns.to_list())\n",
    "test_set = set(test_lagged.columns.to_list())\n",
    "\n",
    "train_set - test_set"
   ]
  },
  {
   "cell_type": "markdown",
   "metadata": {},
   "source": [
    "### These features are not presented in the **test** dataset, so it's necessary to remove them in the future"
   ]
  },
  {
   "cell_type": "markdown",
   "metadata": {},
   "source": [
    "## Save transformed dataframes to .csv files"
   ]
  },
  {
   "cell_type": "code",
   "execution_count": 46,
   "metadata": {},
   "outputs": [],
   "source": [
    "aggregated_lagged.to_csv('../data/result_train.csv', index=False)\n",
    "test_lagged.to_csv('../data/result_test.csv', index=False)"
   ]
  },
  {
   "cell_type": "markdown",
   "metadata": {},
   "source": [
    "# Now compare FeatureExtractionLayer methods train_transform() and test_transform() with the results we got above"
   ]
  },
  {
   "cell_type": "code",
   "execution_count": 41,
   "metadata": {},
   "outputs": [],
   "source": [
    "second_aggregated_lagged = feature_extr.train_transform(second_train_df, second_aggregated_train_df)"
   ]
  },
  {
   "cell_type": "code",
   "execution_count": 42,
   "metadata": {},
   "outputs": [
    {
     "data": {
      "text/html": [
       "<div>\n",
       "<style scoped>\n",
       "    .dataframe tbody tr th:only-of-type {\n",
       "        vertical-align: middle;\n",
       "    }\n",
       "\n",
       "    .dataframe tbody tr th {\n",
       "        vertical-align: top;\n",
       "    }\n",
       "\n",
       "    .dataframe thead tr th {\n",
       "        text-align: left;\n",
       "    }\n",
       "</style>\n",
       "<table border=\"1\" class=\"dataframe\">\n",
       "  <thead>\n",
       "  </thead>\n",
       "  <tbody>\n",
       "  </tbody>\n",
       "</table>\n",
       "</div>"
      ],
      "text/plain": [
       "Empty DataFrame\n",
       "Columns: []\n",
       "Index: []"
      ]
     },
     "execution_count": 42,
     "metadata": {},
     "output_type": "execute_result"
    }
   ],
   "source": [
    "aggregated_lagged.compare(second_aggregated_lagged)"
   ]
  },
  {
   "cell_type": "markdown",
   "metadata": {},
   "source": [
    "### pandas.DataFrame.compare() method returns a DataFrame with differences. We got nothing, so the **aggregated_lagged and second_aggregated_lagged DataFrames are identical**"
   ]
  },
  {
   "cell_type": "code",
   "execution_count": 43,
   "metadata": {},
   "outputs": [],
   "source": [
    "second_test_lagged = feature_extr.test_transform(second_train_df, second_aggregated_train_df, second_test_df)"
   ]
  },
  {
   "cell_type": "code",
   "execution_count": 44,
   "metadata": {},
   "outputs": [
    {
     "data": {
      "text/html": [
       "<div>\n",
       "<style scoped>\n",
       "    .dataframe tbody tr th:only-of-type {\n",
       "        vertical-align: middle;\n",
       "    }\n",
       "\n",
       "    .dataframe tbody tr th {\n",
       "        vertical-align: top;\n",
       "    }\n",
       "\n",
       "    .dataframe thead tr th {\n",
       "        text-align: left;\n",
       "    }\n",
       "</style>\n",
       "<table border=\"1\" class=\"dataframe\">\n",
       "  <thead>\n",
       "  </thead>\n",
       "  <tbody>\n",
       "  </tbody>\n",
       "</table>\n",
       "</div>"
      ],
      "text/plain": [
       "Empty DataFrame\n",
       "Columns: []\n",
       "Index: []"
      ]
     },
     "execution_count": 44,
     "metadata": {},
     "output_type": "execute_result"
    }
   ],
   "source": [
    "test_lagged.compare(second_test_lagged)"
   ]
  },
  {
   "cell_type": "markdown",
   "metadata": {},
   "source": [
    "### We got nothing returned again, so the **test_lagged and second_test_lagged DataFrames are identical**"
   ]
  },
  {
   "cell_type": "markdown",
   "metadata": {},
   "source": [
    "## **Conclusion:**\n",
    "\n",
    "- created a **FeatureExtractionLayer** class to transform both train and test datasets\n",
    "- clipped **item_cnt_month** values into [0, 20] range\n",
    "- added **item_cnt_month** lag features\n",
    "- added **revenue** lag features\n",
    "- added **months_since_last_sale** feature\n",
    "- added **avg_item_price** for each (item, month) pair lag features\n",
    "- added **days** (num of days in a month) feature\n",
    "- created **days, months** features in the test dataset\n",
    "\n",
    "### 1. All new feature values both for train and test datasets are calculated using historical data.\n",
    "### 2. Train dataset (after deleting a few features listed above) doesn't contain any extra features / information that is not presented in the test one.\n",
    "\n",
    "### That's why this feature extraction step **doesn't produce any target or data leakage**."
   ]
  }
 ],
 "metadata": {
  "kernelspec": {
   "display_name": "ml",
   "language": "python",
   "name": "python3"
  },
  "language_info": {
   "codemirror_mode": {
    "name": "ipython",
    "version": 3
   },
   "file_extension": ".py",
   "mimetype": "text/x-python",
   "name": "python",
   "nbconvert_exporter": "python",
   "pygments_lexer": "ipython3",
   "version": "3.11.9"
  }
 },
 "nbformat": 4,
 "nbformat_minor": 2
}
